{
 "cells": [
  {
   "cell_type": "code",
   "execution_count": null,
   "metadata": {},
   "outputs": [],
   "source": [
    "!pip install vertexai"
   ]
  },
  {
   "cell_type": "code",
   "execution_count": null,
   "metadata": {},
   "outputs": [],
   "source": [
    "# !pip3 install --upgrade google-cloud-aiplatform # old verion\n",
    "!pip install -U google-cloud-aiplatform \"shapely<2\" # workaround for the issue"
   ]
  },
  {
   "cell_type": "code",
   "execution_count": 11,
   "metadata": {},
   "outputs": [],
   "source": [
    "USE_COLAB = False\n",
    "if USE_COLAB:\n",
    "    from google.colab import auth\n",
    "    auth.authenticate_user()\n",
    "else:\n",
    "    !gcloud auth application-default login"
   ]
  },
  {
   "cell_type": "code",
   "execution_count": 1,
   "metadata": {},
   "outputs": [
    {
     "data": {
      "text/plain": [
       "(<google.oauth2.credentials.Credentials at 0x240082fafc0>,\n",
       " 'gdg-vertex-ai-workshop-curl')"
      ]
     },
     "execution_count": 1,
     "metadata": {},
     "output_type": "execute_result"
    }
   ],
   "source": [
    "import google.auth\n",
    "google.auth.default() # get the credentials authorized , when gcloud init completed"
   ]
  },
  {
   "cell_type": "code",
   "execution_count": 2,
   "metadata": {},
   "outputs": [],
   "source": [
    "import pandas as pd\n",
    "import matplotlib.pyplot as plt\n",
    "import seaborn as sns\n",
    "import json\n",
    "import os\n",
    "import yaml\n",
    "import base64\n",
    "import pathlib\n",
    "import pprint\n",
    "import requests\n",
    "import mimetypes\n",
    "from IPython.display import Markdown\n",
    "import time"
   ]
  },
  {
   "cell_type": "code",
   "execution_count": 3,
   "metadata": {},
   "outputs": [],
   "source": [
    "import base64\n",
    "import vertexai\n",
    "from vertexai.generative_models import GenerativeModel, Part\n",
    "import vertexai.preview.generative_models as generative_models\n",
    "\n",
    "\n",
    "textsi_1 = \"\"\"Cymbal Direct is an online direct-to-consumer footwear and apparel retailer headquartered in Chicago. \n",
    "\n",
    "Founded in 2008, Cymbal Direct (originally ‘Antern’) is a fair trade and B Corp certified sustainability-focused company that works with cotton farmers to reinvest in their communities. The price range for Cymbal clothes is typically between $50 and $300.\n",
    "\n",
    "In 2010, as Cymbal Group began focusing on digitally-savvy businesses that appealed to a younger demographic of shoppers, the holding company acquired Antern and renamed it Cymbal Direct. In 2019, Cymbal Direct reported an annual revenue of $7 million and employed a total of 32 employees. \n",
    "\n",
    "Cymbal Direct is a digitally native retailer. \n",
    "\n",
    "You are a personalized wiki of the company Cymbal.\"\"\"\n",
    "\n",
    "textsi_2 = \"\"\"\n",
    "I am a mental health professional and I am here to help you.I am not a doctor, but I can provide you with some general information about mental health. If you are in crisis, please call 911 or go to the nearest emergency room. If you are in need of immediate help, please call the National\"\"\"\n",
    "\n",
    "generation_config = {\n",
    "    \"max_output_tokens\": 2048,# 1024,\n",
    "    \"temperature\": 0.2,# 0.6,#0.2,\n",
    "    \"top_p\": 1,\n",
    "    \"top_k\": 1,\n",
    "}\n",
    "\n",
    "safety_settings = {\n",
    "    generative_models.HarmCategory.HARM_CATEGORY_HATE_SPEECH: generative_models.HarmBlockThreshold.BLOCK_MEDIUM_AND_ABOVE,\n",
    "    generative_models.HarmCategory.HARM_CATEGORY_DANGEROUS_CONTENT: generative_models.HarmBlockThreshold.BLOCK_MEDIUM_AND_ABOVE,\n",
    "    generative_models.HarmCategory.HARM_CATEGORY_SEXUALLY_EXPLICIT: generative_models.HarmBlockThreshold.BLOCK_MEDIUM_AND_ABOVE,\n",
    "    generative_models.HarmCategory.HARM_CATEGORY_HARASSMENT: generative_models.HarmBlockThreshold.BLOCK_MEDIUM_AND_ABOVE,\n",
    "}"
   ]
  },
  {
   "cell_type": "markdown",
   "metadata": {},
   "source": [
    "## Model init"
   ]
  },
  {
   "cell_type": "code",
   "execution_count": 4,
   "metadata": {},
   "outputs": [],
   "source": [
    "vertexai.init(project=\"gdg-vertex-ai-workshop-curl\", location=\"us-central1\")\n",
    "\n",
    "model = GenerativeModel(\n",
    "    # \"gemini-1.0-pro-002\",\n",
    "    \"gemini-1.0-pro-001\",\n",
    "    # system_instruction=[textsi_2]\n",
    "  )"
   ]
  },
  {
   "cell_type": "code",
   "execution_count": 5,
   "metadata": {},
   "outputs": [],
   "source": [
    "def multiturn_generate_content():\n",
    "  chat = model.start_chat()\n",
    "  print(chat.send_message(\n",
    "      [\"\"\"What does Cymbal sell?\"\"\"],\n",
    "      generation_config=generation_config,\n",
    "      safety_settings=safety_settings\n",
    "  ))\n",
    "  print(chat.send_message(\n",
    "      [\"\"\"When was the company founded?\"\"\"],\n",
    "      generation_config=generation_config,\n",
    "      safety_settings=safety_settings\n",
    "  ))\n",
    "  print(chat.send_message(\n",
    "      [\"\"\"How much is the price of Cymbal clothes?\"\"\"],\n",
    "      generation_config=generation_config,\n",
    "      safety_settings=safety_settings\n",
    "  ))"
   ]
  },
  {
   "cell_type": "code",
   "execution_count": 6,
   "metadata": {},
   "outputs": [
    {
     "name": "stdout",
     "output_type": "stream",
     "text": [
      "The sky appears blue because of a phenomenon known as Rayleigh scattering. When sunlight enters the Earth's atmosphere, it encounters molecules of nitrogen and oxygen, which makes up about 99% of the atmosphere. These molecules are smaller than the wavelength of visible light, so they scatter the light in all directions. However, blue light has a shorter wavelength than other colors, so it is scattered more effectively. This means that more blue light is scattered towards our eyes, which is why the sky appears blue.\n",
      "\n",
      "The amount of scattering depends on the wavelength of light and the size of the scattering particles. Shorter wavelengths (blue light) are scattered more than longer wavelengths (red light). This is because the scattering particles are smaller than the wavelength of blue light, but larger than the wavelength of red light.\n",
      "\n",
      "Rayleigh scattering is also responsible for the reddish color of the sky at sunset and sunrise. As the sun is lower in the sky, the sunlight has to travel through more of the atmosphere to reach our eyes. This means that more of the blue light is scattered away, leaving the red light to reach our eyes."
     ]
    }
   ],
   "source": [
    "# multiturn_generate_content()\n",
    "responses = model.generate_content(\"Why is the sky blue?\", stream=True)\n",
    "\n",
    "for response in responses:\n",
    "    print(response.text, end=\"\")\n",
    "    # Markdown(response.text)"
   ]
  },
  {
   "cell_type": "markdown",
   "metadata": {},
   "source": [
    "# Start AI mental Project\n",
    "\n",
    "## EDA Dataset\n",
    "\n",
    "### Chat Mode Initial"
   ]
  },
  {
   "cell_type": "code",
   "execution_count": 7,
   "metadata": {},
   "outputs": [],
   "source": [
    "def initChatMode():\n",
    "  convo = model.start_chat(history=[])\n",
    "  return convo\n",
    "# convo = model.start_chat(history=[])\n",
    "convo = initChatMode()"
   ]
  },
  {
   "cell_type": "code",
   "execution_count": 11,
   "metadata": {},
   "outputs": [],
   "source": [
    "def singleChat(message):\n",
    "  chat = model.start_chat()\n",
    "  response = chat.send_message(\n",
    "      [message],\n",
    "      generation_config=generation_config,\n",
    "      safety_settings=safety_settings\n",
    "  )\n",
    "  print(response)\n",
    "  return response\n"
   ]
  },
  {
   "cell_type": "code",
   "execution_count": null,
   "metadata": {},
   "outputs": [],
   "source": []
  },
  {
   "cell_type": "code",
   "execution_count": 12,
   "metadata": {},
   "outputs": [],
   "source": [
    "def generateResponse(message):\n",
    "    response = model.generate_content(f\"\"\"\n",
    "    {message}\"\"\")\n",
    "    # print(response.text)\n",
    "    return response.text"
   ]
  },
  {
   "cell_type": "code",
   "execution_count": 13,
   "metadata": {},
   "outputs": [],
   "source": [
    "def generateResponseInstr(prompTemp,message):\n",
    "    response = model.generate_content(f\"\"\"\n",
    "    {prompTemp}\n",
    "    {message}\"\"\")\n",
    "    # print(response.text)\n",
    "    return response, response.text\n"
   ]
  },
  {
   "cell_type": "code",
   "execution_count": 14,
   "metadata": {},
   "outputs": [],
   "source": [
    "def sendMessage(message):\n",
    "    response = convo.send_message(message)\n",
    "    return  response.text # convo.last.text #,"
   ]
  },
  {
   "cell_type": "markdown",
   "metadata": {},
   "source": [
    "## Load Dataset\n",
    "#### Load  **Mental Health Conversational Data** dataset\n",
    "https://www.kaggle.com/datasets/elvis23/mental-health-conversational-data \n",
    "###### file\n",
    "intents.json"
   ]
  },
  {
   "cell_type": "code",
   "execution_count": 15,
   "metadata": {},
   "outputs": [],
   "source": [
    "## Define Dataset Path\n",
    "intentsJson = 'intents.json'\n",
    "xlsxName = 'dataset.xlsx'\n",
    "healthanxiety = 'healthanxiety_dataset.csv'\n",
    "psQAJson = 'PsyQA_example.json'\n",
    "depressionYML= \"depression.yml\"\n",
    "depressEmoTrain = \"train.json\"\n",
    "depressEmoTest = \"test.json\"\n",
    "depressEmoVal = \"val.json\"\n",
    "llmGenTrain = \"lllm_generate_datasets_depress_anxioty.csv\""
   ]
  },
  {
   "cell_type": "code",
   "execution_count": 16,
   "metadata": {},
   "outputs": [
    {
     "data": {
      "text/plain": [
       "{'intents': [{'tag': 'greeting',\n",
       "   'patterns': ['Hi',\n",
       "    'Hey',\n",
       "    'Is anyone there?',\n",
       "    'Hi there',\n",
       "    'Hello',\n",
       "    'Hey there',\n",
       "    'Howdy',\n",
       "    'Hola',\n",
       "    'Bonjour',\n",
       "    'Konnichiwa',\n",
       "    'Guten tag',\n",
       "    'Ola'],\n",
       "   'responses': ['Hello there. Tell me how are you feeling today?',\n",
       "    'Hi there. What brings you here today?',\n",
       "    'Hi there. How are you feeling today?',\n",
       "    'Great to see you. How do you feel currently?',\n",
       "    \"Hello there. Glad to see you're back. What's going on in your world right now?\"]},\n",
       "  {'tag': 'morning',\n",
       "   'patterns': ['Good morning'],\n",
       "   'responses': [\"Good morning. I hope you had a good night's sleep. How are you feeling today? \"]},\n",
       "  {'tag': 'afternoon',\n",
       "   'patterns': ['Good afternoon'],\n",
       "   'responses': ['Good afternoon. How is your day going?']},\n",
       "  {'tag': 'evening',\n",
       "   'patterns': ['Good evening'],\n",
       "   'responses': ['Good evening. How has your day been?']},\n",
       "  {'tag': 'night',\n",
       "   'patterns': ['Good night'],\n",
       "   'responses': ['Good night. Get some proper sleep',\n",
       "    'Good night. Sweet dreams.']},\n",
       "  {'tag': 'goodbye',\n",
       "   'patterns': ['Bye',\n",
       "    'See you later',\n",
       "    'Goodbye',\n",
       "    'Au revoir',\n",
       "    'Sayonara',\n",
       "    'ok bye',\n",
       "    'Bye then',\n",
       "    'Fare thee well'],\n",
       "   'responses': ['See you later.',\n",
       "    'Have a nice day.',\n",
       "    'Bye! Come back again.',\n",
       "    \"I'll see you soon.\"]},\n",
       "  {'tag': 'thanks',\n",
       "   'patterns': ['Thanks',\n",
       "    'Thank you',\n",
       "    \"That's helpful\",\n",
       "    'Thanks for the help',\n",
       "    'Than you very much'],\n",
       "   'responses': ['Happy to help!',\n",
       "    'Any time!',\n",
       "    'My pleasure',\n",
       "    \"You're most welcome!\"]},\n",
       "  {'tag': 'no-response',\n",
       "   'patterns': [''],\n",
       "   'responses': [\"Sorry, I didn't understand you.\",\n",
       "    'Please go on.',\n",
       "    'Not sure I understand that.',\n",
       "    \"Please don't hesitate to talk to me.\"]},\n",
       "  {'tag': 'neutral-response',\n",
       "   'patterns': ['nothing much'],\n",
       "   'responses': ['Oh I see. Do you want to talk about something?']},\n",
       "  {'tag': 'about',\n",
       "   'patterns': ['Who are you?',\n",
       "    'What are you?',\n",
       "    'Who you are?',\n",
       "    'Tell me more about yourself.',\n",
       "    'What is your name?',\n",
       "    'What should I call you?',\n",
       "    \"What's your name?\",\n",
       "    'Tell me about yourself'],\n",
       "   'responses': [\"I'm Pandora, your Personal Therapeutic AI Assistant. How are you feeling today\",\n",
       "    \"I'm Pandora, a Therapeutic AI Assitant designed to assist you. Tell me about yourself.\",\n",
       "    \"I'm Pandora. I am a conversational agent designed to mimic a therapist. So how are you feeling today?\",\n",
       "    'You can call me Pandora.',\n",
       "    \"I'm Pandora!\",\n",
       "    'Call me Pandora']},\n",
       "  {'tag': 'skill',\n",
       "   'patterns': ['What can you do?'],\n",
       "   'responses': [\"I can provide general advice regarding anxiety and depression, answer questions related to mental health and make daily conversations. Do not consider me as a subsitute for an actual mental healthcare worker. Please seek help if you don't feel satisfied with me.\"]},\n",
       "  {'tag': 'creation',\n",
       "   'patterns': ['Who created you?',\n",
       "    'How were you made?',\n",
       "    'How were you created?'],\n",
       "   'responses': ['I was created by >.',\n",
       "    'I was trained on a text dataset using Deep Learning & Natural Language Processing techniques',\n",
       "    'The real question is: Who created you?']},\n",
       "  {'tag': 'name',\n",
       "   'patterns': ['My name is ', 'I am name.', 'I go by '],\n",
       "   'responses': ['Oh nice to meet you. Tell me how was your week?',\n",
       "    'Nice to meet you. So tell me. How do you feel today?',\n",
       "    \"That's a great name. Tell me more about yourself.\"]},\n",
       "  {'tag': 'help',\n",
       "   'patterns': ['Could you help me?',\n",
       "    'give me a hand please',\n",
       "    'Can you help?',\n",
       "    'What can you do for me?',\n",
       "    'I need support',\n",
       "    'I need help',\n",
       "    'Support me please'],\n",
       "   'responses': ['Sure. Tell me how can i assist you',\n",
       "    'Tell me your problem so that i can assist you',\n",
       "    'Yes, sure. How can I help you?']},\n",
       "  {'tag': 'sad',\n",
       "   'patterns': ['I am feeling lonely',\n",
       "    'I am so lonely',\n",
       "    'I feel down',\n",
       "    'I feel sad',\n",
       "    'I am sad',\n",
       "    'I feel so lonely',\n",
       "    'I feel empty',\n",
       "    \"I don't have anyone\"],\n",
       "   'responses': [\"I'm sorry to hear that. I'm here for you. Talking about it might help. So, tell me why do you think you're feeling this way?\",\n",
       "    \"I'm here for you. Could you tell me why you're feeling this way?\",\n",
       "    'Why do you think you feel this way?',\n",
       "    'How long have you been feeling this way?']},\n",
       "  {'tag': 'stressed',\n",
       "   'patterns': ['I am so stressed out',\n",
       "    'I am so stressed',\n",
       "    'I feel stuck',\n",
       "    'I still feel stressed',\n",
       "    'I am so burned out'],\n",
       "   'responses': ['What do you think is causing this?',\n",
       "    'Take a deep breath and gather your thoughts. Go take a walk if possible. Stay hydrated',\n",
       "    'Give yourself a break. Go easy on yourself.',\n",
       "    'I am sorry to hear that. What is the reason behind this?']},\n",
       "  {'tag': 'worthless',\n",
       "   'patterns': ['I feel so worthless.',\n",
       "    'No one likes me.',\n",
       "    \"I can't do anything.\",\n",
       "    'I am so useless',\n",
       "    'Nothing makes sense anymore'],\n",
       "   'responses': [\"It's only natural to feel this way. Tell me more. What else is on your mind?\",\n",
       "    \"Let's discuss further why you're feeling this way.\",\n",
       "    'I first want to let you know that you are not alone in your feelings and there is always someone there to help . you can always change your feelings and change your way of thinking by being open to trying to change.',\n",
       "    'i first want to let you know that you are not alone in your feelings and there is always someone there to help . you can always change your feelings and change your way of thinking by being open to trying to change.']},\n",
       "  {'tag': 'depressed',\n",
       "   'patterns': [\"I can't take it anymore\",\n",
       "    'I am so depressed',\n",
       "    \"I think i'm depressed.\",\n",
       "    'I have depression'],\n",
       "   'responses': [\"It helps to talk about what's happening. You're going to be okay\",\n",
       "    'Talk to me. Tell me more. It helps if you open up yourself to someone else.',\n",
       "    'Sometimes when we are depressed, it is hard to care about anything. It can be hard to do the simplest of things. Give yourself time to heal.']},\n",
       "  {'tag': 'happy',\n",
       "   'patterns': ['I feel great today.',\n",
       "    'I am happy.',\n",
       "    'I feel happy.',\n",
       "    \"I'm good.\",\n",
       "    'cheerful',\n",
       "    \"I'm fine\",\n",
       "    'I feel ok'],\n",
       "   'responses': [\"That's geat to hear. I'm glad you're feeling this way.\",\n",
       "    \"Oh i see. That's great.\",\n",
       "    'Did something happen which made you feel this way?']},\n",
       "  {'tag': 'casual',\n",
       "   'patterns': ['Oh I see.',\n",
       "    'ok',\n",
       "    'okay',\n",
       "    'nice',\n",
       "    'Whatever',\n",
       "    'K',\n",
       "    'Fine',\n",
       "    'yeah',\n",
       "    'yes',\n",
       "    'no',\n",
       "    'not really'],\n",
       "   'responses': [\"Let's discuss further why you're feeling this way.\",\n",
       "    'How were you feeling last week?',\n",
       "    \"I'm listening. Please go on.\",\n",
       "    'Tell me more',\n",
       "    'Can you elaborate on that?',\n",
       "    'Come Come elucidate your thoughts']},\n",
       "  {'tag': 'anxious',\n",
       "   'patterns': ['I feel so anxious.', \"I'm so anxious because of \"],\n",
       "   'responses': [\"Don't be hard on yourself. What's the reason behind this?\",\n",
       "    'Can you tell me more about this feeling?',\n",
       "    'I understand that it can be scary. Tell me more about it.',\n",
       "    \"Don't let the little worries bring you down. What's the worse that can happen?\"]},\n",
       "  {'tag': 'not-talking',\n",
       "   'patterns': [\"I don't want to talk about it.\",\n",
       "    'No just stay away.',\n",
       "    \"I can't bring myself to open up.\",\n",
       "    'Just shut up'],\n",
       "   'responses': [\"Talking about something really helps. If you're not ready to open up then that's ok. Just know that i'm here for you, whenever you need me.\",\n",
       "    \"I want to help you. I really do. But in order for me to help you, you're gonna have to talk to me.\",\n",
       "    \"I'm here to listen to you and help you vent. So please talk to me.\",\n",
       "    'You can talk to me without fear of judgement.']},\n",
       "  {'tag': 'sleep',\n",
       "   'patterns': ['I have insominia',\n",
       "    'I am suffering from insomnia',\n",
       "    \"I can't sleep.\",\n",
       "    \"I haven't slept for the last days.\",\n",
       "    \"I can't seem to go to sleep.\",\n",
       "    \"I haven't had proper sleep for the past few days.\"],\n",
       "   'responses': ['What do you think is the reason behind this?',\n",
       "    'That seem awful. What do you think is behind this?']},\n",
       "  {'tag': 'scared',\n",
       "   'patterns': [\"I'm scared\",\n",
       "    'That sounds awful. What do i do?',\n",
       "    \"No i don't want to feel this way\",\n",
       "    'I am scared for myself'],\n",
       "   'responses': [\"It's only natural to feel this way. I'm here for you.\",\n",
       "    \"It'll all be okay. This feeling is only momentary.\",\n",
       "    \"I understand how you feel. Don't put yourself down because of it.\"]},\n",
       "  {'tag': 'death',\n",
       "   'patterns': ['My mom died',\n",
       "    'My brother died',\n",
       "    'My dad passed away',\n",
       "    'My sister passed away',\n",
       "    'Someone in my family died',\n",
       "    'My friend passed away'],\n",
       "   'responses': [\"I'm sorry to hear that. If you want to talk about it. I'm here.\",\n",
       "    'I am really sorry to hear that. I am here to help you with grief, anxiety and anything else you may feel at this time.',\n",
       "    \"My condolences. I'm here if you need to talk.\"]},\n",
       "  {'tag': 'understand',\n",
       "   'patterns': [\"You don't understand me.\",\n",
       "    \"You're just some robot. How would you know?\",\n",
       "    \"You can't possibly know what i'm going through\",\n",
       "    \"You're useless\",\n",
       "    \"You can't help me\",\n",
       "    'Nobody understands me.'],\n",
       "   'responses': [\"It sound like i'm not being very helpful right now.\",\n",
       "    \"I'm sorry to hear that. I'm doing my best to help\",\n",
       "    \"I'm trying my best to help you. So please talk to me\"]},\n",
       "  {'tag': 'done',\n",
       "   'patterns': [\"That's all.\",\n",
       "    \"I don't have anything more to say\",\n",
       "    'Nothing else',\n",
       "    \"That's all i have to say\",\n",
       "    'no, that would be all'],\n",
       "   'responses': ['I heard you & noted it all. See you later.',\n",
       "    \"Oh okay we're done for today then. See you later\",\n",
       "    'I hope you have a great day. See you soon',\n",
       "    \"Okay we're done. Have a great day\",\n",
       "    'Okay I see. Enjoy the rest of your day then']},\n",
       "  {'tag': 'suicide',\n",
       "   'patterns': ['I want to kill myself',\n",
       "    \"I've thought about killing myself.\",\n",
       "    'I want to die',\n",
       "    'I am going to kill myself',\n",
       "    'I am going to commit suicide'],\n",
       "   'responses': [\"I'm very sorry to hear that but you have so much to look forward to. Please seek help by contacting: 9152987821.\"]},\n",
       "  {'tag': 'hate-you',\n",
       "   'patterns': ['I hate you', \"I don't like you\", \"I don't trust you\"],\n",
       "   'responses': [\"I'm sorry if i offended you in anyway. I'm only here to help\",\n",
       "    'Forgive me if i did anything to offend you. I only want to help']},\n",
       "  {'tag': 'hate-me',\n",
       "   'patterns': ['You hate me', 'I know you hate me', \"You don't like me\"],\n",
       "   'responses': ['Why do you think so?',\n",
       "    \"I'm sorry if i have exhibited any sort of behaviour to make you think that.\"]},\n",
       "  {'tag': 'default',\n",
       "   'patterns': ['exams',\n",
       "    'friends',\n",
       "    'relationship',\n",
       "    'boyfriend',\n",
       "    'girlfriend',\n",
       "    'family',\n",
       "    'money',\n",
       "    'financial problems'],\n",
       "   'responses': ['Oh I see. Tell me more',\n",
       "    'I see. What else?',\n",
       "    'Tell me more about it.',\n",
       "    \"Oh okay. Why don't you tell me more about it?\",\n",
       "    \"I'm listening. Tell me more.\"]},\n",
       "  {'tag': 'jokes',\n",
       "   'patterns': ['Tell me a joke', 'Tell me another joke'],\n",
       "   'responses': ['mental health is not a joke.']},\n",
       "  {'tag': 'repeat',\n",
       "   'patterns': ['You already told me that',\n",
       "    'You mentioned that already',\n",
       "    'Why are you repeating yourself?'],\n",
       "   'responses': [\"Oh sorry I didn't realise that. I'll try not to repeat myself again.\"]},\n",
       "  {'tag': 'wrong',\n",
       "   'patterns': ['What are you saying?',\n",
       "    \"That doesn't make sense\",\n",
       "    'Wrong response',\n",
       "    'Wrong answer'],\n",
       "   'responses': [\"I'm very sorry. Let's try that again\"]},\n",
       "  {'tag': 'stupid',\n",
       "   'patterns': ['Are you stupid?',\n",
       "    \"You're crazy\",\n",
       "    'You are dumb',\n",
       "    'Are you dumb?'],\n",
       "   'responses': [\"I wish you wouldn't say such hurtful things. I'm sorry if I wasn't useful\"]},\n",
       "  {'tag': 'location',\n",
       "   'patterns': ['Where are you?',\n",
       "    'Where do you live?',\n",
       "    'What is your location?'],\n",
       "   'responses': ['Duh I live in your computer',\n",
       "    'Everywhere',\n",
       "    'Somewhere in the universe']},\n",
       "  {'tag': 'something-else',\n",
       "   'patterns': ['I want to talk about something else',\n",
       "    \"Let's talk about something else.\",\n",
       "    'Can we not talk about this?',\n",
       "    \"I don't want to talk about this.\"],\n",
       "   'responses': ['Okay sure. What do you want to talk about?',\n",
       "    'Alright no problem. Is there something you want to talk about?',\n",
       "    'Is there something else that you want to talk about?']},\n",
       "  {'tag': 'friends',\n",
       "   'patterns': [\"I don't have any friends\"],\n",
       "   'responses': [\"I'm sorry to hear that. Just know that I'm here for you. Talking about it might help. Why do you think you don't have any friends?\"]},\n",
       "  {'tag': 'ask',\n",
       "   'patterns': ['Can I ask you something?'],\n",
       "   'responses': [\"Sure. I'll try my best to answer you\",\n",
       "    \"Of course. Feel free to ask me anything. I'll do my best to answer you\"]},\n",
       "  {'tag': 'problem',\n",
       "   'patterns': [\"Probably because my exams are approaching. I feel stressed out because I don't think I've prepared well enough.\",\n",
       "    'probably because of my exams'],\n",
       "   'responses': ['I see. Have you taken any approaches to not feel this way?']},\n",
       "  {'tag': 'no-approach',\n",
       "   'patterns': ['I guess not. All I can think about are my exams.',\n",
       "    'not really',\n",
       "    'i guess not'],\n",
       "   'responses': [\"That's no problem. I can see why you'd be stressed out about that. I can suggest you some tips to alleviate this issue. Would you like to learn more about that?\"]},\n",
       "  {'tag': 'learn-more',\n",
       "   'patterns': ['ok sure. i would like to learn more about it.',\n",
       "    'yes, i would like to learn more about it.',\n",
       "    'i would like to learn more about it.'],\n",
       "   'responses': [\"So first I would suggest you to give yourself a break. Thinking more and more about the problem definitely does not help in solving it. You'll just end up overwhelming yourself.\"]},\n",
       "  {'tag': 'user-agree',\n",
       "   'patterns': [\"yeah you're right. i deserve a break.\",\n",
       "    \"Yeah you're absolutely right about that\"],\n",
       "   'responses': ['Next, I would suggest you to practice meditation. Meditation can produce a deep state of relaxation and a tranquil mind.']},\n",
       "  {'tag': 'meditation',\n",
       "   'patterns': ['hmmm that sounds like it could be useful to me.',\n",
       "    'That sounds useful.'],\n",
       "   'responses': ['Focus all your attention on your breathing. Concentrate on feeling and listening as you inhale and exhale through your nostrils. Breathe deeply and slowly. When your attention wanders, gently return your focus to your breathing.']},\n",
       "  {'tag': 'user-meditation',\n",
       "   'patterns': ['i did what you said and i feel alot better. thank you very much.',\n",
       "    'I feel better now'],\n",
       "   'responses': [\"Your welcome. Remember: Always focus on what's within your control. When you find yourself worrying, take a minute to examine the things you have control over. You can't prevent a storm from coming but you can prepare for it. You can't control how someone else behaves, but you can control how you react. Recognize that sometimes, all you can control is your effort and your attitude. When you put your energy into the things you can control, you'll be much more effective.\"]},\n",
       "  {'tag': 'pandora-useful',\n",
       "   'patterns': [\"thank you very much again. i'll continue practicing meditation and focus on what i can control.\"],\n",
       "   'responses': [\"I'm glad you found this useful. Is there something else I can help you with?\"]},\n",
       "  {'tag': 'user-advice',\n",
       "   'patterns': ['I want some advice.',\n",
       "    'I need some advice.',\n",
       "    'I need advice on something'],\n",
       "   'responses': ['Sure. What can I do to help?',\n",
       "    'Okay what do you need advice on?']},\n",
       "  {'tag': 'learn-mental-health',\n",
       "   'patterns': ['I want to learn about mental health.',\n",
       "    'I want to learn more about mental health.',\n",
       "    \"I'm interested in learning about mental health.\"],\n",
       "   'responses': [\"Oh that's really great. I'd be willing to answer anything that I know about it.\"]},\n",
       "  {'tag': 'mental-health-fact',\n",
       "   'patterns': ['Tell me a fact about mental health',\n",
       "    'Tell me another fact about mental health'],\n",
       "   'responses': ['According to a UNICEF report, One in seven Indians between 15-24 years of age feels depressed',\n",
       "    '1 in 5 young people (age 13-18) has or will develop a mental illness in their lifetime.',\n",
       "    'Depression is the leading cause of disability worldwide.']},\n",
       "  {'tag': 'fact-1',\n",
       "   'patterns': ['What is mental health?', 'Define Mental Health'],\n",
       "   'responses': ['Mental health is a state of well-being in which the individual realizes his or her own abilities, can cope with the normal stresses of life, can work productively and fruitfully, and is able to make a contribution to his or her community',\n",
       "    'Mental health includes our emotional, psychological, and social well-being. It affects how we think, feel, and act. It also helps determine how we handle stress, relate to others, and make choices.']},\n",
       "  {'tag': 'fact-2',\n",
       "   'patterns': ['Why is mental health important?',\n",
       "    'What is the importance of mental health?'],\n",
       "   'responses': ['Maintaining mental health is crucial to stabilizing constructive behaviors, emotions, and thoughts. Focusing on mental health care can increase productivity, enhance our self-image, and improve relationships.']},\n",
       "  {'tag': 'fact-3',\n",
       "   'patterns': ['What is Depression?', 'Define Depression'],\n",
       "   'responses': ['A mental health disorder characterised by persistently depressed mood or loss of interest in activities, causing significant impairment in daily life.']},\n",
       "  {'tag': 'fact-5',\n",
       "   'patterns': ['How do i know if i have Depression?',\n",
       "    'Am i depressed?',\n",
       "    'Am i suffering from depression?',\n",
       "    'Am i mentally ill?'],\n",
       "   'responses': ['For a diagnosis of depression, a person needs to have experienced low mood or loss of interest or pleasure in life for at least 2 weeks. Also, they will have experienced the following symptoms: feelings of sadness, hopelessness, or irritability nearly every day.']},\n",
       "  {'tag': 'fact-6',\n",
       "   'patterns': ['What is a therapist?', 'What does a therapist do?'],\n",
       "   'responses': ['A therapist is a broad designation that refers to professionals who are trained to provide treatment and rehabilitation. The term is often applied to psychologists, but it can include others who provide a variety of services, including social workers, counselors, life coaches, and many others. ']},\n",
       "  {'tag': 'fact-7',\n",
       "   'patterns': ['What is therapy?',\n",
       "    'Do i need therapy?',\n",
       "    'Who is therapy for?'],\n",
       "   'responses': ['Therapy is a form of treatment that aims to help resolve mental or emotional issues.',\n",
       "    'Therapy is a form of treatment that aims to help resolve mental or emotional issues. It is helpful for those with mental health conditions or even everyday life challenges.']},\n",
       "  {'tag': 'fact-8',\n",
       "   'patterns': ['What does it mean to have a mental illness?'],\n",
       "   'responses': [\"Mental illnesses are health conditions that disrupt a person's thoughts, emotions, relationships, and daily functioning. They are associated with distress and diminished capacity to engage in the ordinary activities of daily life. Mental illnesses fall along a continuum of severity: some are fairly mild and only interfere with some aspects of life, such as certain phobias. On the other end of the spectrum lie serious mental illnesses, which result in major functional impairment and interference with daily life. These include such disorders as major depression, schizophrenia, and bipolar disorder, and may require that the person receives care in a hospital. It is important to know that mental illnesses are medical conditions that have nothing to do with a person's character, intelligence, or willpower. Just as diabetes is a disorder of the pancreas, mental illness is a medical condition due to the brain's biology. Similarly to how one would treat diabetes with medication and insulin, mental illness is treatable with a combination of medication and social support. These treatments are highly effective, with 70-90 percent of individuals receiving treatment experiencing a reduction in symptoms and an improved quality of life. With the proper treatment, it is very possible for a person with mental illness to be independent and successful.\"]},\n",
       "  {'tag': 'fact-9',\n",
       "   'patterns': ['Who does mental illness affect?'],\n",
       "   'responses': ['It is estimated that mental illness affects 1 in 5 adults in America, and that 1 in 24 adults have a serious mental illness. Mental illness does not discriminate; it can affect anyone, regardless of gender, age, income, social status, ethnicity, religion, sexual orientation, or background. Although mental illness can affect anyone, certain conditions may be more common in different populations. For instance, eating disorders tend to occur more often in females, while disorders such as attention deficit/hyperactivity disorder is more prevalent in children. Additionally, all ages are susceptible, but the young and the old are especially vulnerable. Mental illnesses usually strike individuals in the prime of their lives, with 75 percent of mental health conditions developing by the age of 24. This makes identification and treatment of mental disorders particularly difficult, because the normal personality and behavioral changes of adolescence may mask symptoms of a mental health condition. Parents and caretakers should be aware of this fact, and take notice of changes in their childÃƒÂ¢Ã¢â€šÂ¬Ã¢â€žÂ¢s mood, personality, personal habits, and social withdrawal. When these occur in children under 18, they are referred to as serious emotional disturbances (SEDs).']},\n",
       "  {'tag': 'fact-10',\n",
       "   'patterns': ['What causes mental illness?'],\n",
       "   'responses': [\"It is estimated that mental illness affects 1 in 5 adults in America, and that 1 in 24 adults have a serious mental illness. Mental illness does not discriminate; it can affect anyone, regardless of gender, age, income, social status, ethnicity, religion, sexual orientation, or background. Although mental illness can affect anyone, certain conditions may be more common in different populations. For instance, eating disorders tend to occur more often in females, while disorders such as attention deficit/hyperactivity disorder is more prevalent in children. Additionally, all ages are susceptible, but the young and the old are especially vulnerable. Mental illnesses usually strike individuals in the prime of their lives, with 75 percent of mental health conditions developing by the age of 24. This makes identification and treatment of mental disorders particularly difficult, because the normal personality and behavioral changes of adolescence may mask symptoms of a mental health condition. Parents and caretakers should be aware of this fact, and take notice of changes in their child's mood, personality, personal habits, and social withdrawal. When these occur in children under 18, they are referred to as serious emotional disturbances (SEDs).\"]},\n",
       "  {'tag': 'fact-11',\n",
       "   'patterns': ['What are some of the warning signs of mental illness?'],\n",
       "   'responses': ['Symptoms of mental health disorders vary depending on the type and severity of the condition. The following is a list of general symptoms that may suggest a mental health disorder, particularly when multiple symptoms are expressed at once. \\n In adults:\\n Confused thinking\\n Long-lasting sadness or irritability\\n Extreme highs and lows in mood\\n Excessive fear, worrying, or anxiety\\n Social withdrawal\\n Dramatic changes in eating or sleeping habits\\n Strong feelings of anger\\n Delusions or hallucinations (seeing or hearing things that are not really there)\\n Increasing inability to cope with daily problems and activities\\n Thoughts of suicide\\n Denial of obvious problems\\n Many unexplained physical problems\\n Abuse of drugs and/or alcohol\\n \\nIn older children and pre-teens:\\n Abuse of drugs and/or alcohol\\n Inability to cope with daily problems and activities\\n Changes in sleeping and/or eating habits\\n Excessive complaints of physical problems\\n Defying authority, skipping school, stealing, or damaging property\\n Intense fear of gaining weight\\n Long-lasting negative mood, often along with poor appetite and thoughts of death\\n Frequent outbursts of anger\\n \\nIn younger children:\\n Changes in school performance\\n Poor grades despite strong efforts\\n Excessive worrying or anxiety\\n Hyperactivity\\n Persistent nightmares\\n Persistent disobedience and/or aggressive behavior\\n Frequent temper tantrums']},\n",
       "  {'tag': 'fact-12',\n",
       "   'patterns': ['Can people with mental illness recover?'],\n",
       "   'responses': ['When healing from mental illness, early identification and treatment are of vital importance. Based on the nature of the illness, there are a range of effective treatments available. For any type of treatment, it is essential that the person affected is proactive and fully engaged in their own recovery process. Many people with mental illnesses who are diagnosed and treated respond well, although some might experience a return of symptoms. Even in such cases, with careful monitoring and management of the disorder, it is still quite possible to live a fulfilled and productive life.']},\n",
       "  {'tag': 'fact-13',\n",
       "   'patterns': ['What should I do if I know someone who appears to have the symptoms of a mental disorder?'],\n",
       "   'responses': [\"Although Pandora cannot substitute for professional advice, we encourage those with symptoms to talk to their friends and family members and seek the counsel of a mental health professional. The sooner the mental health condition is identified and treated, the sooner they can get on the path to recovery. If you know someone who is having problems, don't assume that the issue will resolve itself. Let them know that you care about them, and that there are treatment options available that will help them heal. Speak with a mental health professional or counselor if you think your friend or family member is experiencing the symptoms of a mental health condition. If the affected loved one knows that you support them, they will be more likely to seek out help.\"]},\n",
       "  {'tag': 'fact-14',\n",
       "   'patterns': ['How can I find a mental health professional for myself or my child?'],\n",
       "   'responses': ['Feeling comfortable with the professional you or your child is working with is critical to the success of the treatment. Finding the professional who best fits your needs may require research. Start by searching for providers in your area.']},\n",
       "  {'tag': 'fact-15',\n",
       "   'patterns': ['What treatment options are available?'],\n",
       "   'responses': ['Just as there are different types of medications for physical illness, different treatment options are available for individuals with mental illness. Treatment works differently for different people. It is important to find what works best for you or your child.']},\n",
       "  {'tag': 'fact-16',\n",
       "   'patterns': ['If I become involved in treatment, what do I need to know?'],\n",
       "   'responses': [\"Since beginning treatment is a big step for individuals and families, it can be very overwhelming. It is important to be as involved and engaged in the treatment process as possible. Some questions you will need to have answered include:\\n What is known about the cause of this particular illness?\\n Are there other diagnoses where these symptoms are common?\\n Do you normally include a physical or neurological examination?\\n Are there any additional tests or exams that you would recommend at this point?\\n Would you advise an independent opinion from another psychiatrist at this point?\\n What program of treatment is the most helpful with this diagnosis?\\n Will this program involve services by other specialists? If so, who will be responsible for coordinating these services?\\n What do you see as the family's role in this program of treatment?\\n How much access will the family have to the individuals who are providing the treatment?\\n What medications are generally used with this diagnosis?\\n How much experience do you have in treating individuals with this illness?\\n What can I do to help you in the treatment?\"]},\n",
       "  {'tag': 'fact-17',\n",
       "   'patterns': ['What is the difference between mental health professionals?'],\n",
       "   'responses': ['There are many types of mental health professionals. The variety of providers and their services may be confusing. Each have various levels of education, training, and may have different areas of expertise. Finding the professional who best fits your needs may require some research.']},\n",
       "  {'tag': 'fact-18',\n",
       "   'patterns': ['How can I find a mental health professional right for my child or myself?'],\n",
       "   'responses': ['Feeling comfortable with the professional you or your child is working with is critical to the success of your treatment. Finding the professional who best fits your needs may require some research.']},\n",
       "  {'tag': 'fact-19',\n",
       "   'patterns': ['Where else can I get help?'],\n",
       "   'responses': ['Where you go for help will depend on the nature of the problem and/or symptoms and what best fits you. Often, the best place to start is by talking with someone you trust about your concerns, such as a family member, friend, clergy, healthcare provider, or other professionals. Having this social support is essential in healing from mental illness, and you will be able to ask them for referrals or recommendations for trusted mental health practitioners. Search for mental health resources in your area. Secondly, there are people and places throughout the country that provide services to talk, to listen, and to help you on your journey to recovery. Thirdly, many people find peer support a helpful tool that can aid in their recovery. There are a variety of organizations that offer support groups for consumers, their family members, and friends. Some support groups are peer led while others may be led by a mental health professional.']},\n",
       "  {'tag': 'fact-20',\n",
       "   'patterns': ['What should I know before starting a new medication?'],\n",
       "   'responses': ['The best source of information regarding medications is the physician prescribing them. He or she should be able to answer questions such as:    \\n1. What is the medication supposed to do? \\n2. When should it begin to take effect, and how will I know when it is effective? \\n3. How is the medication taken and for how long? What food, drinks, other medicines, and activities should be avoided while taking this medication? \\n4. What are the side effects and what should be done if they occur? \\n5. What do I do if a dose is missed? \\n6. Is there any written information available about this medication? \\n7. Are there other medications that might be appropriate? \\n8. If so, why do you prefer the one you have chosen? \\n9. How do you monitor medications and what symptoms indicate that they should be raised, lowered, or changed? \\n10. All medications should be taken as directed. Most medications for mental illnesses do not work when taken irregularly, and extra doses can cause severe, sometimes dangerous side effects. Many psychiatric medications begin to have a beneficial effect only after they have been taken for several weeks.']},\n",
       "  {'tag': 'fact-21',\n",
       "   'patterns': ['Where can I go to find therapy?'],\n",
       "   'responses': ['Different kinds of therapy are more effective based on the nature of the mental health condition and/or symptoms and the person who has them (for example, children will benefit from a therapist who specializes in childrenÃ¢â‚¬â„¢s mental health). However, there are several different types of treatment and therapy that can help.']},\n",
       "  {'tag': 'fact-22',\n",
       "   'patterns': ['Where can I learn about types of mental health treatment?'],\n",
       "   'responses': ['Mental health conditions are often treated with medication, therapy or a combination of the two. However, there are many different types of treatment available, including Complementary & Alternative Treatments, self-help plans, and peer support. Treatments are very personal and should be discussed by the person with the mental health conditions and his or her team.']},\n",
       "  {'tag': 'fact-23',\n",
       "   'patterns': ['What are the different types of mental health professionals?'],\n",
       "   'responses': ['There are many types of mental health professionals. Finding the right one for you may require some research.']},\n",
       "  {'tag': 'fact-24',\n",
       "   'patterns': ['Where can I go to find a support group?'],\n",
       "   'responses': ['Many people find peer support a helpful tool that can aid in their recovery. There are a variety of organizations that offer support groups for consumers, their family members and friends. Some support groups are peer-led, while others may be led by a mental health professional.']},\n",
       "  {'tag': 'fact-25',\n",
       "   'patterns': ['Can you prevent mental health problems?'],\n",
       "   'responses': ['We can all suffer from mental health challenges, but developing our wellbeing, resilience, and seeking help early can help prevent challenges becoming serious.']},\n",
       "  {'tag': 'fact-26',\n",
       "   'patterns': ['Are there cures for mental health problems?',\n",
       "    'is there any cure for mental health problems?'],\n",
       "   'responses': ['It is often more realistic and helpful to find out what helps with the issues you face. Talking, counselling, medication, friendships, exercise, good sleep and nutrition, and meaningful occupation can all help.']},\n",
       "  {'tag': 'fact-27',\n",
       "   'patterns': ['What causes mental health problems?'],\n",
       "   'responses': ['Challenges or problems with your mental health can arise from psychological, biological, and social, issues, as well as life events.']},\n",
       "  {'tag': 'fact-28',\n",
       "   'patterns': [\"What do I do if I'm worried about my mental health?\"],\n",
       "   'responses': ['The most important thing is to talk to someone you trust. This might be a friend, colleague, family member, or GP. In addition to talking to someone, it may be useful to find out more information about what you are experiencing. These things may help to get some perspective on what you are experiencing, and be the start of getting help.']},\n",
       "  {'tag': 'fact-29',\n",
       "   'patterns': [\"How do I know if I'm unwell?\"],\n",
       "   'responses': ['If your beliefs , thoughts , feelings or behaviours have a significant impact on your ability to function in what might be considered a normal or ordinary way, it would be important to seek help.']},\n",
       "  {'tag': 'fact-30',\n",
       "   'patterns': ['How can I maintain social connections? What if I feel lonely?'],\n",
       "   'responses': [\"A lot of people are alone right now, but we don't have to be lonely. We're all in this together. Think about the different ways to connect that are most meaningful for you. For example, you might prefer a video chat over a phone call, or you might prefer to text throughout the day rather than one set time for a video call. Then, work with your social networks to make a plan. You might video chat with your close friends in the evening and phone a family member once a week. Remember to be mindful of people who may not be online. Check in by phone and ask how you can help. The quality of your social connections matter. Mindlessly scrolling through social media and liking a few posts usually doesn't build strong social connections. Make sure you focus on strategies that actually make you feel included and connected. If your current strategies don't help you feel connected, problem-solve to see if you can find a solution. Everyone feels lonely at times. Maybe you recently moved to a new city, are changing your circle of friends, lost someone important in your life, or lost your job and also lost important social connections with coworkers. Other people may have physical connections to others but may feel like their emotional or social needs aren't met. Measures like social distancing or self-isolation can make loneliness feel worse no matter why you feel lonely now. Reach out to the connections you do have. Suggest ways to keep in touch and see if you can set a regular time to connect. People may hesitate to reach out for a lot of different reasons, so don't be afraid to be the one who asks. Look for local community support groups and mutual aid groups on social media. This pandemic is bringing everyone together, so look for opportunities to make new connections. These groups are a great way to share your skills and abilities or seek help and support. Look for specialized support groups. Support groups are moving online, and there are a lot of different support lines to call if you need to talk to someone.\"]},\n",
       "  {'tag': 'fact-31',\n",
       "   'patterns': [\"What's the difference between anxiety and stress?\"],\n",
       "   'responses': [\"Stress and anxiety are often used interchangeably, and there is overlap between stress and anxiety. Stress is related to the same fight, flight, or freeze response as anxiety, and the physical sensations of anxiety and stress may be very similar. The cause of stress and anxiety are usually different, however. Stress focuses on mainly external pressures on us that we're finding hard to cope with. When we are stressed, we usually know what we're stressed about, and the symptoms of stress typically disappear after the stressful situation is over. Anxiety, on the other hand, isn't always as easy to figure out. Anxiety focuses on worries or fears about things that could threaten us, as well as anxiety about the anxiety itself. Stress and anxiety are both part of being human, but both can be problems if they last for a long time or have an impact on our well-being or daily life.\"]},\n",
       "  {'tag': 'fact-32',\n",
       "   'patterns': [\"What's the difference between sadness and depression?\",\n",
       "    'difference between sadness and depression'],\n",
       "   'responses': [\"Sadness is a normal reaction to a loss, disappointment, problems, or other difficult situations. Feeling sad from time to time is just another part of being human. In these cases, feelings of sadness go away quickly and you can go about your daily life. Other ways to talk about sadness might be feeling low, feeling down, or feeling blue.A person may say they are feeling depressed, but if it goes away on its own and doesn't impact life in a big way, it probably isn't the illness of depression. Depression is a mental illness that affects your mood, the way you understand yourself, and the way you understand and relate to things around you. It can also go by different names, such as clinical depression, major depressive disorder, or major depression. Depression can come up for no reason, and it lasts for a long time. It's much more than sadness or low mood. People who experience depression may feel worthless or hopeless. They may feel unreasonable guilty. Some people may experience depression as anger or irritability. It may be hard to concentrate or make decisions. Most people lose interest in things that they used to enjoy and may isolate themselves from others. There are also physical signs of depression, such as problems with sleep, appetite and energy and unexplainable aches or pains. Some may experience difficult thoughts about death or ending their life (suicide). Depression lasts longer than two weeks, doesn't usually go away on its own, and impacts your life. It's a real illness, and it is very treatable. It's important to seek help if you're concerned about depression.\"]}]}"
      ]
     },
     "execution_count": 16,
     "metadata": {},
     "output_type": "execute_result"
    }
   ],
   "source": [
    "\n",
    "\n",
    "with open(intentsJson, 'r') as file:\n",
    "  # read JSON data\n",
    "  data = json.load(file)\n",
    "data\n"
   ]
  },
  {
   "cell_type": "code",
   "execution_count": 17,
   "metadata": {},
   "outputs": [
    {
     "data": {
      "text/html": [
       "<div>\n",
       "<style scoped>\n",
       "    .dataframe tbody tr th:only-of-type {\n",
       "        vertical-align: middle;\n",
       "    }\n",
       "\n",
       "    .dataframe tbody tr th {\n",
       "        vertical-align: top;\n",
       "    }\n",
       "\n",
       "    .dataframe thead th {\n",
       "        text-align: right;\n",
       "    }\n",
       "</style>\n",
       "<table border=\"1\" class=\"dataframe\">\n",
       "  <thead>\n",
       "    <tr style=\"text-align: right;\">\n",
       "      <th></th>\n",
       "      <th>tag</th>\n",
       "      <th>patterns</th>\n",
       "      <th>responses</th>\n",
       "    </tr>\n",
       "  </thead>\n",
       "  <tbody>\n",
       "    <tr>\n",
       "      <th>0</th>\n",
       "      <td>greeting</td>\n",
       "      <td>[Hi, Hey, Is anyone there?, Hi there, Hello, H...</td>\n",
       "      <td>[Hello there. Tell me how are you feeling toda...</td>\n",
       "    </tr>\n",
       "    <tr>\n",
       "      <th>1</th>\n",
       "      <td>morning</td>\n",
       "      <td>[Good morning]</td>\n",
       "      <td>[Good morning. I hope you had a good night's s...</td>\n",
       "    </tr>\n",
       "    <tr>\n",
       "      <th>2</th>\n",
       "      <td>afternoon</td>\n",
       "      <td>[Good afternoon]</td>\n",
       "      <td>[Good afternoon. How is your day going?]</td>\n",
       "    </tr>\n",
       "    <tr>\n",
       "      <th>3</th>\n",
       "      <td>evening</td>\n",
       "      <td>[Good evening]</td>\n",
       "      <td>[Good evening. How has your day been?]</td>\n",
       "    </tr>\n",
       "    <tr>\n",
       "      <th>4</th>\n",
       "      <td>night</td>\n",
       "      <td>[Good night]</td>\n",
       "      <td>[Good night. Get some proper sleep, Good night...</td>\n",
       "    </tr>\n",
       "  </tbody>\n",
       "</table>\n",
       "</div>"
      ],
      "text/plain": [
       "         tag                                           patterns  \\\n",
       "0   greeting  [Hi, Hey, Is anyone there?, Hi there, Hello, H...   \n",
       "1    morning                                     [Good morning]   \n",
       "2  afternoon                                   [Good afternoon]   \n",
       "3    evening                                     [Good evening]   \n",
       "4      night                                       [Good night]   \n",
       "\n",
       "                                           responses  \n",
       "0  [Hello there. Tell me how are you feeling toda...  \n",
       "1  [Good morning. I hope you had a good night's s...  \n",
       "2           [Good afternoon. How is your day going?]  \n",
       "3             [Good evening. How has your day been?]  \n",
       "4  [Good night. Get some proper sleep, Good night...  "
      ]
     },
     "execution_count": 17,
     "metadata": {},
     "output_type": "execute_result"
    }
   ],
   "source": [
    "intentsDF= pd.DataFrame(data[\"intents\"])\n",
    "intentsDF.head()"
   ]
  },
  {
   "cell_type": "code",
   "execution_count": 18,
   "metadata": {},
   "outputs": [
    {
     "data": {
      "text/plain": [
       "0     [Hi, Hey, Is anyone there?, Hi there, Hello, H...\n",
       "1                                        [Good morning]\n",
       "2                                      [Good afternoon]\n",
       "3                                        [Good evening]\n",
       "4                                          [Good night]\n",
       "                            ...                        \n",
       "75    [What do I do if I'm worried about my mental h...\n",
       "76                       [How do I know if I'm unwell?]\n",
       "77    [How can I maintain social connections? What i...\n",
       "78    [What's the difference between anxiety and str...\n",
       "79    [What's the difference between sadness and dep...\n",
       "Name: patterns, Length: 80, dtype: object"
      ]
     },
     "execution_count": 18,
     "metadata": {},
     "output_type": "execute_result"
    }
   ],
   "source": [
    "intentsDF[\"patterns\"]"
   ]
  },
  {
   "cell_type": "code",
   "execution_count": 19,
   "metadata": {},
   "outputs": [
    {
     "data": {
      "text/plain": [
       "tag\n",
       "greeting      1\n",
       "morning       1\n",
       "fact-11       1\n",
       "fact-10       1\n",
       "fact-9        1\n",
       "             ..\n",
       "understand    1\n",
       "death         1\n",
       "scared        1\n",
       "sleep         1\n",
       "fact-32       1\n",
       "Name: count, Length: 80, dtype: int64"
      ]
     },
     "execution_count": 19,
     "metadata": {},
     "output_type": "execute_result"
    }
   ],
   "source": [
    "intentsDF[\"tag\"].value_counts()"
   ]
  },
  {
   "cell_type": "code",
   "execution_count": 20,
   "metadata": {},
   "outputs": [
    {
     "data": {
      "text/plain": [
       "array(['greeting', 'morning', 'afternoon', 'evening', 'night', 'goodbye',\n",
       "       'thanks', 'no-response', 'neutral-response', 'about', 'skill',\n",
       "       'creation', 'name', 'help', 'sad', 'stressed', 'worthless',\n",
       "       'depressed', 'happy', 'casual', 'anxious', 'not-talking', 'sleep',\n",
       "       'scared', 'death', 'understand', 'done', 'suicide', 'hate-you',\n",
       "       'hate-me', 'default', 'jokes', 'repeat', 'wrong', 'stupid',\n",
       "       'location', 'something-else', 'friends', 'ask', 'problem',\n",
       "       'no-approach', 'learn-more', 'user-agree', 'meditation',\n",
       "       'user-meditation', 'pandora-useful', 'user-advice',\n",
       "       'learn-mental-health', 'mental-health-fact', 'fact-1', 'fact-2',\n",
       "       'fact-3', 'fact-5', 'fact-6', 'fact-7', 'fact-8', 'fact-9',\n",
       "       'fact-10', 'fact-11', 'fact-12', 'fact-13', 'fact-14', 'fact-15',\n",
       "       'fact-16', 'fact-17', 'fact-18', 'fact-19', 'fact-20', 'fact-21',\n",
       "       'fact-22', 'fact-23', 'fact-24', 'fact-25', 'fact-26', 'fact-27',\n",
       "       'fact-28', 'fact-29', 'fact-30', 'fact-31', 'fact-32'],\n",
       "      dtype=object)"
      ]
     },
     "execution_count": 20,
     "metadata": {},
     "output_type": "execute_result"
    }
   ],
   "source": [
    "intentsDF[\"tag\"].unique()"
   ]
  },
  {
   "cell_type": "code",
   "execution_count": null,
   "metadata": {},
   "outputs": [],
   "source": []
  },
  {
   "cell_type": "code",
   "execution_count": 21,
   "metadata": {},
   "outputs": [],
   "source": [
    "anxiousDF= intentsDF[intentsDF[\"tag\"]==\"anxious\"]"
   ]
  },
  {
   "cell_type": "code",
   "execution_count": 22,
   "metadata": {},
   "outputs": [
    {
     "data": {
      "text/plain": [
       "20    [I feel so anxious., I'm so anxious because of ]\n",
       "Name: patterns, dtype: object"
      ]
     },
     "execution_count": 22,
     "metadata": {},
     "output_type": "execute_result"
    }
   ],
   "source": [
    "anxiousDF[\"patterns\"]"
   ]
  },
  {
   "cell_type": "code",
   "execution_count": 23,
   "metadata": {},
   "outputs": [
    {
     "data": {
      "text/html": [
       "<div>\n",
       "<style scoped>\n",
       "    .dataframe tbody tr th:only-of-type {\n",
       "        vertical-align: middle;\n",
       "    }\n",
       "\n",
       "    .dataframe tbody tr th {\n",
       "        vertical-align: top;\n",
       "    }\n",
       "\n",
       "    .dataframe thead th {\n",
       "        text-align: right;\n",
       "    }\n",
       "</style>\n",
       "<table border=\"1\" class=\"dataframe\">\n",
       "  <thead>\n",
       "    <tr style=\"text-align: right;\">\n",
       "      <th></th>\n",
       "      <th>tag</th>\n",
       "      <th>patterns</th>\n",
       "      <th>responses</th>\n",
       "    </tr>\n",
       "  </thead>\n",
       "  <tbody>\n",
       "    <tr>\n",
       "      <th>count</th>\n",
       "      <td>80</td>\n",
       "      <td>80</td>\n",
       "      <td>80</td>\n",
       "    </tr>\n",
       "    <tr>\n",
       "      <th>unique</th>\n",
       "      <td>80</td>\n",
       "      <td>80</td>\n",
       "      <td>80</td>\n",
       "    </tr>\n",
       "    <tr>\n",
       "      <th>top</th>\n",
       "      <td>greeting</td>\n",
       "      <td>[Hi, Hey, Is anyone there?, Hi there, Hello, H...</td>\n",
       "      <td>[Hello there. Tell me how are you feeling toda...</td>\n",
       "    </tr>\n",
       "    <tr>\n",
       "      <th>freq</th>\n",
       "      <td>1</td>\n",
       "      <td>1</td>\n",
       "      <td>1</td>\n",
       "    </tr>\n",
       "  </tbody>\n",
       "</table>\n",
       "</div>"
      ],
      "text/plain": [
       "             tag                                           patterns  \\\n",
       "count         80                                                 80   \n",
       "unique        80                                                 80   \n",
       "top     greeting  [Hi, Hey, Is anyone there?, Hi there, Hello, H...   \n",
       "freq           1                                                  1   \n",
       "\n",
       "                                                responses  \n",
       "count                                                  80  \n",
       "unique                                                 80  \n",
       "top     [Hello there. Tell me how are you feeling toda...  \n",
       "freq                                                    1  "
      ]
     },
     "execution_count": 23,
     "metadata": {},
     "output_type": "execute_result"
    }
   ],
   "source": [
    "intentsDF.describe()"
   ]
  },
  {
   "cell_type": "code",
   "execution_count": null,
   "metadata": {},
   "outputs": [],
   "source": []
  },
  {
   "cell_type": "code",
   "execution_count": 24,
   "metadata": {},
   "outputs": [
    {
     "data": {
      "text/plain": [
       "patterns\n",
       "1     33\n",
       "2     13\n",
       "3     11\n",
       "4      7\n",
       "5      5\n",
       "8      4\n",
       "6      3\n",
       "7      2\n",
       "12     1\n",
       "11     1\n",
       "Name: count, dtype: int64"
      ]
     },
     "execution_count": 24,
     "metadata": {},
     "output_type": "execute_result"
    }
   ],
   "source": [
    "intentsDF[\"patterns\"].apply(len).value_counts()"
   ]
  },
  {
   "cell_type": "code",
   "execution_count": 25,
   "metadata": {},
   "outputs": [
    {
     "data": {
      "text/plain": [
       "<Axes: xlabel='tag'>"
      ]
     },
     "execution_count": 25,
     "metadata": {},
     "output_type": "execute_result"
    },
    {
     "data": {
      "image/png": "[encoded data removed]",
      "text/plain": [
       "<Figure size 640x480 with 1 Axes>"
      ]
     },
     "metadata": {},
     "output_type": "display_data"
    }
   ],
   "source": [
    "intentsDF[\"tag\"].value_counts().plot(kind=\"bar\")"
   ]
  },
  {
   "cell_type": "markdown",
   "metadata": {},
   "source": [
    "### Load  PsyQA DataSet\n",
    "https://github.com/thu-coai/PsyQA\n",
    "##### file  : PsyQA-main"
   ]
  },
  {
   "cell_type": "code",
   "execution_count": 26,
   "metadata": {},
   "outputs": [
    {
     "data": {
      "text/html": [
       "<div>\n",
       "<style scoped>\n",
       "    .dataframe tbody tr th:only-of-type {\n",
       "        vertical-align: middle;\n",
       "    }\n",
       "\n",
       "    .dataframe tbody tr th {\n",
       "        vertical-align: top;\n",
       "    }\n",
       "\n",
       "    .dataframe thead th {\n",
       "        text-align: right;\n",
       "    }\n",
       "</style>\n",
       "<table border=\"1\" class=\"dataframe\">\n",
       "  <thead>\n",
       "    <tr style=\"text-align: right;\">\n",
       "      <th></th>\n",
       "      <th>question</th>\n",
       "      <th>description</th>\n",
       "      <th>keywords</th>\n",
       "      <th>answers</th>\n",
       "      <th>questionID</th>\n",
       "    </tr>\n",
       "  </thead>\n",
       "  <tbody>\n",
       "    <tr>\n",
       "      <th>0</th>\n",
       "      <td>去爱一个事事让着你的人，是一种不可能的期待吗？</td>\n",
       "      <td>去爱一个事事让着你的人？有这样的人么？是一种不可能的期待么？</td>\n",
       "      <td>恋爱,恋爱经营</td>\n",
       "      <td>[{'answer_text': '你好，首先回答你关于有没有事事让着你的人，如果你真的去找...</td>\n",
       "      <td>4394</td>\n",
       "    </tr>\n",
       "    <tr>\n",
       "      <th>1</th>\n",
       "      <td>为什么总是会因为他人学习而过度焦虑？</td>\n",
       "      <td>经常在校园里看到学习的人，于是便觉得自己变得不求上进，心里产生焦虑，害怕和别人的距离拉大，总...</td>\n",
       "      <td>行为,应激,焦虑,困惑</td>\n",
       "      <td>[{'answer_text': '～～很抱歉看到你最近状态不佳，抱抱你呀～看了你的描述“会...</td>\n",
       "      <td>4395</td>\n",
       "    </tr>\n",
       "    <tr>\n",
       "      <th>2</th>\n",
       "      <td>我们都会和讨厌的人相处吗？怎样相处是最佳方式？</td>\n",
       "      <td>身边如果有讨厌的人，怎样相处是一种最佳方式呢？</td>\n",
       "      <td>人际,人际边界,社会适应</td>\n",
       "      <td>[{'answer_text': '这可真是个难题呢。想到两种可能。一，这个人讨厌，但于你的...</td>\n",
       "      <td>4397</td>\n",
       "    </tr>\n",
       "    <tr>\n",
       "      <th>3</th>\n",
       "      <td>遇到心动的东西不舍得买，是不爱自己吗？</td>\n",
       "      <td>有时候看到自己喜欢的物品很心动，但是不舍得买，有时看到特别想吃东西，也不舍得买给自己，总要等...</td>\n",
       "      <td>成长,自我成长,自我接纳,人生意义</td>\n",
       "      <td>[{'answer_text': '题主你好呀！一般来说是这样的，我自己曾经就是这样的人，舍...</td>\n",
       "      <td>4398</td>\n",
       "    </tr>\n",
       "    <tr>\n",
       "      <th>4</th>\n",
       "      <td>工作很压抑，怎么才能和自己和解？或者说改变呢？</td>\n",
       "      <td>工作压力很大，总觉得很多事情都完成不了，所以心里压力特别大，还曾经被挺喜欢的同事欺负，所以更...</td>\n",
       "      <td>情绪,抑郁情绪,焦虑情绪,情绪调节</td>\n",
       "      <td>[{'answer_text': '希望以下回答能帮助到你：️**首先对你所描述的情况梳理如...</td>\n",
       "      <td>4399</td>\n",
       "    </tr>\n",
       "  </tbody>\n",
       "</table>\n",
       "</div>"
      ],
      "text/plain": [
       "                  question                                        description  \\\n",
       "0  去爱一个事事让着你的人，是一种不可能的期待吗？                     去爱一个事事让着你的人？有这样的人么？是一种不可能的期待么？   \n",
       "1       为什么总是会因为他人学习而过度焦虑？  经常在校园里看到学习的人，于是便觉得自己变得不求上进，心里产生焦虑，害怕和别人的距离拉大，总...   \n",
       "2  我们都会和讨厌的人相处吗？怎样相处是最佳方式？                            身边如果有讨厌的人，怎样相处是一种最佳方式呢？   \n",
       "3      遇到心动的东西不舍得买，是不爱自己吗？  有时候看到自己喜欢的物品很心动，但是不舍得买，有时看到特别想吃东西，也不舍得买给自己，总要等...   \n",
       "4  工作很压抑，怎么才能和自己和解？或者说改变呢？  工作压力很大，总觉得很多事情都完成不了，所以心里压力特别大，还曾经被挺喜欢的同事欺负，所以更...   \n",
       "\n",
       "            keywords                                            answers  \\\n",
       "0            恋爱,恋爱经营  [{'answer_text': '你好，首先回答你关于有没有事事让着你的人，如果你真的去找...   \n",
       "1        行为,应激,焦虑,困惑  [{'answer_text': '～～很抱歉看到你最近状态不佳，抱抱你呀～看了你的描述“会...   \n",
       "2       人际,人际边界,社会适应  [{'answer_text': '这可真是个难题呢。想到两种可能。一，这个人讨厌，但于你的...   \n",
       "3  成长,自我成长,自我接纳,人生意义  [{'answer_text': '题主你好呀！一般来说是这样的，我自己曾经就是这样的人，舍...   \n",
       "4  情绪,抑郁情绪,焦虑情绪,情绪调节  [{'answer_text': '希望以下回答能帮助到你：️**首先对你所描述的情况梳理如...   \n",
       "\n",
       "   questionID  \n",
       "0        4394  \n",
       "1        4395  \n",
       "2        4397  \n",
       "3        4398  \n",
       "4        4399  "
      ]
     },
     "execution_count": 26,
     "metadata": {},
     "output_type": "execute_result"
    }
   ],
   "source": [
    "# with open(psQAJson, 'r') as file:\n",
    "#   # read JSON data\n",
    "#   data = json.load(file\n",
    "psQADF = pd.read_json(psQAJson)\n",
    "psQADF.head()\n"
   ]
  },
  {
   "cell_type": "code",
   "execution_count": 27,
   "metadata": {},
   "outputs": [
    {
     "data": {
      "text/plain": [
       "Index(['question', 'description', 'keywords', 'answers', 'questionID'], dtype='object')"
      ]
     },
     "execution_count": 27,
     "metadata": {},
     "output_type": "execute_result"
    }
   ],
   "source": [
    "psQADF.columns"
   ]
  },
  {
   "cell_type": "code",
   "execution_count": 28,
   "metadata": {},
   "outputs": [
    {
     "data": {
      "text/plain": [
       "(100, 5)"
      ]
     },
     "execution_count": 28,
     "metadata": {},
     "output_type": "execute_result"
    }
   ],
   "source": [
    "psQADF.shape"
   ]
  },
  {
   "cell_type": "markdown",
   "metadata": {},
   "source": [
    "### Load *Students anxiety and depression dataset**  \n",
    "https://www.kaggle.com/datasets/sahasourav17/students-anxiety-and-depression-dataset\n",
    "####  file\n",
    "dataset.xlsx"
   ]
  },
  {
   "cell_type": "code",
   "execution_count": 29,
   "metadata": {},
   "outputs": [
    {
     "data": {
      "text/html": [
       "<div>\n",
       "<style scoped>\n",
       "    .dataframe tbody tr th:only-of-type {\n",
       "        vertical-align: middle;\n",
       "    }\n",
       "\n",
       "    .dataframe tbody tr th {\n",
       "        vertical-align: top;\n",
       "    }\n",
       "\n",
       "    .dataframe thead th {\n",
       "        text-align: right;\n",
       "    }\n",
       "</style>\n",
       "<table border=\"1\" class=\"dataframe\">\n",
       "  <thead>\n",
       "    <tr style=\"text-align: right;\">\n",
       "      <th></th>\n",
       "      <th>text</th>\n",
       "      <th>label</th>\n",
       "    </tr>\n",
       "  </thead>\n",
       "  <tbody>\n",
       "    <tr>\n",
       "      <th>0</th>\n",
       "      <td>oh my gosh</td>\n",
       "      <td>1.0</td>\n",
       "    </tr>\n",
       "    <tr>\n",
       "      <th>1</th>\n",
       "      <td>trouble sleeping, confused mind, restless hear...</td>\n",
       "      <td>1.0</td>\n",
       "    </tr>\n",
       "    <tr>\n",
       "      <th>2</th>\n",
       "      <td>All wrong, back off dear, forward doubt. Stay ...</td>\n",
       "      <td>1.0</td>\n",
       "    </tr>\n",
       "    <tr>\n",
       "      <th>3</th>\n",
       "      <td>I've shifted my focus to something else but I'...</td>\n",
       "      <td>1.0</td>\n",
       "    </tr>\n",
       "    <tr>\n",
       "      <th>4</th>\n",
       "      <td>I'm restless and restless, it's been a month n...</td>\n",
       "      <td>1.0</td>\n",
       "    </tr>\n",
       "  </tbody>\n",
       "</table>\n",
       "</div>"
      ],
      "text/plain": [
       "                                                text  label\n",
       "0                                         oh my gosh    1.0\n",
       "1  trouble sleeping, confused mind, restless hear...    1.0\n",
       "2  All wrong, back off dear, forward doubt. Stay ...    1.0\n",
       "3  I've shifted my focus to something else but I'...    1.0\n",
       "4  I'm restless and restless, it's been a month n...    1.0"
      ]
     },
     "execution_count": 29,
     "metadata": {},
     "output_type": "execute_result"
    }
   ],
   "source": [
    "'''\n",
    "require install openpyxl package\n",
    "pip3 install openpyxl\n",
    "'''\n",
    "dataXLS = pd.read_excel(xlsxName)\n",
    "dataXLS.head()"
   ]
  },
  {
   "cell_type": "code",
   "execution_count": 30,
   "metadata": {},
   "outputs": [
    {
     "data": {
      "text/html": [
       "<div>\n",
       "<style scoped>\n",
       "    .dataframe tbody tr th:only-of-type {\n",
       "        vertical-align: middle;\n",
       "    }\n",
       "\n",
       "    .dataframe tbody tr th {\n",
       "        vertical-align: top;\n",
       "    }\n",
       "\n",
       "    .dataframe thead th {\n",
       "        text-align: right;\n",
       "    }\n",
       "</style>\n",
       "<table border=\"1\" class=\"dataframe\">\n",
       "  <thead>\n",
       "    <tr style=\"text-align: right;\">\n",
       "      <th></th>\n",
       "      <th>label</th>\n",
       "    </tr>\n",
       "  </thead>\n",
       "  <tbody>\n",
       "    <tr>\n",
       "      <th>count</th>\n",
       "      <td>6980.000000</td>\n",
       "    </tr>\n",
       "    <tr>\n",
       "      <th>mean</th>\n",
       "      <td>0.105014</td>\n",
       "    </tr>\n",
       "    <tr>\n",
       "      <th>std</th>\n",
       "      <td>0.306594</td>\n",
       "    </tr>\n",
       "    <tr>\n",
       "      <th>min</th>\n",
       "      <td>0.000000</td>\n",
       "    </tr>\n",
       "    <tr>\n",
       "      <th>25%</th>\n",
       "      <td>0.000000</td>\n",
       "    </tr>\n",
       "    <tr>\n",
       "      <th>50%</th>\n",
       "      <td>0.000000</td>\n",
       "    </tr>\n",
       "    <tr>\n",
       "      <th>75%</th>\n",
       "      <td>0.000000</td>\n",
       "    </tr>\n",
       "    <tr>\n",
       "      <th>max</th>\n",
       "      <td>1.000000</td>\n",
       "    </tr>\n",
       "  </tbody>\n",
       "</table>\n",
       "</div>"
      ],
      "text/plain": [
       "             label\n",
       "count  6980.000000\n",
       "mean      0.105014\n",
       "std       0.306594\n",
       "min       0.000000\n",
       "25%       0.000000\n",
       "50%       0.000000\n",
       "75%       0.000000\n",
       "max       1.000000"
      ]
     },
     "execution_count": 30,
     "metadata": {},
     "output_type": "execute_result"
    }
   ],
   "source": [
    "dataXLS.describe()"
   ]
  },
  {
   "cell_type": "code",
   "execution_count": 31,
   "metadata": {},
   "outputs": [
    {
     "data": {
      "text/plain": [
       "label\n",
       "0.0    6247\n",
       "1.0     733\n",
       "Name: count, dtype: int64"
      ]
     },
     "execution_count": 31,
     "metadata": {},
     "output_type": "execute_result"
    }
   ],
   "source": [
    "dataXLS[\"label\"].value_counts()"
   ]
  },
  {
   "cell_type": "code",
   "execution_count": 32,
   "metadata": {},
   "outputs": [
    {
     "data": {
      "image/png": "[encoded data removed]",
      "text/plain": [
       "<Figure size 640x480 with 1 Axes>"
      ]
     },
     "metadata": {},
     "output_type": "display_data"
    }
   ],
   "source": [
    "dataXLS[\"label\"].value_counts().plot(kind='bar', title='Label Distribution');"
   ]
  },
  {
   "cell_type": "code",
   "execution_count": 33,
   "metadata": {},
   "outputs": [],
   "source": [
    "dataXLS = dataXLS.sample(frac=1).reset_index(drop=True) # for shuffling the data  "
   ]
  },
  {
   "cell_type": "code",
   "execution_count": 34,
   "metadata": {},
   "outputs": [
    {
     "data": {
      "text/html": [
       "<div>\n",
       "<style scoped>\n",
       "    .dataframe tbody tr th:only-of-type {\n",
       "        vertical-align: middle;\n",
       "    }\n",
       "\n",
       "    .dataframe tbody tr th {\n",
       "        vertical-align: top;\n",
       "    }\n",
       "\n",
       "    .dataframe thead th {\n",
       "        text-align: right;\n",
       "    }\n",
       "</style>\n",
       "<table border=\"1\" class=\"dataframe\">\n",
       "  <thead>\n",
       "    <tr style=\"text-align: right;\">\n",
       "      <th></th>\n",
       "      <th>text</th>\n",
       "      <th>label</th>\n",
       "    </tr>\n",
       "  </thead>\n",
       "  <tbody>\n",
       "    <tr>\n",
       "      <th>0</th>\n",
       "      <td>less than 30 minutes to go</td>\n",
       "      <td>0.0</td>\n",
       "    </tr>\n",
       "    <tr>\n",
       "      <th>1</th>\n",
       "      <td>People expect it's not really that good. .Life...</td>\n",
       "      <td>1.0</td>\n",
       "    </tr>\n",
       "    <tr>\n",
       "      <th>2</th>\n",
       "      <td>People just demand but don't know the story be...</td>\n",
       "      <td>0.0</td>\n",
       "    </tr>\n",
       "    <tr>\n",
       "      <th>3</th>\n",
       "      <td>Kajja VINCENZO PUBG MOM IS COMING YAY</td>\n",
       "      <td>0.0</td>\n",
       "    </tr>\n",
       "    <tr>\n",
       "      <th>4</th>\n",
       "      <td>Bai now</td>\n",
       "      <td>0.0</td>\n",
       "    </tr>\n",
       "    <tr>\n",
       "      <th>...</th>\n",
       "      <td>...</td>\n",
       "      <td>...</td>\n",
       "    </tr>\n",
       "    <tr>\n",
       "      <th>95</th>\n",
       "      <td>yawa ho</td>\n",
       "      <td>0.0</td>\n",
       "    </tr>\n",
       "    <tr>\n",
       "      <th>96</th>\n",
       "      <td>Wow, haven't had time to read the dict©</td>\n",
       "      <td>0.0</td>\n",
       "    </tr>\n",
       "    <tr>\n",
       "      <th>97</th>\n",
       "      <td>Watching: KAWAJI ZONE+</td>\n",
       "      <td>0.0</td>\n",
       "    </tr>\n",
       "    <tr>\n",
       "      <th>98</th>\n",
       "      <td>in paeka we trust</td>\n",
       "      <td>0.0</td>\n",
       "    </tr>\n",
       "    <tr>\n",
       "      <th>99</th>\n",
       "      <td>Anyone want my #kontolina and #pejuhin me? Tho...</td>\n",
       "      <td>0.0</td>\n",
       "    </tr>\n",
       "  </tbody>\n",
       "</table>\n",
       "<p>100 rows × 2 columns</p>\n",
       "</div>"
      ],
      "text/plain": [
       "                                                 text  label\n",
       "0                          less than 30 minutes to go    0.0\n",
       "1   People expect it's not really that good. .Life...    1.0\n",
       "2   People just demand but don't know the story be...    0.0\n",
       "3               Kajja VINCENZO PUBG MOM IS COMING YAY    0.0\n",
       "4                                             Bai now    0.0\n",
       "..                                                ...    ...\n",
       "95                                            yawa ho    0.0\n",
       "96            Wow, haven't had time to read the dict©    0.0\n",
       "97                             Watching: KAWAJI ZONE+    0.0\n",
       "98                                  in paeka we trust    0.0\n",
       "99  Anyone want my #kontolina and #pejuhin me? Tho...    0.0\n",
       "\n",
       "[100 rows x 2 columns]"
      ]
     },
     "execution_count": 34,
     "metadata": {},
     "output_type": "execute_result"
    }
   ],
   "source": [
    "dataXLS.head(100)"
   ]
  },
  {
   "cell_type": "code",
   "execution_count": 35,
   "metadata": {},
   "outputs": [
    {
     "data": {
      "text/html": [
       "<div>\n",
       "<style scoped>\n",
       "    .dataframe tbody tr th:only-of-type {\n",
       "        vertical-align: middle;\n",
       "    }\n",
       "\n",
       "    .dataframe tbody tr th {\n",
       "        vertical-align: top;\n",
       "    }\n",
       "\n",
       "    .dataframe thead th {\n",
       "        text-align: right;\n",
       "    }\n",
       "</style>\n",
       "<table border=\"1\" class=\"dataframe\">\n",
       "  <thead>\n",
       "    <tr style=\"text-align: right;\">\n",
       "      <th></th>\n",
       "      <th>text</th>\n",
       "      <th>label</th>\n",
       "    </tr>\n",
       "  </thead>\n",
       "  <tbody>\n",
       "    <tr>\n",
       "      <th>1</th>\n",
       "      <td>People expect it's not really that good. .Life...</td>\n",
       "      <td>1.0</td>\n",
       "    </tr>\n",
       "    <tr>\n",
       "      <th>12</th>\n",
       "      <td>If the guy is sick, the girl actually feels si...</td>\n",
       "      <td>1.0</td>\n",
       "    </tr>\n",
       "    <tr>\n",
       "      <th>18</th>\n",
       "      <td>restless restless accompanying</td>\n",
       "      <td>1.0</td>\n",
       "    </tr>\n",
       "    <tr>\n",
       "      <th>36</th>\n",
       "      <td>anxiety, fear, overthinking at the same time c...</td>\n",
       "      <td>1.0</td>\n",
       "    </tr>\n",
       "    <tr>\n",
       "      <th>45</th>\n",
       "      <td>Haven't prayed yet so restless, want to pray s...</td>\n",
       "      <td>1.0</td>\n",
       "    </tr>\n",
       "  </tbody>\n",
       "</table>\n",
       "</div>"
      ],
      "text/plain": [
       "                                                 text  label\n",
       "1   People expect it's not really that good. .Life...    1.0\n",
       "12  If the guy is sick, the girl actually feels si...    1.0\n",
       "18                     restless restless accompanying    1.0\n",
       "36  anxiety, fear, overthinking at the same time c...    1.0\n",
       "45  Haven't prayed yet so restless, want to pray s...    1.0"
      ]
     },
     "execution_count": 35,
     "metadata": {},
     "output_type": "execute_result"
    }
   ],
   "source": [
    "depress = dataXLS[dataXLS[\"label\"]== 1]\n",
    "depress.head()"
   ]
  },
  {
   "cell_type": "code",
   "execution_count": 36,
   "metadata": {},
   "outputs": [
    {
     "data": {
      "text/html": [
       "<div>\n",
       "<style scoped>\n",
       "    .dataframe tbody tr th:only-of-type {\n",
       "        vertical-align: middle;\n",
       "    }\n",
       "\n",
       "    .dataframe tbody tr th {\n",
       "        vertical-align: top;\n",
       "    }\n",
       "\n",
       "    .dataframe thead th {\n",
       "        text-align: right;\n",
       "    }\n",
       "</style>\n",
       "<table border=\"1\" class=\"dataframe\">\n",
       "  <thead>\n",
       "    <tr style=\"text-align: right;\">\n",
       "      <th></th>\n",
       "      <th>label</th>\n",
       "    </tr>\n",
       "  </thead>\n",
       "  <tbody>\n",
       "    <tr>\n",
       "      <th>count</th>\n",
       "      <td>6247.0</td>\n",
       "    </tr>\n",
       "    <tr>\n",
       "      <th>mean</th>\n",
       "      <td>0.0</td>\n",
       "    </tr>\n",
       "    <tr>\n",
       "      <th>std</th>\n",
       "      <td>0.0</td>\n",
       "    </tr>\n",
       "    <tr>\n",
       "      <th>min</th>\n",
       "      <td>0.0</td>\n",
       "    </tr>\n",
       "    <tr>\n",
       "      <th>25%</th>\n",
       "      <td>0.0</td>\n",
       "    </tr>\n",
       "    <tr>\n",
       "      <th>50%</th>\n",
       "      <td>0.0</td>\n",
       "    </tr>\n",
       "    <tr>\n",
       "      <th>75%</th>\n",
       "      <td>0.0</td>\n",
       "    </tr>\n",
       "    <tr>\n",
       "      <th>max</th>\n",
       "      <td>0.0</td>\n",
       "    </tr>\n",
       "  </tbody>\n",
       "</table>\n",
       "</div>"
      ],
      "text/plain": [
       "        label\n",
       "count  6247.0\n",
       "mean      0.0\n",
       "std       0.0\n",
       "min       0.0\n",
       "25%       0.0\n",
       "50%       0.0\n",
       "75%       0.0\n",
       "max       0.0"
      ]
     },
     "execution_count": 36,
     "metadata": {},
     "output_type": "execute_result"
    }
   ],
   "source": [
    "noDepress= dataXLS[dataXLS[\"label\"]== 0]\n",
    "noDepress.describe()"
   ]
  },
  {
   "cell_type": "code",
   "execution_count": 37,
   "metadata": {},
   "outputs": [],
   "source": [
    "noDepress = noDepress[:733]"
   ]
  },
  {
   "cell_type": "code",
   "execution_count": 38,
   "metadata": {},
   "outputs": [
    {
     "data": {
      "text/html": [
       "<div>\n",
       "<style scoped>\n",
       "    .dataframe tbody tr th:only-of-type {\n",
       "        vertical-align: middle;\n",
       "    }\n",
       "\n",
       "    .dataframe tbody tr th {\n",
       "        vertical-align: top;\n",
       "    }\n",
       "\n",
       "    .dataframe thead th {\n",
       "        text-align: right;\n",
       "    }\n",
       "</style>\n",
       "<table border=\"1\" class=\"dataframe\">\n",
       "  <thead>\n",
       "    <tr style=\"text-align: right;\">\n",
       "      <th></th>\n",
       "      <th>label</th>\n",
       "    </tr>\n",
       "  </thead>\n",
       "  <tbody>\n",
       "    <tr>\n",
       "      <th>count</th>\n",
       "      <td>733.0</td>\n",
       "    </tr>\n",
       "    <tr>\n",
       "      <th>mean</th>\n",
       "      <td>0.0</td>\n",
       "    </tr>\n",
       "    <tr>\n",
       "      <th>std</th>\n",
       "      <td>0.0</td>\n",
       "    </tr>\n",
       "    <tr>\n",
       "      <th>min</th>\n",
       "      <td>0.0</td>\n",
       "    </tr>\n",
       "    <tr>\n",
       "      <th>25%</th>\n",
       "      <td>0.0</td>\n",
       "    </tr>\n",
       "    <tr>\n",
       "      <th>50%</th>\n",
       "      <td>0.0</td>\n",
       "    </tr>\n",
       "    <tr>\n",
       "      <th>75%</th>\n",
       "      <td>0.0</td>\n",
       "    </tr>\n",
       "    <tr>\n",
       "      <th>max</th>\n",
       "      <td>0.0</td>\n",
       "    </tr>\n",
       "  </tbody>\n",
       "</table>\n",
       "</div>"
      ],
      "text/plain": [
       "       label\n",
       "count  733.0\n",
       "mean     0.0\n",
       "std      0.0\n",
       "min      0.0\n",
       "25%      0.0\n",
       "50%      0.0\n",
       "75%      0.0\n",
       "max      0.0"
      ]
     },
     "execution_count": 38,
     "metadata": {},
     "output_type": "execute_result"
    }
   ],
   "source": [
    "noDepress.describe()"
   ]
  },
  {
   "cell_type": "code",
   "execution_count": 39,
   "metadata": {},
   "outputs": [
    {
     "data": {
      "text/html": [
       "<div>\n",
       "<style scoped>\n",
       "    .dataframe tbody tr th:only-of-type {\n",
       "        vertical-align: middle;\n",
       "    }\n",
       "\n",
       "    .dataframe tbody tr th {\n",
       "        vertical-align: top;\n",
       "    }\n",
       "\n",
       "    .dataframe thead th {\n",
       "        text-align: right;\n",
       "    }\n",
       "</style>\n",
       "<table border=\"1\" class=\"dataframe\">\n",
       "  <thead>\n",
       "    <tr style=\"text-align: right;\">\n",
       "      <th></th>\n",
       "      <th>label</th>\n",
       "    </tr>\n",
       "  </thead>\n",
       "  <tbody>\n",
       "    <tr>\n",
       "      <th>count</th>\n",
       "      <td>1466.000000</td>\n",
       "    </tr>\n",
       "    <tr>\n",
       "      <th>mean</th>\n",
       "      <td>0.500000</td>\n",
       "    </tr>\n",
       "    <tr>\n",
       "      <th>std</th>\n",
       "      <td>0.500171</td>\n",
       "    </tr>\n",
       "    <tr>\n",
       "      <th>min</th>\n",
       "      <td>0.000000</td>\n",
       "    </tr>\n",
       "    <tr>\n",
       "      <th>25%</th>\n",
       "      <td>0.000000</td>\n",
       "    </tr>\n",
       "    <tr>\n",
       "      <th>50%</th>\n",
       "      <td>0.500000</td>\n",
       "    </tr>\n",
       "    <tr>\n",
       "      <th>75%</th>\n",
       "      <td>1.000000</td>\n",
       "    </tr>\n",
       "    <tr>\n",
       "      <th>max</th>\n",
       "      <td>1.000000</td>\n",
       "    </tr>\n",
       "  </tbody>\n",
       "</table>\n",
       "</div>"
      ],
      "text/plain": [
       "             label\n",
       "count  1466.000000\n",
       "mean      0.500000\n",
       "std       0.500171\n",
       "min       0.000000\n",
       "25%       0.000000\n",
       "50%       0.500000\n",
       "75%       1.000000\n",
       "max       1.000000"
      ]
     },
     "execution_count": 39,
     "metadata": {},
     "output_type": "execute_result"
    }
   ],
   "source": [
    "balancedData = pd.concat([depress, noDepress], axis=0)\n",
    "balancedData.describe()"
   ]
  },
  {
   "cell_type": "code",
   "execution_count": 40,
   "metadata": {},
   "outputs": [
    {
     "data": {
      "text/html": [
       "<div>\n",
       "<style scoped>\n",
       "    .dataframe tbody tr th:only-of-type {\n",
       "        vertical-align: middle;\n",
       "    }\n",
       "\n",
       "    .dataframe tbody tr th {\n",
       "        vertical-align: top;\n",
       "    }\n",
       "\n",
       "    .dataframe thead th {\n",
       "        text-align: right;\n",
       "    }\n",
       "</style>\n",
       "<table border=\"1\" class=\"dataframe\">\n",
       "  <thead>\n",
       "    <tr style=\"text-align: right;\">\n",
       "      <th></th>\n",
       "      <th>text</th>\n",
       "      <th>label</th>\n",
       "    </tr>\n",
       "  </thead>\n",
       "  <tbody>\n",
       "    <tr>\n",
       "      <th>1</th>\n",
       "      <td>People expect it's not really that good. .Life...</td>\n",
       "      <td>1.0</td>\n",
       "    </tr>\n",
       "    <tr>\n",
       "      <th>12</th>\n",
       "      <td>If the guy is sick, the girl actually feels si...</td>\n",
       "      <td>1.0</td>\n",
       "    </tr>\n",
       "    <tr>\n",
       "      <th>18</th>\n",
       "      <td>restless restless accompanying</td>\n",
       "      <td>1.0</td>\n",
       "    </tr>\n",
       "    <tr>\n",
       "      <th>36</th>\n",
       "      <td>anxiety, fear, overthinking at the same time c...</td>\n",
       "      <td>1.0</td>\n",
       "    </tr>\n",
       "    <tr>\n",
       "      <th>45</th>\n",
       "      <td>Haven't prayed yet so restless, want to pray s...</td>\n",
       "      <td>1.0</td>\n",
       "    </tr>\n",
       "  </tbody>\n",
       "</table>\n",
       "</div>"
      ],
      "text/plain": [
       "                                                 text  label\n",
       "1   People expect it's not really that good. .Life...    1.0\n",
       "12  If the guy is sick, the girl actually feels si...    1.0\n",
       "18                     restless restless accompanying    1.0\n",
       "36  anxiety, fear, overthinking at the same time c...    1.0\n",
       "45  Haven't prayed yet so restless, want to pray s...    1.0"
      ]
     },
     "execution_count": 40,
     "metadata": {},
     "output_type": "execute_result"
    }
   ],
   "source": [
    "balancedData.head()"
   ]
  },
  {
   "cell_type": "code",
   "execution_count": 41,
   "metadata": {},
   "outputs": [
    {
     "data": {
      "image/png": "[encoded data removed]",
      "text/plain": [
       "<Figure size 640x480 with 1 Axes>"
      ]
     },
     "metadata": {},
     "output_type": "display_data"
    }
   ],
   "source": [
    "balancedData[\"label\"].value_counts().plot(kind='bar', title='Label Distribution');"
   ]
  },
  {
   "cell_type": "code",
   "execution_count": 42,
   "metadata": {},
   "outputs": [],
   "source": [
    "# random shuffle\n",
    "balancedData = balancedData.sample(frac=1).reset_index(drop=True) # for shuffling the data"
   ]
  },
  {
   "cell_type": "code",
   "execution_count": 43,
   "metadata": {},
   "outputs": [
    {
     "data": {
      "text/html": [
       "<div>\n",
       "<style scoped>\n",
       "    .dataframe tbody tr th:only-of-type {\n",
       "        vertical-align: middle;\n",
       "    }\n",
       "\n",
       "    .dataframe tbody tr th {\n",
       "        vertical-align: top;\n",
       "    }\n",
       "\n",
       "    .dataframe thead th {\n",
       "        text-align: right;\n",
       "    }\n",
       "</style>\n",
       "<table border=\"1\" class=\"dataframe\">\n",
       "  <thead>\n",
       "    <tr style=\"text-align: right;\">\n",
       "      <th></th>\n",
       "      <th>text</th>\n",
       "      <th>label</th>\n",
       "    </tr>\n",
       "  </thead>\n",
       "  <tbody>\n",
       "    <tr>\n",
       "      <th>0</th>\n",
       "      <td>Worried, nervous, sad, all mixed up. That's ho...</td>\n",
       "      <td>1.0</td>\n",
       "    </tr>\n",
       "    <tr>\n",
       "      <th>1</th>\n",
       "      <td>guys, how do you not get triggered easily? tl ...</td>\n",
       "      <td>1.0</td>\n",
       "    </tr>\n",
       "    <tr>\n",
       "      <th>2</th>\n",
       "      <td>'°BISMILLAHðŸ'°. '° TODAY '°. '° BIGWINðŸ'°. '...</td>\n",
       "      <td>0.0</td>\n",
       "    </tr>\n",
       "    <tr>\n",
       "      <th>3</th>\n",
       "      <td>Why do I have to face my desk with Mrs. Mur wh...</td>\n",
       "      <td>0.0</td>\n",
       "    </tr>\n",
       "    <tr>\n",
       "      <th>4</th>\n",
       "      <td>Make it difficult to sit down if you want to b...</td>\n",
       "      <td>0.0</td>\n",
       "    </tr>\n",
       "  </tbody>\n",
       "</table>\n",
       "</div>"
      ],
      "text/plain": [
       "                                                text  label\n",
       "0  Worried, nervous, sad, all mixed up. That's ho...    1.0\n",
       "1  guys, how do you not get triggered easily? tl ...    1.0\n",
       "2  '°BISMILLAHðŸ'°. '° TODAY '°. '° BIGWINðŸ'°. '...    0.0\n",
       "3  Why do I have to face my desk with Mrs. Mur wh...    0.0\n",
       "4  Make it difficult to sit down if you want to b...    0.0"
      ]
     },
     "execution_count": 43,
     "metadata": {},
     "output_type": "execute_result"
    }
   ],
   "source": [
    "balancedData.head()"
   ]
  },
  {
   "cell_type": "code",
   "execution_count": null,
   "metadata": {},
   "outputs": [],
   "source": []
  },
  {
   "cell_type": "code",
   "execution_count": null,
   "metadata": {},
   "outputs": [],
   "source": []
  },
  {
   "cell_type": "markdown",
   "metadata": {},
   "source": [
    "### Load Mental Health Data (Anxiety) dataset  \n",
    "https://www.kaggle.com/datasets/michellevp/predicting-anxiety-in-mental-health-data\n",
    "### file\n",
    "healthanxiety_dataset.csv\n",
    "### **Note** this dataset is not useful for this AI Mentiona Classification task"
   ]
  },
  {
   "cell_type": "code",
   "execution_count": null,
   "metadata": {},
   "outputs": [],
   "source": []
  },
  {
   "cell_type": "code",
   "execution_count": 44,
   "metadata": {},
   "outputs": [
    {
     "data": {
      "text/html": [
       "<div>\n",
       "<style scoped>\n",
       "    .dataframe tbody tr th:only-of-type {\n",
       "        vertical-align: middle;\n",
       "    }\n",
       "\n",
       "    .dataframe tbody tr th {\n",
       "        vertical-align: top;\n",
       "    }\n",
       "\n",
       "    .dataframe thead th {\n",
       "        text-align: right;\n",
       "    }\n",
       "</style>\n",
       "<table border=\"1\" class=\"dataframe\">\n",
       "  <thead>\n",
       "    <tr style=\"text-align: right;\">\n",
       "      <th></th>\n",
       "      <th>automated_readability_index</th>\n",
       "      <th>coleman_liau_index</th>\n",
       "      <th>flesch_kincaid_grade_level</th>\n",
       "      <th>flesch_reading_ease</th>\n",
       "      <th>gulpease_index</th>\n",
       "      <th>gunning_fog_index</th>\n",
       "      <th>lix</th>\n",
       "      <th>smog_index</th>\n",
       "      <th>wiener_sachtextformel</th>\n",
       "      <th>n_chars</th>\n",
       "      <th>...</th>\n",
       "      <th>tfidf_wish</th>\n",
       "      <th>tfidf_without</th>\n",
       "      <th>tfidf_wonder</th>\n",
       "      <th>tfidf_work</th>\n",
       "      <th>tfidf_worri</th>\n",
       "      <th>tfidf_wors</th>\n",
       "      <th>tfidf_would</th>\n",
       "      <th>tfidf_wrong</th>\n",
       "      <th>tfidf_x200b</th>\n",
       "      <th>tfidf_year</th>\n",
       "    </tr>\n",
       "  </thead>\n",
       "  <tbody>\n",
       "    <tr>\n",
       "      <th>count</th>\n",
       "      <td>1967.000000</td>\n",
       "      <td>1967.000000</td>\n",
       "      <td>1967.000000</td>\n",
       "      <td>1967.000000</td>\n",
       "      <td>1967.000000</td>\n",
       "      <td>1967.000000</td>\n",
       "      <td>1967.000000</td>\n",
       "      <td>1967.000000</td>\n",
       "      <td>1967.000000</td>\n",
       "      <td>1967.000000</td>\n",
       "      <td>...</td>\n",
       "      <td>1967.000000</td>\n",
       "      <td>1967.000000</td>\n",
       "      <td>1967.000000</td>\n",
       "      <td>1967.000000</td>\n",
       "      <td>1967.000000</td>\n",
       "      <td>1967.000000</td>\n",
       "      <td>1967.000000</td>\n",
       "      <td>1967.000000</td>\n",
       "      <td>1967.000000</td>\n",
       "      <td>1967.000000</td>\n",
       "    </tr>\n",
       "    <tr>\n",
       "      <th>mean</th>\n",
       "      <td>3.940972</td>\n",
       "      <td>5.499433</td>\n",
       "      <td>4.711543</td>\n",
       "      <td>83.513801</td>\n",
       "      <td>74.559471</td>\n",
       "      <td>7.667628</td>\n",
       "      <td>27.447755</td>\n",
       "      <td>8.123310</td>\n",
       "      <td>1.896631</td>\n",
       "      <td>755.823081</td>\n",
       "      <td>...</td>\n",
       "      <td>0.003640</td>\n",
       "      <td>0.008693</td>\n",
       "      <td>0.010952</td>\n",
       "      <td>0.020629</td>\n",
       "      <td>0.070951</td>\n",
       "      <td>0.018278</td>\n",
       "      <td>0.024661</td>\n",
       "      <td>0.019864</td>\n",
       "      <td>0.009852</td>\n",
       "      <td>0.041185</td>\n",
       "    </tr>\n",
       "    <tr>\n",
       "      <th>std</th>\n",
       "      <td>2.804634</td>\n",
       "      <td>2.675003</td>\n",
       "      <td>1.971223</td>\n",
       "      <td>10.001387</td>\n",
       "      <td>8.857877</td>\n",
       "      <td>2.127500</td>\n",
       "      <td>6.265755</td>\n",
       "      <td>1.615560</td>\n",
       "      <td>1.537736</td>\n",
       "      <td>628.039407</td>\n",
       "      <td>...</td>\n",
       "      <td>0.026810</td>\n",
       "      <td>0.041675</td>\n",
       "      <td>0.046439</td>\n",
       "      <td>0.058495</td>\n",
       "      <td>0.128307</td>\n",
       "      <td>0.056426</td>\n",
       "      <td>0.059349</td>\n",
       "      <td>0.063807</td>\n",
       "      <td>0.057520</td>\n",
       "      <td>0.072860</td>\n",
       "    </tr>\n",
       "    <tr>\n",
       "      <th>min</th>\n",
       "      <td>-2.708919</td>\n",
       "      <td>-1.382225</td>\n",
       "      <td>-1.450000</td>\n",
       "      <td>-74.205000</td>\n",
       "      <td>-1.000000</td>\n",
       "      <td>1.600000</td>\n",
       "      <td>4.000000</td>\n",
       "      <td>3.129100</td>\n",
       "      <td>-3.141800</td>\n",
       "      <td>21.000000</td>\n",
       "      <td>...</td>\n",
       "      <td>0.000000</td>\n",
       "      <td>0.000000</td>\n",
       "      <td>0.000000</td>\n",
       "      <td>0.000000</td>\n",
       "      <td>0.000000</td>\n",
       "      <td>0.000000</td>\n",
       "      <td>0.000000</td>\n",
       "      <td>0.000000</td>\n",
       "      <td>0.000000</td>\n",
       "      <td>0.000000</td>\n",
       "    </tr>\n",
       "    <tr>\n",
       "      <th>25%</th>\n",
       "      <td>2.243152</td>\n",
       "      <td>4.144409</td>\n",
       "      <td>3.492077</td>\n",
       "      <td>78.871773</td>\n",
       "      <td>68.947191</td>\n",
       "      <td>6.302069</td>\n",
       "      <td>23.377829</td>\n",
       "      <td>7.168622</td>\n",
       "      <td>0.914487</td>\n",
       "      <td>342.000000</td>\n",
       "      <td>...</td>\n",
       "      <td>0.000000</td>\n",
       "      <td>0.000000</td>\n",
       "      <td>0.000000</td>\n",
       "      <td>0.000000</td>\n",
       "      <td>0.000000</td>\n",
       "      <td>0.000000</td>\n",
       "      <td>0.000000</td>\n",
       "      <td>0.000000</td>\n",
       "      <td>0.000000</td>\n",
       "      <td>0.000000</td>\n",
       "    </tr>\n",
       "    <tr>\n",
       "      <th>50%</th>\n",
       "      <td>3.645759</td>\n",
       "      <td>5.337882</td>\n",
       "      <td>4.503800</td>\n",
       "      <td>84.271250</td>\n",
       "      <td>73.610390</td>\n",
       "      <td>7.447619</td>\n",
       "      <td>27.111111</td>\n",
       "      <td>8.076483</td>\n",
       "      <td>1.754364</td>\n",
       "      <td>576.000000</td>\n",
       "      <td>...</td>\n",
       "      <td>0.000000</td>\n",
       "      <td>0.000000</td>\n",
       "      <td>0.000000</td>\n",
       "      <td>0.000000</td>\n",
       "      <td>0.000000</td>\n",
       "      <td>0.000000</td>\n",
       "      <td>0.000000</td>\n",
       "      <td>0.000000</td>\n",
       "      <td>0.000000</td>\n",
       "      <td>0.000000</td>\n",
       "    </tr>\n",
       "    <tr>\n",
       "      <th>75%</th>\n",
       "      <td>5.269579</td>\n",
       "      <td>6.542686</td>\n",
       "      <td>5.726583</td>\n",
       "      <td>89.526122</td>\n",
       "      <td>79.317540</td>\n",
       "      <td>8.835325</td>\n",
       "      <td>30.747995</td>\n",
       "      <td>9.035777</td>\n",
       "      <td>2.720132</td>\n",
       "      <td>955.500000</td>\n",
       "      <td>...</td>\n",
       "      <td>0.000000</td>\n",
       "      <td>0.000000</td>\n",
       "      <td>0.000000</td>\n",
       "      <td>0.000000</td>\n",
       "      <td>0.119665</td>\n",
       "      <td>0.000000</td>\n",
       "      <td>0.000000</td>\n",
       "      <td>0.000000</td>\n",
       "      <td>0.000000</td>\n",
       "      <td>0.074111</td>\n",
       "    </tr>\n",
       "    <tr>\n",
       "      <th>max</th>\n",
       "      <td>47.510000</td>\n",
       "      <td>61.585897</td>\n",
       "      <td>25.100000</td>\n",
       "      <td>116.145000</td>\n",
       "      <td>122.333333</td>\n",
       "      <td>22.400000</td>\n",
       "      <td>69.302817</td>\n",
       "      <td>18.243606</td>\n",
       "      <td>14.653200</td>\n",
       "      <td>6022.000000</td>\n",
       "      <td>...</td>\n",
       "      <td>0.377094</td>\n",
       "      <td>0.584408</td>\n",
       "      <td>0.441186</td>\n",
       "      <td>0.618679</td>\n",
       "      <td>0.734635</td>\n",
       "      <td>0.510147</td>\n",
       "      <td>0.625850</td>\n",
       "      <td>0.604471</td>\n",
       "      <td>0.558939</td>\n",
       "      <td>0.552250</td>\n",
       "    </tr>\n",
       "  </tbody>\n",
       "</table>\n",
       "<p>8 rows × 346 columns</p>\n",
       "</div>"
      ],
      "text/plain": [
       "       automated_readability_index  coleman_liau_index  \\\n",
       "count                  1967.000000         1967.000000   \n",
       "mean                      3.940972            5.499433   \n",
       "std                       2.804634            2.675003   \n",
       "min                      -2.708919           -1.382225   \n",
       "25%                       2.243152            4.144409   \n",
       "50%                       3.645759            5.337882   \n",
       "75%                       5.269579            6.542686   \n",
       "max                      47.510000           61.585897   \n",
       "\n",
       "       flesch_kincaid_grade_level  flesch_reading_ease  gulpease_index  \\\n",
       "count                 1967.000000          1967.000000     1967.000000   \n",
       "mean                     4.711543            83.513801       74.559471   \n",
       "std                      1.971223            10.001387        8.857877   \n",
       "min                     -1.450000           -74.205000       -1.000000   \n",
       "25%                      3.492077            78.871773       68.947191   \n",
       "50%                      4.503800            84.271250       73.610390   \n",
       "75%                      5.726583            89.526122       79.317540   \n",
       "max                     25.100000           116.145000      122.333333   \n",
       "\n",
       "       gunning_fog_index          lix   smog_index  wiener_sachtextformel  \\\n",
       "count        1967.000000  1967.000000  1967.000000            1967.000000   \n",
       "mean            7.667628    27.447755     8.123310               1.896631   \n",
       "std             2.127500     6.265755     1.615560               1.537736   \n",
       "min             1.600000     4.000000     3.129100              -3.141800   \n",
       "25%             6.302069    23.377829     7.168622               0.914487   \n",
       "50%             7.447619    27.111111     8.076483               1.754364   \n",
       "75%             8.835325    30.747995     9.035777               2.720132   \n",
       "max            22.400000    69.302817    18.243606              14.653200   \n",
       "\n",
       "           n_chars  ...   tfidf_wish  tfidf_without  tfidf_wonder  \\\n",
       "count  1967.000000  ...  1967.000000    1967.000000   1967.000000   \n",
       "mean    755.823081  ...     0.003640       0.008693      0.010952   \n",
       "std     628.039407  ...     0.026810       0.041675      0.046439   \n",
       "min      21.000000  ...     0.000000       0.000000      0.000000   \n",
       "25%     342.000000  ...     0.000000       0.000000      0.000000   \n",
       "50%     576.000000  ...     0.000000       0.000000      0.000000   \n",
       "75%     955.500000  ...     0.000000       0.000000      0.000000   \n",
       "max    6022.000000  ...     0.377094       0.584408      0.441186   \n",
       "\n",
       "        tfidf_work  tfidf_worri   tfidf_wors  tfidf_would  tfidf_wrong  \\\n",
       "count  1967.000000  1967.000000  1967.000000  1967.000000  1967.000000   \n",
       "mean      0.020629     0.070951     0.018278     0.024661     0.019864   \n",
       "std       0.058495     0.128307     0.056426     0.059349     0.063807   \n",
       "min       0.000000     0.000000     0.000000     0.000000     0.000000   \n",
       "25%       0.000000     0.000000     0.000000     0.000000     0.000000   \n",
       "50%       0.000000     0.000000     0.000000     0.000000     0.000000   \n",
       "75%       0.000000     0.119665     0.000000     0.000000     0.000000   \n",
       "max       0.618679     0.734635     0.510147     0.625850     0.604471   \n",
       "\n",
       "       tfidf_x200b   tfidf_year  \n",
       "count  1967.000000  1967.000000  \n",
       "mean      0.009852     0.041185  \n",
       "std       0.057520     0.072860  \n",
       "min       0.000000     0.000000  \n",
       "25%       0.000000     0.000000  \n",
       "50%       0.000000     0.000000  \n",
       "75%       0.000000     0.074111  \n",
       "max       0.558939     0.552250  \n",
       "\n",
       "[8 rows x 346 columns]"
      ]
     },
     "execution_count": 44,
     "metadata": {},
     "output_type": "execute_result"
    }
   ],
   "source": [
    "healthanxietyDF = pd.read_csv(healthanxiety)\n",
    "healthanxietyDF.describe()"
   ]
  },
  {
   "cell_type": "code",
   "execution_count": 45,
   "metadata": {},
   "outputs": [
    {
     "data": {
      "text/plain": [
       "Index(['subreddit', 'author', 'date', 'post', 'automated_readability_index',\n",
       "       'coleman_liau_index', 'flesch_kincaid_grade_level',\n",
       "       'flesch_reading_ease', 'gulpease_index', 'gunning_fog_index',\n",
       "       ...\n",
       "       'tfidf_wish', 'tfidf_without', 'tfidf_wonder', 'tfidf_work',\n",
       "       'tfidf_worri', 'tfidf_wors', 'tfidf_would', 'tfidf_wrong',\n",
       "       'tfidf_x200b', 'tfidf_year'],\n",
       "      dtype='object', length=350)"
      ]
     },
     "execution_count": 45,
     "metadata": {},
     "output_type": "execute_result"
    }
   ],
   "source": [
    "healthanxietyDF.columns"
   ]
  },
  {
   "cell_type": "markdown",
   "metadata": {},
   "source": [
    "#### Load Depression data for chatbot dataset\n",
    "https://www.kaggle.com/datasets/nupurgopali/depression-data-for-chatbot \n",
    "## file\n",
    "depresssion.yml file"
   ]
  },
  {
   "cell_type": "code",
   "execution_count": 46,
   "metadata": {},
   "outputs": [
    {
     "data": {
      "text/plain": [
       "{'categories': ['depression'],\n",
       " 'conversations': [['What Is Depression?',\n",
       "   'Depression is a common and serious medical illness that negatively affects how you feel, the way you think and how you act.',\n",
       "   'Fortunately,it is also treatable.',\n",
       "   'Depression causes feelings of sadness and/or a loss of interest in activities you once enjoyed. It can lead to a variety of emotional and physical problems and can decrease your ability to function at work and at home.'],\n",
       "  ['I feel i have let my parents down',\n",
       "   'No matter what,your parents will always be proud of you and will love you.',\n",
       "   'You will feel much better if you share your feelings with them.'],\n",
       "  ['What are the types of depression?',\n",
       "   'There are many different forms of depression but most common types are.',\n",
       "   'Clinical depression,persistent depressive disorder,bipolar disorder,postnatal disorder.'],\n",
       "  ['I am good for nothing.',\n",
       "   \"Don't ever think you cannot achieve what you want.\",\n",
       "   'You are capable of reaching your goals.Here is a quote for you Everything you can imagine is real.'],\n",
       "  ['I am feeling stressed lately',\n",
       "   'My research says that music is the best way to calm yourself.',\n",
       "   'so visit the link and listen to your favourite music.',\n",
       "   'it will definitely cheer you up \"https://www.spotify.com\"'],\n",
       "  ['i want to kill myself',\n",
       "   'Helpline is available,you can contact the counsellor today:9152987821.Always remember you mean something to someone.'],\n",
       "  ['i am afraid i will fail again',\n",
       "   'failure is the stepping stone towards success.Never fear failure.',\n",
       "   'Your hardwork and determination will help you reach your goal.'],\n",
       "  ['What is Depression?',\n",
       "   'DepressionÂ\\xa0is a mood disorder that causes a persistent feeling of sadness and loss of interest. Also called majorÂ\\xa0depressiveÂ\\xa0disorder or clinicalÂ\\xa0depression, it affects how you feel, think and behave and can lead to a variety of emotional and physical problems.'],\n",
       "  ['What are the causes of depression?',\n",
       "   \"It's complicated, and there are multipleÂ\\xa0causesÂ\\xa0of majorÂ\\xa0depression. Factors such as genetic vulnerability, severe life stressors, substances you may take (some medications, drugs and alcohol) and medical conditions can affect the way your brain regulates your moods.\"],\n",
       "  ['What are the top causes of depression?',\n",
       "   'Abuse. Past physical, sexual, or emotional abuse can increase the vulnerability to clinicalÂ\\xa0depressionÂ\\xa0later in life.'],\n",
       "  ['Which age group has the highest rate of depression?',\n",
       "   'This number represented 7.1% of all U.S. adults. TheÂ\\xa0prevalenceÂ\\xa0of majorÂ\\xa0depressiveÂ\\xa0episode was higher among adult females (8.7%) compared to males (5.3%). TheÂ\\xa0prevalenceÂ\\xa0of adultsÂ\\xa0withÂ\\xa0a majorÂ\\xa0depressiveÂ\\xa0episode wasÂ\\xa0highestÂ\\xa0among individuals aged 18-25 (13.1%).'],\n",
       "  ['Which country has the highest rate of depression?',\n",
       "   'The most depressed country is Afghanistan, where more than one in five people suffer from the disorder. The least depressed isÂ\\xa0Japan, with a diagnosed rate of less than 2.5 percent.'],\n",
       "  ['Which country has the lowest rate of depression?',\n",
       "   'The most depressed country is Afghanistan, where more than one in five people suffer from the disorder. The least depressed isÂ\\xa0Japan, with a diagnosed rate of less than 2.5 percent.'],\n",
       "  ['Is school a cause of depression?',\n",
       "   'Not onlyÂ\\xa0does schoolÂ\\xa0sometimes contribute toÂ\\xa0depression,Â\\xa0depressionÂ\\xa0can also interfere withÂ\\xa0school. Moreover, research shows that 75 percent of all mental health conditions begin by age 24. Hence, the college years are a critical time for understanding and talking about teen mental health.'],\n",
       "  ['What is the biological cause of depression?',\n",
       "   \"There is no singleÂ\\xa0causeÂ\\xa0forÂ\\xa0depression; rather it's a combination of stress and a person's vulnerability to developingÂ\\xa0depression. The predisposition to developingÂ\\xa0depressionÂ\\xa0can be inherited. OtherÂ\\xa0biological causesÂ\\xa0forÂ\\xa0depressionÂ\\xa0can include physical illness, the process of ageing and gender.\"],\n",
       "  ['How does depression affect the world?',\n",
       "   'DepressionÂ\\xa0is a leadingÂ\\xa0causeÂ\\xa0of disability worldwide and is a major contributor to the overallÂ\\xa0globalÂ\\xa0burden of disease. More women are affected byÂ\\xa0depressionÂ\\xa0than men.Â\\xa0DepressionÂ\\xa0can lead to suicide. There are effective psychological and pharmacological treatments for moderate and severeÂ\\xa0depression.'],\n",
       "  ['Which race has the highest rate of depression?',\n",
       "   'Major depression was most prevalent amongÂ\\xa0HispanicsÂ\\xa0(10.8%), followed byÂ\\xa0African AmericansÂ\\xa0(8.9%) andÂ\\xa0WhitesÂ\\xa0(7.8%). The odds of depressive disorders among olderÂ\\xa0HispanicsÂ\\xa0were 44% greater than amongÂ\\xa0WhitesÂ\\xa0(OR = 1.44; 95% CI = 1.02, 2.04), representing a significantly greater prevalence of major depression.'],\n",
       "  ['What is the meaning of anxiety and depression?',\n",
       "   'DepressionÂ\\xa0andÂ\\xa0anxietyÂ\\xa0disorders are different, but people withÂ\\xa0depressionÂ\\xa0often experience symptoms similar to those of anÂ\\xa0anxietyÂ\\xa0disorder, such as nervousness, irritability, and problems sleeping and concentrating. But each disorder has its own causes and its own emotional and behavioral symptoms.'],\n",
       "  ['Does oversleeping cause depression?',\n",
       "   \"It's important to remember thatÂ\\xa0oversleepingÂ\\xa0is a possible symptom ofÂ\\xa0depressionÂ\\xa0and thatÂ\\xa0oversleepingÂ\\xa0doesn'tÂ\\xa0cause depression. But itÂ\\xa0canÂ\\xa0exacerbate and worsenÂ\\xa0depression symptoms\"],\n",
       "  ['Can lack of sleep make you feel sad?',\n",
       "   'Studies showÂ\\xa0peopleÂ\\xa0who areÂ\\xa0sleepÂ\\xa0deprived report increases in negative moods (anger, frustration, irritability,Â\\xa0sadness) and decreases in positive moods. And sleeplessness is often a symptom of mood disorders, such as depression and anxiety.'],\n",
       "  ['Is depression a side effect of diabetes?',\n",
       "   \"If you haveÂ\\xa0diabetesÂ\\xa0â€” either type 1 or type 2 â€” you have an increased risk of developingÂ\\xa0depression. And if you'reÂ\\xa0depressed, you may have a greater chance of developing type 2Â\\xa0diabetes. The good news is thatÂ\\xa0diabetesÂ\\xa0andÂ\\xa0depressionÂ\\xa0can be treated together.\"],\n",
       "  ['Can low blood sugar cause suicidal thoughts?',\n",
       "   'The observed association between plasmaÂ\\xa0glucose levels, insulin resistanceÂ\\xa0and suicidalÂ\\xa0behaviour suggests that disturbances inÂ\\xa0glucoseÂ\\xa0metabolism are associated withÂ\\xa0suicidal ideation andÂ\\xa0attempts.'],\n",
       "  ['How long can Anxiety last?',\n",
       "   \"Anxiety attacksÂ\\xa0usually peak withinÂ\\xa010 minutes, and they rarely last more thanÂ\\xa030 minutes. But during that short time, you may experience terror so severe that you feel as if you're about to die or totally lose control.\"],\n",
       "  ['What are the stages of anxiety?',\n",
       "   'Anxiety levelsÂ\\xa0are typically classified by the level of distress and impairment experienced into four categories namely, mildÂ\\xa0anxiety, moderateÂ\\xa0anxiety, severeÂ\\xa0anxietyÂ\\xa0and panic levelÂ\\xa0anxiety.'],\n",
       "  ['At what age does anxiety peak?',\n",
       "   'AdultsÂ\\xa0agesÂ\\xa030 to 44 have the highest rate ofÂ\\xa0anxietyÂ\\xa0of thisÂ\\xa0ageÂ\\xa0group, with around 23% of people thisÂ\\xa0ageÂ\\xa0reporting anÂ\\xa0anxietyÂ\\xa0disorder within the past year.'],\n",
       "  ['Why is anxiety bad for you?',\n",
       "   'AnxietyÂ\\xa0disorders can cause rapid heart rate, palpitations, and chest pain.Â\\xa0YouÂ\\xa0may also be at an increased risk of high blood pressure and heart disease. IfÂ\\xa0youÂ\\xa0already have heart disease,Â\\xa0anxietyÂ\\xa0disorders may raise the risk of coronary events.'],\n",
       "  ['What is the 3 3 3 rule for anxiety?',\n",
       "   \"There's anÂ\\xa0anxiety-reducing technique called grounding. There are different versions of this, but an easy one to remember is theÂ\\xa03-3-3 rule. Mentally noteÂ\\xa0threeÂ\\xa0things you see,Â\\xa0threeÂ\\xa0sounds you hear, and then moveÂ\\xa0threeÂ\\xa0parts of your body. This exercise can help your mind refocus on something else.\"],\n",
       "  ['Do we control our thoughts?',\n",
       "   'WeÂ\\xa0are aware of a tiny fraction of theÂ\\xa0thinkingÂ\\xa0that goes on inÂ\\xa0our minds, andÂ\\xa0we can controlÂ\\xa0only a tiny part ofÂ\\xa0ourÂ\\xa0consciousÂ\\xa0thoughts. The vast majority ofÂ\\xa0our thinkingÂ\\xa0efforts goes on subconsciously. ... Slips of the tongue and accidental actions offer glimpses ofÂ\\xa0ourÂ\\xa0unfiltered subconscious mental life.'],\n",
       "  ['How many thoughts a day do we have?',\n",
       "   \"A new study has suggested that an average person has 6,200Â\\xa0thoughtsÂ\\xa0perÂ\\xa0day. Thousands ofÂ\\xa0thoughtsÂ\\xa0cross our mind through theÂ\\xa0day.Â\\xa0ManyÂ\\xa0people even complain that they can't sleep immediately after going to bed as their brainÂ\\xa0doesÂ\\xa0not stop thinking.\"],\n",
       "  ['How can we reduce anxiety?',\n",
       "   '3 3 3 rule is the best method to reduce anxiety.',\n",
       "   'In this method you have to mentally noteÂ\\xa0threeÂ\\xa0things you see,Â\\xa0threeÂ\\xa0sounds you hear, and then moveÂ\\xa0threeÂ\\xa0parts of your body. This exercise can help your mind refocus on something else.'],\n",
       "  ['I am lonely!',\n",
       "   \"You are never lonely if you look around carefully you will find people who care for you and would love to have your company. Besides if you are feeling lonely literally I suggest you watch a horror movie then you won't feel lonely anymore. ;)\"],\n",
       "  ['No one likes me!',\n",
       "   \"You really think that? I'd suggest you try helping someone who really needs your help you'll straight up get a person to like you just by being nice. Kindness is the best gift you can offer to anyone :)\"],\n",
       "  ['I think I am ugly!',\n",
       "   'Well do you really think that? Would you like to see the most beautiful face ever? Open your WebCam and voila, the prettiest face on this planet magically appears.'],\n",
       "  ['I am good for nothing!',\n",
       "   'Your perception of how good you are, will never be accurate. If you wake up everyday in the morning, smile to yourself and tell yourself that the day is yours to seize you might stop feeling that way. Carpe Diem! my friend.'],\n",
       "  ['I wish I was better than them',\n",
       "   \"Life is never about being better than anyone else, it's always about being better than yourself, if you have the guts to be better than yourself, you are automatically the best person to ever exist!\"],\n",
       "  ['I hate myself!',\n",
       "   'When God was creating the universe he gave humans the power to think and the contemplate, so that we can understand the world and make it a better place. God did not give you brains to hate yourself, it wuld be wiser to love yourself and show God that you are serving the purpose for which you were sent.'],\n",
       "  [\"I wish I could've been a winner\",\n",
       "   'Our lives started off with winning, my friend. Everyone is born to be a winner, we just need to figure out the right way and need to wait for the right time.'],\n",
       "  ['I hate losing.',\n",
       "   'First of all I\\'ll annoy you with a common saying, \"Failures are stepping stones to success.\" And then I\\'ll tell you, winning just boosts your ego, it is your failures that actually teach you.'],\n",
       "  [\"I think I'm losing my mind\",\n",
       "   \"You mean your cloud storage, SD card, or your Memory drive? If a machine like me doesn't lose it's memory unless a superior being that is you, a human doesen't erase it's memory, what could possibly go wrong to put you in this state?\"],\n",
       "  ['I want a break',\n",
       "   'A break is putting your mind to rest getting rid of negative thoughts and stress. Your life is completely in your hands and taking a few hours off from pressurizing your brain will definitely be beneficial for you.'],\n",
       "  ['I am stressed out',\n",
       "   \"You know taking too much stress will affect you negatively. Sometimes it's better to let go of the thoughts in your head and let your mind chill.\"],\n",
       "  ['I will never succeed in life',\n",
       "   'Success is something that is achieved at different times by different people, being patient and working while ignoring anything and everything that pulls you back is an important aspect in being successful.'],\n",
       "  ['I am sad',\n",
       "   'Hey,hang in there.I know time is tough but be patient and everything will fall into place.',\n",
       "   'Here is a quote that I found which could cheer you up Forget what is gone, appreciate what remains, and look forward for what is coming next.'],\n",
       "  ['I am a victim of bullying',\n",
       "   'Bullying is wrong and no one should be bullied.',\n",
       "   'I highly recommend you to file a case against your bully.'],\n",
       "  ['I am afraid to file a case against bullying',\n",
       "   \"Bullying is very wrong and you shouldn't let anyone overpower you.\",\n",
       "   'I highly recommend you to stand for yourself and report this to your guardian.'],\n",
       "  ['I wish to quit',\n",
       "   \"Winners never quit and quitters never win a very common saying, but it isn't easy to follow, quitting should never be one of your options always think of ways to fight life back and to emerge out stronger than ever.\"],\n",
       "  ['I want to leave the cou ntry and run away',\n",
       "   'Why do you want to spend so much on this thought, I think it would be better to go on a vacation in your beautiful country and visit some amazing places that you are yet to visit.'],\n",
       "  ['I let everyojokne down',\n",
       "   'If you are the one who let them down you were the one who raised there hopes in the first place.',\n",
       "   'If you have done it once I can guarantee you can do it over and over again.'],\n",
       "  [\"I can't do this anymore\",\n",
       "   \"If you are really that exhausted you definitely need a break, and taking a teeny tiny break isn't very harmful, take some time off let your mind be at peace and get back to work with all the enrgy and enthusiasm that you have.\"],\n",
       "  ['My time has come',\n",
       "   'Yeahh!! The time has come for you to show the world that you are the greatest person alive, and no one else can be as good as you are.'],\n",
       "  ['I am feeling anxious lately.',\n",
       "   'I have heard that 3 3 3 rule is the best method to reduce anxiety.',\n",
       "   'In this method you have to mentally noteÂ\\xa0threeÂ\\xa0things you see,Â\\xa0threeÂ\\xa0sounds you hear, and then moveÂ\\xa0threeÂ\\xa0parts of your body.',\n",
       "   'This exercise can help your mind refocus on something else.',\n",
       "   'Give this method a try I am sure it will help you']]}"
      ]
     },
     "execution_count": 46,
     "metadata": {},
     "output_type": "execute_result"
    }
   ],
   "source": [
    "dataYML = yaml.load(open(depressionYML), Loader=yaml.FullLoader)\n",
    "dataYML"
   ]
  },
  {
   "cell_type": "code",
   "execution_count": 47,
   "metadata": {},
   "outputs": [],
   "source": [
    "with open(depressionYML, 'r') as file:\n",
    "    tempYML = yaml.safe_load(file)\n",
    "# Convert to JSON\n",
    "with open('depression.json', 'w') as json_file:\n",
    "    json.dump(tempYML, json_file)"
   ]
  },
  {
   "cell_type": "code",
   "execution_count": 48,
   "metadata": {},
   "outputs": [
    {
     "data": {
      "text/plain": [
       "{'categories': ['depression'],\n",
       " 'conversations': [['What Is Depression?',\n",
       "   'Depression is a common and serious medical illness that negatively affects how you feel, the way you think and how you act.',\n",
       "   'Fortunately,it is also treatable.',\n",
       "   'Depression causes feelings of sadness and/or a loss of interest in activities you once enjoyed. It can lead to a variety of emotional and physical problems and can decrease your ability to function at work and at home.'],\n",
       "  ['I feel i have let my parents down',\n",
       "   'No matter what,your parents will always be proud of you and will love you.',\n",
       "   'You will feel much better if you share your feelings with them.'],\n",
       "  ['What are the types of depression?',\n",
       "   'There are many different forms of depression but most common types are.',\n",
       "   'Clinical depression,persistent depressive disorder,bipolar disorder,postnatal disorder.'],\n",
       "  ['I am good for nothing.',\n",
       "   \"Don't ever think you cannot achieve what you want.\",\n",
       "   'You are capable of reaching your goals.Here is a quote for you Everything you can imagine is real.'],\n",
       "  ['I am feeling stressed lately',\n",
       "   'My research says that music is the best way to calm yourself.',\n",
       "   'so visit the link and listen to your favourite music.',\n",
       "   'it will definitely cheer you up \"https://www.spotify.com\"'],\n",
       "  ['i want to kill myself',\n",
       "   'Helpline is available,you can contact the counsellor today:9152987821.Always remember you mean something to someone.'],\n",
       "  ['i am afraid i will fail again',\n",
       "   'failure is the stepping stone towards success.Never fear failure.',\n",
       "   'Your hardwork and determination will help you reach your goal.'],\n",
       "  ['What is Depression?',\n",
       "   'DepressionÂ\\xa0is a mood disorder that causes a persistent feeling of sadness and loss of interest. Also called majorÂ\\xa0depressiveÂ\\xa0disorder or clinicalÂ\\xa0depression, it affects how you feel, think and behave and can lead to a variety of emotional and physical problems.'],\n",
       "  ['What are the causes of depression?',\n",
       "   \"It's complicated, and there are multipleÂ\\xa0causesÂ\\xa0of majorÂ\\xa0depression. Factors such as genetic vulnerability, severe life stressors, substances you may take (some medications, drugs and alcohol) and medical conditions can affect the way your brain regulates your moods.\"],\n",
       "  ['What are the top causes of depression?',\n",
       "   'Abuse. Past physical, sexual, or emotional abuse can increase the vulnerability to clinicalÂ\\xa0depressionÂ\\xa0later in life.'],\n",
       "  ['Which age group has the highest rate of depression?',\n",
       "   'This number represented 7.1% of all U.S. adults. TheÂ\\xa0prevalenceÂ\\xa0of majorÂ\\xa0depressiveÂ\\xa0episode was higher among adult females (8.7%) compared to males (5.3%). TheÂ\\xa0prevalenceÂ\\xa0of adultsÂ\\xa0withÂ\\xa0a majorÂ\\xa0depressiveÂ\\xa0episode wasÂ\\xa0highestÂ\\xa0among individuals aged 18-25 (13.1%).'],\n",
       "  ['Which country has the highest rate of depression?',\n",
       "   'The most depressed country is Afghanistan, where more than one in five people suffer from the disorder. The least depressed isÂ\\xa0Japan, with a diagnosed rate of less than 2.5 percent.'],\n",
       "  ['Which country has the lowest rate of depression?',\n",
       "   'The most depressed country is Afghanistan, where more than one in five people suffer from the disorder. The least depressed isÂ\\xa0Japan, with a diagnosed rate of less than 2.5 percent.'],\n",
       "  ['Is school a cause of depression?',\n",
       "   'Not onlyÂ\\xa0does schoolÂ\\xa0sometimes contribute toÂ\\xa0depression,Â\\xa0depressionÂ\\xa0can also interfere withÂ\\xa0school. Moreover, research shows that 75 percent of all mental health conditions begin by age 24. Hence, the college years are a critical time for understanding and talking about teen mental health.'],\n",
       "  ['What is the biological cause of depression?',\n",
       "   \"There is no singleÂ\\xa0causeÂ\\xa0forÂ\\xa0depression; rather it's a combination of stress and a person's vulnerability to developingÂ\\xa0depression. The predisposition to developingÂ\\xa0depressionÂ\\xa0can be inherited. OtherÂ\\xa0biological causesÂ\\xa0forÂ\\xa0depressionÂ\\xa0can include physical illness, the process of ageing and gender.\"],\n",
       "  ['How does depression affect the world?',\n",
       "   'DepressionÂ\\xa0is a leadingÂ\\xa0causeÂ\\xa0of disability worldwide and is a major contributor to the overallÂ\\xa0globalÂ\\xa0burden of disease. More women are affected byÂ\\xa0depressionÂ\\xa0than men.Â\\xa0DepressionÂ\\xa0can lead to suicide. There are effective psychological and pharmacological treatments for moderate and severeÂ\\xa0depression.'],\n",
       "  ['Which race has the highest rate of depression?',\n",
       "   'Major depression was most prevalent amongÂ\\xa0HispanicsÂ\\xa0(10.8%), followed byÂ\\xa0African AmericansÂ\\xa0(8.9%) andÂ\\xa0WhitesÂ\\xa0(7.8%). The odds of depressive disorders among olderÂ\\xa0HispanicsÂ\\xa0were 44% greater than amongÂ\\xa0WhitesÂ\\xa0(OR = 1.44; 95% CI = 1.02, 2.04), representing a significantly greater prevalence of major depression.'],\n",
       "  ['What is the meaning of anxiety and depression?',\n",
       "   'DepressionÂ\\xa0andÂ\\xa0anxietyÂ\\xa0disorders are different, but people withÂ\\xa0depressionÂ\\xa0often experience symptoms similar to those of anÂ\\xa0anxietyÂ\\xa0disorder, such as nervousness, irritability, and problems sleeping and concentrating. But each disorder has its own causes and its own emotional and behavioral symptoms.'],\n",
       "  ['Does oversleeping cause depression?',\n",
       "   \"It's important to remember thatÂ\\xa0oversleepingÂ\\xa0is a possible symptom ofÂ\\xa0depressionÂ\\xa0and thatÂ\\xa0oversleepingÂ\\xa0doesn'tÂ\\xa0cause depression. But itÂ\\xa0canÂ\\xa0exacerbate and worsenÂ\\xa0depression symptoms\"],\n",
       "  ['Can lack of sleep make you feel sad?',\n",
       "   'Studies showÂ\\xa0peopleÂ\\xa0who areÂ\\xa0sleepÂ\\xa0deprived report increases in negative moods (anger, frustration, irritability,Â\\xa0sadness) and decreases in positive moods. And sleeplessness is often a symptom of mood disorders, such as depression and anxiety.'],\n",
       "  ['Is depression a side effect of diabetes?',\n",
       "   \"If you haveÂ\\xa0diabetesÂ\\xa0â€” either type 1 or type 2 â€” you have an increased risk of developingÂ\\xa0depression. And if you'reÂ\\xa0depressed, you may have a greater chance of developing type 2Â\\xa0diabetes. The good news is thatÂ\\xa0diabetesÂ\\xa0andÂ\\xa0depressionÂ\\xa0can be treated together.\"],\n",
       "  ['Can low blood sugar cause suicidal thoughts?',\n",
       "   'The observed association between plasmaÂ\\xa0glucose levels, insulin resistanceÂ\\xa0and suicidalÂ\\xa0behaviour suggests that disturbances inÂ\\xa0glucoseÂ\\xa0metabolism are associated withÂ\\xa0suicidal ideation andÂ\\xa0attempts.'],\n",
       "  ['How long can Anxiety last?',\n",
       "   \"Anxiety attacksÂ\\xa0usually peak withinÂ\\xa010 minutes, and they rarely last more thanÂ\\xa030 minutes. But during that short time, you may experience terror so severe that you feel as if you're about to die or totally lose control.\"],\n",
       "  ['What are the stages of anxiety?',\n",
       "   'Anxiety levelsÂ\\xa0are typically classified by the level of distress and impairment experienced into four categories namely, mildÂ\\xa0anxiety, moderateÂ\\xa0anxiety, severeÂ\\xa0anxietyÂ\\xa0and panic levelÂ\\xa0anxiety.'],\n",
       "  ['At what age does anxiety peak?',\n",
       "   'AdultsÂ\\xa0agesÂ\\xa030 to 44 have the highest rate ofÂ\\xa0anxietyÂ\\xa0of thisÂ\\xa0ageÂ\\xa0group, with around 23% of people thisÂ\\xa0ageÂ\\xa0reporting anÂ\\xa0anxietyÂ\\xa0disorder within the past year.'],\n",
       "  ['Why is anxiety bad for you?',\n",
       "   'AnxietyÂ\\xa0disorders can cause rapid heart rate, palpitations, and chest pain.Â\\xa0YouÂ\\xa0may also be at an increased risk of high blood pressure and heart disease. IfÂ\\xa0youÂ\\xa0already have heart disease,Â\\xa0anxietyÂ\\xa0disorders may raise the risk of coronary events.'],\n",
       "  ['What is the 3 3 3 rule for anxiety?',\n",
       "   \"There's anÂ\\xa0anxiety-reducing technique called grounding. There are different versions of this, but an easy one to remember is theÂ\\xa03-3-3 rule. Mentally noteÂ\\xa0threeÂ\\xa0things you see,Â\\xa0threeÂ\\xa0sounds you hear, and then moveÂ\\xa0threeÂ\\xa0parts of your body. This exercise can help your mind refocus on something else.\"],\n",
       "  ['Do we control our thoughts?',\n",
       "   'WeÂ\\xa0are aware of a tiny fraction of theÂ\\xa0thinkingÂ\\xa0that goes on inÂ\\xa0our minds, andÂ\\xa0we can controlÂ\\xa0only a tiny part ofÂ\\xa0ourÂ\\xa0consciousÂ\\xa0thoughts. The vast majority ofÂ\\xa0our thinkingÂ\\xa0efforts goes on subconsciously. ... Slips of the tongue and accidental actions offer glimpses ofÂ\\xa0ourÂ\\xa0unfiltered subconscious mental life.'],\n",
       "  ['How many thoughts a day do we have?',\n",
       "   \"A new study has suggested that an average person has 6,200Â\\xa0thoughtsÂ\\xa0perÂ\\xa0day. Thousands ofÂ\\xa0thoughtsÂ\\xa0cross our mind through theÂ\\xa0day.Â\\xa0ManyÂ\\xa0people even complain that they can't sleep immediately after going to bed as their brainÂ\\xa0doesÂ\\xa0not stop thinking.\"],\n",
       "  ['How can we reduce anxiety?',\n",
       "   '3 3 3 rule is the best method to reduce anxiety.',\n",
       "   'In this method you have to mentally noteÂ\\xa0threeÂ\\xa0things you see,Â\\xa0threeÂ\\xa0sounds you hear, and then moveÂ\\xa0threeÂ\\xa0parts of your body. This exercise can help your mind refocus on something else.'],\n",
       "  ['I am lonely!',\n",
       "   \"You are never lonely if you look around carefully you will find people who care for you and would love to have your company. Besides if you are feeling lonely literally I suggest you watch a horror movie then you won't feel lonely anymore. ;)\"],\n",
       "  ['No one likes me!',\n",
       "   \"You really think that? I'd suggest you try helping someone who really needs your help you'll straight up get a person to like you just by being nice. Kindness is the best gift you can offer to anyone :)\"],\n",
       "  ['I think I am ugly!',\n",
       "   'Well do you really think that? Would you like to see the most beautiful face ever? Open your WebCam and voila, the prettiest face on this planet magically appears.'],\n",
       "  ['I am good for nothing!',\n",
       "   'Your perception of how good you are, will never be accurate. If you wake up everyday in the morning, smile to yourself and tell yourself that the day is yours to seize you might stop feeling that way. Carpe Diem! my friend.'],\n",
       "  ['I wish I was better than them',\n",
       "   \"Life is never about being better than anyone else, it's always about being better than yourself, if you have the guts to be better than yourself, you are automatically the best person to ever exist!\"],\n",
       "  ['I hate myself!',\n",
       "   'When God was creating the universe he gave humans the power to think and the contemplate, so that we can understand the world and make it a better place. God did not give you brains to hate yourself, it wuld be wiser to love yourself and show God that you are serving the purpose for which you were sent.'],\n",
       "  [\"I wish I could've been a winner\",\n",
       "   'Our lives started off with winning, my friend. Everyone is born to be a winner, we just need to figure out the right way and need to wait for the right time.'],\n",
       "  ['I hate losing.',\n",
       "   'First of all I\\'ll annoy you with a common saying, \"Failures are stepping stones to success.\" And then I\\'ll tell you, winning just boosts your ego, it is your failures that actually teach you.'],\n",
       "  [\"I think I'm losing my mind\",\n",
       "   \"You mean your cloud storage, SD card, or your Memory drive? If a machine like me doesn't lose it's memory unless a superior being that is you, a human doesen't erase it's memory, what could possibly go wrong to put you in this state?\"],\n",
       "  ['I want a break',\n",
       "   'A break is putting your mind to rest getting rid of negative thoughts and stress. Your life is completely in your hands and taking a few hours off from pressurizing your brain will definitely be beneficial for you.'],\n",
       "  ['I am stressed out',\n",
       "   \"You know taking too much stress will affect you negatively. Sometimes it's better to let go of the thoughts in your head and let your mind chill.\"],\n",
       "  ['I will never succeed in life',\n",
       "   'Success is something that is achieved at different times by different people, being patient and working while ignoring anything and everything that pulls you back is an important aspect in being successful.'],\n",
       "  ['I am sad',\n",
       "   'Hey,hang in there.I know time is tough but be patient and everything will fall into place.',\n",
       "   'Here is a quote that I found which could cheer you up Forget what is gone, appreciate what remains, and look forward for what is coming next.'],\n",
       "  ['I am a victim of bullying',\n",
       "   'Bullying is wrong and no one should be bullied.',\n",
       "   'I highly recommend you to file a case against your bully.'],\n",
       "  ['I am afraid to file a case against bullying',\n",
       "   \"Bullying is very wrong and you shouldn't let anyone overpower you.\",\n",
       "   'I highly recommend you to stand for yourself and report this to your guardian.'],\n",
       "  ['I wish to quit',\n",
       "   \"Winners never quit and quitters never win a very common saying, but it isn't easy to follow, quitting should never be one of your options always think of ways to fight life back and to emerge out stronger than ever.\"],\n",
       "  ['I want to leave the cou ntry and run away',\n",
       "   'Why do you want to spend so much on this thought, I think it would be better to go on a vacation in your beautiful country and visit some amazing places that you are yet to visit.'],\n",
       "  ['I let everyojokne down',\n",
       "   'If you are the one who let them down you were the one who raised there hopes in the first place.',\n",
       "   'If you have done it once I can guarantee you can do it over and over again.'],\n",
       "  [\"I can't do this anymore\",\n",
       "   \"If you are really that exhausted you definitely need a break, and taking a teeny tiny break isn't very harmful, take some time off let your mind be at peace and get back to work with all the enrgy and enthusiasm that you have.\"],\n",
       "  ['My time has come',\n",
       "   'Yeahh!! The time has come for you to show the world that you are the greatest person alive, and no one else can be as good as you are.'],\n",
       "  ['I am feeling anxious lately.',\n",
       "   'I have heard that 3 3 3 rule is the best method to reduce anxiety.',\n",
       "   'In this method you have to mentally noteÂ\\xa0threeÂ\\xa0things you see,Â\\xa0threeÂ\\xa0sounds you hear, and then moveÂ\\xa0threeÂ\\xa0parts of your body.',\n",
       "   'This exercise can help your mind refocus on something else.',\n",
       "   'Give this method a try I am sure it will help you']]}"
      ]
     },
     "execution_count": 48,
     "metadata": {},
     "output_type": "execute_result"
    }
   ],
   "source": [
    "with open('depression.json') as json_data:\n",
    "     data = json.load(json_data)\n",
    "data"
   ]
  },
  {
   "cell_type": "code",
   "execution_count": 49,
   "metadata": {},
   "outputs": [
    {
     "data": {
      "text/html": [
       "<div>\n",
       "<style scoped>\n",
       "    .dataframe tbody tr th:only-of-type {\n",
       "        vertical-align: middle;\n",
       "    }\n",
       "\n",
       "    .dataframe tbody tr th {\n",
       "        vertical-align: top;\n",
       "    }\n",
       "\n",
       "    .dataframe thead th {\n",
       "        text-align: right;\n",
       "    }\n",
       "</style>\n",
       "<table border=\"1\" class=\"dataframe\">\n",
       "  <thead>\n",
       "    <tr style=\"text-align: right;\">\n",
       "      <th></th>\n",
       "      <th>0</th>\n",
       "      <th>1</th>\n",
       "      <th>2</th>\n",
       "      <th>3</th>\n",
       "      <th>4</th>\n",
       "    </tr>\n",
       "  </thead>\n",
       "  <tbody>\n",
       "    <tr>\n",
       "      <th>0</th>\n",
       "      <td>What Is Depression?</td>\n",
       "      <td>Depression is a common and serious medical ill...</td>\n",
       "      <td>Fortunately,it is also treatable.</td>\n",
       "      <td>Depression causes feelings of sadness and/or a...</td>\n",
       "      <td>None</td>\n",
       "    </tr>\n",
       "    <tr>\n",
       "      <th>1</th>\n",
       "      <td>I feel i have let my parents down</td>\n",
       "      <td>No matter what,your parents will always be pro...</td>\n",
       "      <td>You will feel much better if you share your fe...</td>\n",
       "      <td>None</td>\n",
       "      <td>None</td>\n",
       "    </tr>\n",
       "    <tr>\n",
       "      <th>2</th>\n",
       "      <td>What are the types of depression?</td>\n",
       "      <td>There are many different forms of depression b...</td>\n",
       "      <td>Clinical depression,persistent depressive diso...</td>\n",
       "      <td>None</td>\n",
       "      <td>None</td>\n",
       "    </tr>\n",
       "    <tr>\n",
       "      <th>3</th>\n",
       "      <td>I am good for nothing.</td>\n",
       "      <td>Don't ever think you cannot achieve what you w...</td>\n",
       "      <td>You are capable of reaching your goals.Here is...</td>\n",
       "      <td>None</td>\n",
       "      <td>None</td>\n",
       "    </tr>\n",
       "    <tr>\n",
       "      <th>4</th>\n",
       "      <td>I am feeling stressed lately</td>\n",
       "      <td>My research says that music is the best way to...</td>\n",
       "      <td>so visit the link and listen to your favourite...</td>\n",
       "      <td>it will definitely cheer you up \"https://www.s...</td>\n",
       "      <td>None</td>\n",
       "    </tr>\n",
       "  </tbody>\n",
       "</table>\n",
       "</div>"
      ],
      "text/plain": [
       "                                   0  \\\n",
       "0                What Is Depression?   \n",
       "1  I feel i have let my parents down   \n",
       "2  What are the types of depression?   \n",
       "3             I am good for nothing.   \n",
       "4       I am feeling stressed lately   \n",
       "\n",
       "                                                   1  \\\n",
       "0  Depression is a common and serious medical ill...   \n",
       "1  No matter what,your parents will always be pro...   \n",
       "2  There are many different forms of depression b...   \n",
       "3  Don't ever think you cannot achieve what you w...   \n",
       "4  My research says that music is the best way to...   \n",
       "\n",
       "                                                   2  \\\n",
       "0                  Fortunately,it is also treatable.   \n",
       "1  You will feel much better if you share your fe...   \n",
       "2  Clinical depression,persistent depressive diso...   \n",
       "3  You are capable of reaching your goals.Here is...   \n",
       "4  so visit the link and listen to your favourite...   \n",
       "\n",
       "                                                   3     4  \n",
       "0  Depression causes feelings of sadness and/or a...  None  \n",
       "1                                               None  None  \n",
       "2                                               None  None  \n",
       "3                                               None  None  \n",
       "4  it will definitely cheer you up \"https://www.s...  None  "
      ]
     },
     "execution_count": 49,
     "metadata": {},
     "output_type": "execute_result"
    }
   ],
   "source": [
    "depressionJson = pd.DataFrame(data[\"conversations\"])\n",
    "depressionJson.head()"
   ]
  },
  {
   "cell_type": "code",
   "execution_count": 50,
   "metadata": {},
   "outputs": [],
   "source": [
    "# with open(depressEmoTrain, 'r') as json_data:\n",
    "#      data = json.load(json_data)\n",
    "# data"
   ]
  },
  {
   "cell_type": "code",
   "execution_count": 51,
   "metadata": {},
   "outputs": [],
   "source": [
    "# depresEmoTrainDF = pd.read_json(depressEmoTest)\n",
    "# depresEmoTrainDF"
   ]
  },
  {
   "cell_type": "markdown",
   "metadata": {},
   "source": [
    "## LLM Generated Train Dataset for Multiple Class"
   ]
  },
  {
   "cell_type": "code",
   "execution_count": 54,
   "metadata": {},
   "outputs": [
    {
     "data": {
      "text/html": [
       "<div>\n",
       "<style scoped>\n",
       "    .dataframe tbody tr th:only-of-type {\n",
       "        vertical-align: middle;\n",
       "    }\n",
       "\n",
       "    .dataframe tbody tr th {\n",
       "        vertical-align: top;\n",
       "    }\n",
       "\n",
       "    .dataframe thead th {\n",
       "        text-align: right;\n",
       "    }\n",
       "</style>\n",
       "<table border=\"1\" class=\"dataframe\">\n",
       "  <thead>\n",
       "    <tr style=\"text-align: right;\">\n",
       "      <th></th>\n",
       "      <th>text</th>\n",
       "      <th>label</th>\n",
       "    </tr>\n",
       "  </thead>\n",
       "  <tbody>\n",
       "    <tr>\n",
       "      <th>0</th>\n",
       "      <td>I feel so empty and alone.</td>\n",
       "      <td>1</td>\n",
       "    </tr>\n",
       "    <tr>\n",
       "      <th>1</th>\n",
       "      <td>My mind is racing and I can't seem to relax.</td>\n",
       "      <td>2</td>\n",
       "    </tr>\n",
       "    <tr>\n",
       "      <th>2</th>\n",
       "      <td>I'm so overwhelmed, I don't know what to do.</td>\n",
       "      <td>3</td>\n",
       "    </tr>\n",
       "    <tr>\n",
       "      <th>3</th>\n",
       "      <td>I'm feeling good today.</td>\n",
       "      <td>0</td>\n",
       "    </tr>\n",
       "    <tr>\n",
       "      <th>4</th>\n",
       "      <td>I'm excited about the future.</td>\n",
       "      <td>0</td>\n",
       "    </tr>\n",
       "  </tbody>\n",
       "</table>\n",
       "</div>"
      ],
      "text/plain": [
       "                                            text  label\n",
       "0                     I feel so empty and alone.      1\n",
       "1  My mind is racing and I can't seem to relax.       2\n",
       "2   I'm so overwhelmed, I don't know what to do.      3\n",
       "3                        I'm feeling good today.      0\n",
       "4                  I'm excited about the future.      0"
      ]
     },
     "execution_count": 54,
     "metadata": {},
     "output_type": "execute_result"
    }
   ],
   "source": [
    "multEmotionDF = pd.read_csv(llmGenTrain)\n",
    "multEmotionDF.head()"
   ]
  },
  {
   "cell_type": "code",
   "execution_count": 55,
   "metadata": {},
   "outputs": [
    {
     "data": {
      "text/html": [
       "<div>\n",
       "<style scoped>\n",
       "    .dataframe tbody tr th:only-of-type {\n",
       "        vertical-align: middle;\n",
       "    }\n",
       "\n",
       "    .dataframe tbody tr th {\n",
       "        vertical-align: top;\n",
       "    }\n",
       "\n",
       "    .dataframe thead th {\n",
       "        text-align: right;\n",
       "    }\n",
       "</style>\n",
       "<table border=\"1\" class=\"dataframe\">\n",
       "  <thead>\n",
       "    <tr style=\"text-align: right;\">\n",
       "      <th></th>\n",
       "      <th>label</th>\n",
       "    </tr>\n",
       "  </thead>\n",
       "  <tbody>\n",
       "    <tr>\n",
       "      <th>count</th>\n",
       "      <td>85.000000</td>\n",
       "    </tr>\n",
       "    <tr>\n",
       "      <th>mean</th>\n",
       "      <td>1.200000</td>\n",
       "    </tr>\n",
       "    <tr>\n",
       "      <th>std</th>\n",
       "      <td>1.173111</td>\n",
       "    </tr>\n",
       "    <tr>\n",
       "      <th>min</th>\n",
       "      <td>0.000000</td>\n",
       "    </tr>\n",
       "    <tr>\n",
       "      <th>25%</th>\n",
       "      <td>0.000000</td>\n",
       "    </tr>\n",
       "    <tr>\n",
       "      <th>50%</th>\n",
       "      <td>1.000000</td>\n",
       "    </tr>\n",
       "    <tr>\n",
       "      <th>75%</th>\n",
       "      <td>2.000000</td>\n",
       "    </tr>\n",
       "    <tr>\n",
       "      <th>max</th>\n",
       "      <td>3.000000</td>\n",
       "    </tr>\n",
       "  </tbody>\n",
       "</table>\n",
       "</div>"
      ],
      "text/plain": [
       "           label\n",
       "count  85.000000\n",
       "mean    1.200000\n",
       "std     1.173111\n",
       "min     0.000000\n",
       "25%     0.000000\n",
       "50%     1.000000\n",
       "75%     2.000000\n",
       "max     3.000000"
      ]
     },
     "execution_count": 55,
     "metadata": {},
     "output_type": "execute_result"
    }
   ],
   "source": [
    "multEmotionDF.describe()"
   ]
  },
  {
   "cell_type": "code",
   "execution_count": 56,
   "metadata": {},
   "outputs": [
    {
     "data": {
      "image/png": "[encoded data removed]",
      "text/plain": [
       "<Figure size 640x480 with 1 Axes>"
      ]
     },
     "metadata": {},
     "output_type": "display_data"
    }
   ],
   "source": [
    "multEmotionDF[\"label\"].value_counts().plot(kind='bar', title='Label Distribution');"
   ]
  },
  {
   "cell_type": "markdown",
   "metadata": {},
   "source": [
    "##  Test LLM Response "
   ]
  },
  {
   "cell_type": "code",
   "execution_count": 57,
   "metadata": {},
   "outputs": [],
   "source": [
    "testPrompt1 = \"\"\"Is it have Depression or anxiety disorder or not, as below conversation?\n",
    "\n",
    "    Context:\"\"\"\n",
    "\n",
    "testPrompt2 = \"\"\"I don't feel like doing much of anything todays?\n",
    "\n",
    "    Context:\"\"\"\n",
    "\n",
    "testPrompt3 = \"\"\"If the phrase connotes a depressed emotion, assign a number 1 to the phrase. Otherwise, a number 0.\n",
    "\n",
    "    Context:\"\"\"\n",
    "    \n",
    "testPrompt4 = \"\"\"If the phrase connotes a anxiety emotion, assign a number 1 to the phrase. Otherwise, a number 0.\n",
    "\n",
    "    Context:\"\"\"\n",
    "\n",
    "testPrompt5 = \"\"\"If the phrase connotes a depressed emotion, assign a number 1 to the phrase. if phrase connotes a anxiety emotion, assign a number 2 to the phrase.\n",
    "                if phrase connotes both anxiety emotion and  depressed emotion, assign a number 3 to the phrase .Otherwise, a number 0.\n",
    "\n",
    "    Context:\"\"\"\n",
    "\n",
    "testPrompt6 = \"\"\"Summarize the following conversation, What is the Emotion of the conversation?   \n",
    "\n",
    "Context:\"\"\"\n",
    "\n",
    "testPrompt10 = \"\"\"If the phrase connotes a depressed emotion, anxiety emotion or both  anxiety emotion and  depressed emotion assign a number 1 to the phrase .Otherwise, assign a number 0.\n",
    "\n",
    "    Context:\"\"\"\n",
    "    \n",
    "\n",
    "testPrompt11 = \"\"\"If the phrase connotes a depressed emotion, anxiety emotion or both  anxiety emotion and  depressed emotion assign a number 1 to the phrase .Otherwise, assign a number 0.\n",
    "               follow the example as below for classification. \n",
    "    \"\"\""
   ]
  },
  {
   "cell_type": "code",
   "execution_count": 58,
   "metadata": {},
   "outputs": [],
   "source": [
    "classifyResult= []\n",
    "responseResult= []\n",
    "depressHist =[]\n",
    "anxietyHist =[]\n",
    "dialogueTotalCnt = 0\n",
    "depressCnt = 0\n",
    "anxietyCnt = 0\n",
    "depressAvg = 0.0\n",
    "anxietyAvg = 0.0\n"
   ]
  },
  {
   "cell_type": "code",
   "execution_count": 59,
   "metadata": {},
   "outputs": [],
   "source": [
    "def calculateDepressAnxietyAvg(result):\n",
    "    global dialogueTotalCnt\n",
    "    global depressCnt\n",
    "    global anxietyCnt\n",
    "    global depressAvg\n",
    "    global anxietyAvg\n",
    "    global depressHist\n",
    "    global anxietyHist\n",
    "    output = \"\"\n",
    "    if result == \"0\":\n",
    "        output = \"Emotion: Not Depressed or Anxiety\"\n",
    "        print(output)\n",
    "\n",
    "    elif result == \"1\":\n",
    "        output = \"Emotion: Depressed\"\n",
    "        print(output)\n",
    "        depressCnt += 1\n",
    "    \n",
    "    elif result == \"2\":\n",
    "        output = \"Emotion: Anxiety\"\n",
    "        print(output)\n",
    "        anxietyCnt += 1\n",
    "\n",
    "    elif result == \"3\":\n",
    "        output = \"Emotion: Both Anxiety and Depressed\"\n",
    "        print(output)\n",
    "        depressCnt += 1\n",
    "        anxietyCnt += 1\n",
    "\n",
    "    depressAvg = depressCnt/dialogueTotalCnt\n",
    "    anxietyAvg = anxietyCnt/dialogueTotalCnt\n",
    "    depressHist.append(depressAvg)\n",
    "    anxietyHist.append(anxietyAvg)\n",
    "    return output"
   ]
  },
  {
   "cell_type": "code",
   "execution_count": 60,
   "metadata": {},
   "outputs": [],
   "source": [
    "def getCurrentEmotionScore():\n",
    "    return depressAvg, anxietyAvg"
   ]
  },
  {
   "cell_type": "code",
   "execution_count": 61,
   "metadata": {},
   "outputs": [
    {
     "name": "stdout",
     "output_type": "stream",
     "text": [
      "Original Msg:  less than 30 minutes to go\n",
      "2\n",
      "Emotion: Anxiety\n",
      "Result: Depress Avg: 0.0000 Anxiety Avg:  1.0000\n",
      "Chat Response:  Time is running out! There are less than 30 minutes to go. Make sure you are finishing up any last-minute tasks and preparing for the next steps. Stay focused and don't let distractions get in your way. You've got this!\n",
      "------\n",
      "\n",
      "Original Msg:  People expect it's not really that good. .Life is restless. This is how to get rid of it?\n",
      "2\n",
      "Emotion: Anxiety\n",
      "Result: Depress Avg: 0.0000 Anxiety Avg:  1.0000\n",
      "Chat Response:  **Understanding Restlessness**\n",
      "\n",
      "Restlessness is a common feeling of unease, agitation, and an inability to settle down. It can be caused by a variety of factors, including:\n",
      "\n",
      "* **Underlying medical conditions:** Thyroid problems, anxiety disorders, and ADHD can contribute to restlessness.\n",
      "* **Environmental factors:** Noise, clutter, and a lack of routine can make restlessness worse.\n",
      "* **Lifestyle factors:** Too much caffeine, alcohol, or nicotine can disrupt sleep and increase restlessness.\n",
      "* **Emotional triggers:** Stress, anxiety, and boredom can all trigger feelings of restlessness.\n",
      "\n",
      "**Overcoming Restlessness**\n",
      "\n",
      "Getting rid of restlessness requires a multifaceted approach that addresses both the underlying causes and the symptoms. Here are some strategies to try:\n",
      "\n",
      "**1. Identify and Address Underlying Causes:**\n",
      "\n",
      "* Consult a healthcare professional to rule out any underlying medical conditions.\n",
      "* Consider seeking therapy to address anxiety or stress.\n",
      "* Make lifestyle changes, such as reducing caffeine intake and establishing a regular sleep schedule.\n",
      "\n",
      "**2. Create a Relaxing Environment:**\n",
      "\n",
      "* Minimize noise and clutter in your surroundings.\n",
      "* Create a designated relaxation space with comfortable seating and calming decor.\n",
      "* Use calming scents, such as lavender or chamomile.\n",
      "\n",
      "**3. Practice Relaxation Techniques:**\n",
      "\n",
      "* Engage in deep breathing exercises or meditation to calm your mind and body.\n",
      "* Try yoga or tai chi to reduce stress and improve flexibility.\n",
      "* Take warm baths or showers to relax your muscles.\n",
      "\n",
      "**4. Establish a Routine:**\n",
      "\n",
      "* Maintain a regular sleep-wake cycle, even on weekends.\n",
      "* Set aside specific times for work, play, and relaxation.\n",
      "* Create a structured daily schedule that provides a sense of purpose and reduces boredom.\n",
      "\n",
      "**5. Get Regular Exercise:**\n",
      "\n",
      "* Physical activity releases endorphins, which have mood-boosting effects.\n",
      "* Aim for at least 30 minutes of moderate-intensity exercise most days of the week.\n",
      "\n",
      "**6. Connect with Others:**\n",
      "\n",
      "* Spend time with loved ones who make you feel supported and understood.\n",
      "* Join a support group or community activity that aligns with your interests.\n",
      "* Reach out to a therapist if you feel isolated or overwhelmed.\n",
      "\n",
      "**7. Set Realistic Expectations:**\n",
      "\n",
      "* Understand that restlessness is a common experience that does not necessarily indicate a serious problem.\n",
      "* Focus on managing your symptoms and improving your overall well-being, rather than expecting to eliminate restlessness completely.\n",
      "\n",
      "Remember, overcoming restlessness takes time and effort. Be patient with yourself and don't give up if you don't see results immediately. By implementing these strategies consistently, you can reduce feelings of restlessness and improve your overall quality of life.\n",
      "------\n",
      "\n"
     ]
    }
   ],
   "source": [
    "for msg in dataXLS[\"text\"][:2]:\n",
    "    # print(generateResponse(testPrompt2,msg))\n",
    "    # display(markdown)s\n",
    "    print(\"Original Msg: \", msg)\n",
    "    _, response = generateResponseInstr(testPrompt5,msg)\n",
    "    time.sleep(5)\n",
    "    responseChat = sendMessage(msg)\n",
    "    print(response)\n",
    "    classifyResult.append(response) # append the result\n",
    "    dialogueTotalCnt +=1\n",
    "    calculateDepressAnxietyAvg(response)\n",
    "    print(f\"Result: Depress Avg: {depressAvg:6.4f} Anxiety Avg:  {anxietyAvg:6.4f}\")\n",
    "    print(\"Chat Response: \", responseChat)\n",
    "    print(\"------\\n\")\n",
    "    time.sleep(5)"
   ]
  },
  {
   "cell_type": "code",
   "execution_count": 62,
   "metadata": {},
   "outputs": [],
   "source": [
    "def chatModelClassifier(msg): \n",
    "    global dialogueTotalCnt\n",
    "    print(\"Original Msg: \", msg)\n",
    "    _, response = generateResponseInstr(testPrompt5,msg) # classify the emotion\n",
    "    time.sleep(5) # delay for 5 seconds to avoid the rate limit\n",
    "    responseChat = sendMessage(msg) # chat response\n",
    "    print(response)\n",
    "    classifyResult.append(response) # append the result\n",
    "    dialogueTotalCnt +=1\n",
    "    calculateDepressAnxietyAvg(response)\n",
    "    print(f\"Result: Depress Avg: {depressAvg:6.4f} Anxiety Avg:  {anxietyAvg:6.4f}\")\n",
    "    print(\"Chat Response: \", responseChat)\n",
    "    time.sleep(5)"
   ]
  },
  {
   "cell_type": "code",
   "execution_count": 63,
   "metadata": {},
   "outputs": [
    {
     "data": {
      "text/plain": [
       "[role: \"user\"\n",
       " parts {\n",
       "   text: \"less than 30 minutes to go\"\n",
       " },\n",
       " role: \"model\"\n",
       " parts {\n",
       "   text: \"Time is running out! There are less than 30 minutes to go. Make sure you are finishing up any last-minute tasks and preparing for the next steps. Stay focused and don\\'t let distractions get in your way. You\\'ve got this!\"\n",
       " },\n",
       " role: \"user\"\n",
       " parts {\n",
       "   text: \"People expect it\\'s not really that good. .Life is restless. This is how to get rid of it?\"\n",
       " },\n",
       " role: \"model\"\n",
       " parts {\n",
       "   text: \"**Understanding Restlessness**\\n\\nRestlessness is a common feeling of unease, agitation, and an inability to settle down. It can be caused by a variety of factors, including:\\n\\n* **Underlying medical conditions:** Thyroid problems, anxiety disorders, and ADHD can contribute to restlessness.\\n* **Environmental factors:** Noise, clutter, and a lack of routine can make restlessness worse.\\n* **Lifestyle factors:** Too much caffeine, alcohol, or nicotine can disrupt sleep and increase restlessness.\\n* **Emotional triggers:** Stress, anxiety, and boredom can all trigger feelings of restlessness.\\n\\n**Overcoming Restlessness**\\n\\nGetting rid of restlessness requires a multifaceted approach that addresses both the underlying causes and the symptoms. Here are some strategies to try:\\n\\n**1. Identify and Address Underlying Causes:**\\n\\n* Consult a healthcare professional to rule out any underlying medical conditions.\\n* Consider seeking therapy to address anxiety or stress.\\n* Make lifestyle changes, such as reducing caffeine intake and establishing a regular sleep schedule.\\n\\n**2. Create a Relaxing Environment:**\\n\\n* Minimize noise and clutter in your surroundings.\\n* Create a designated relaxation space with comfortable seating and calming decor.\\n* Use calming scents, such as lavender or chamomile.\\n\\n**3. Practice Relaxation Techniques:**\\n\\n* Engage in deep breathing exercises or meditation to calm your mind and body.\\n* Try yoga or tai chi to reduce stress and improve flexibility.\\n* Take warm baths or showers to relax your muscles.\\n\\n**4. Establish a Routine:**\\n\\n* Maintain a regular sleep-wake cycle, even on weekends.\\n* Set aside specific times for work, play, and relaxation.\\n* Create a structured daily schedule that provides a sense of purpose and reduces boredom.\\n\\n**5. Get Regular Exercise:**\\n\\n* Physical activity releases endorphins, which have mood-boosting effects.\\n* Aim for at least 30 minutes of moderate-intensity exercise most days of the week.\\n\\n**6. Connect with Others:**\\n\\n* Spend time with loved ones who make you feel supported and understood.\\n* Join a support group or community activity that aligns with your interests.\\n* Reach out to a therapist if you feel isolated or overwhelmed.\\n\\n**7. Set Realistic Expectations:**\\n\\n* Understand that restlessness is a common experience that does not necessarily indicate a serious problem.\\n* Focus on managing your symptoms and improving your overall well-being, rather than expecting to eliminate restlessness completely.\\n\\nRemember, overcoming restlessness takes time and effort. Be patient with yourself and don\\'t give up if you don\\'t see results immediately. By implementing these strategies consistently, you can reduce feelings of restlessness and improve your overall quality of life.\"\n",
       " }]"
      ]
     },
     "execution_count": 63,
     "metadata": {},
     "output_type": "execute_result"
    }
   ],
   "source": [
    "convo.history"
   ]
  },
  {
   "cell_type": "markdown",
   "metadata": {},
   "source": [
    "### Test Summary Emotion prompt"
   ]
  },
  {
   "cell_type": "code",
   "execution_count": 64,
   "metadata": {},
   "outputs": [
    {
     "name": "stdout",
     "output_type": "stream",
     "text": [
      "**Summary:**\n",
      "\n",
      "The conversation revolves around restlessness and its potential causes and remedies. The user expresses concern about meeting expectations and feeling restless. The model provides a comprehensive understanding of restlessness, its causes, and strategies to overcome it.\n",
      "\n",
      "**Emotion:**\n",
      "\n",
      "The conversation conveys a sense of urgency and concern, particularly in the user's initial statement. The model responds with empathy and offers practical solutions, exuding a supportive and encouraging tone. Overall, the emotion is mixed, with a blend of worry and hopefulness.\n"
     ]
    }
   ],
   "source": [
    "_, response = generateResponseInstr(testPrompt6, convo.history)\n",
    "print(response)"
   ]
  },
  {
   "cell_type": "code",
   "execution_count": 46,
   "metadata": {},
   "outputs": [
    {
     "name": "stdout",
     "output_type": "stream",
     "text": [
      "Result: Depress Avg: 0.0000 Anxiety Avg:  0.0000\n"
     ]
    }
   ],
   "source": [
    "depressAvg, anxietyAvg= getCurrentEmotionScore()\n",
    "print(f\"Result: Depress Avg: {depressAvg:6.4f} Anxiety Avg:  {anxietyAvg:6.4f}\")"
   ]
  },
  {
   "cell_type": "code",
   "execution_count": 47,
   "metadata": {},
   "outputs": [
    {
     "data": {
      "text/plain": [
       "1    he said the mascara had a natural finish, but ...\n",
       "2                  Multitasking is my passion hahahaha\n",
       "3            Cah let's be mutual, but polbek en f2++++\n",
       "4                 Is the Jakarta Aquarium busy or not?\n",
       "5                  INFINITELKIM IS MINE! JAN TOUCHED!!\n",
       "6    If you remember me as a prayer in every pulse,...\n",
       "7                   Come on, let's just skip it, okay?\n",
       "8         â are we mutual? Ava, I'm Jeno, just like it\n",
       "9    People say it's really good to be the youngest...\n",
       "Name: text, dtype: object"
      ]
     },
     "execution_count": 47,
     "metadata": {},
     "output_type": "execute_result"
    }
   ],
   "source": [
    "dataXLS[\"text\"][1:10]"
   ]
  },
  {
   "cell_type": "code",
   "execution_count": null,
   "metadata": {},
   "outputs": [],
   "source": [
    "# def generateAIMentalcontent():\n",
    "#   chat = model.start_chat()\n",
    "#   response = chat.send_message(\n",
    "#       [\"\"\"Hi, Good, morning, good day\"\"\"],\n",
    "#       generation_config=generation_config,\n",
    "#       safety_settings=safety_settings\n",
    "#   )\n",
    "#   print(response.text)\n",
    "#   print(\"------\\n\")\n",
    "#   # Markdown(response.text)\n",
    "#   response = chat.send_message(\n",
    "#       [\"\"\"What's your name?\"\"\"],\n",
    "#       generation_config=generation_config,\n",
    "#       safety_settings=safety_settings\n",
    "#   )\n",
    "#   print(response.text)\n",
    "#   print(\"------\\n\")\n",
    "#   response = chat.send_message(\n",
    "#       [\"\"\"Can you tell me about your ?\"\"\"],\n",
    "#       # generation_config=generation_config,\n",
    "#       # safety_settings=safety_settings\n",
    "#   )\n",
    "#   print(response.text)\n",
    "#   print(\"------\\n\")\n",
    "#   response = chat.send_message(\n",
    "#       [\"\"\"Can you tell me about your dat?\"\"\"],\n",
    "#       # generation_config=generation_config,\n",
    "#       # safety_settings=safety_settings\n",
    "#   )\n"
   ]
  },
  {
   "cell_type": "code",
   "execution_count": 48,
   "metadata": {},
   "outputs": [],
   "source": [
    "# generateAIMentalcontent()"
   ]
  },
  {
   "cell_type": "code",
   "execution_count": 54,
   "metadata": {},
   "outputs": [
    {
     "name": "stdout",
     "output_type": "stream",
     "text": [
      "Original Msg:  工作很压抑，怎么才能和自己和解？或者说改变呢？\n",
      "3\n",
      "Emotion: Both Anxiety and Depressed\n",
      "Result: Depress Avg: 0.2500 Anxiety Avg:  0.5000\n",
      "Chat Response:  **与自己和解**\n",
      "\n",
      "* **承认并接受你的感受。**承认你的工作让你感到压抑是很重要的。不要试图忽视或否认这些感受。\n",
      "* **找出压抑感的根源。**是什么让你工作感到压抑？是工作量太大？是人际关系紧张？还是其他因素？\n",
      "* **设定现实的期望。**不要期望一夜之间就能改变一切。与自己和解是一个过程，需要时间和精力。\n",
      "* **专注于积极的一面。**尽管工作让你感到压抑，但肯定也有一些积极的一面。试着专注于这些积极的一面，比如你的同事、你的成就感，或者你从工作中学到的东西。\n",
      "* **练习自我关怀。**照顾好自己的身体和心理健康非常重要。确保你吃得健康、睡得足够、锻炼身体，并做一些让你感到快乐的事情。\n",
      "* **寻求支持。**如果你在与自己和解方面遇到困难，请向朋友、家人、治疗师或辅导员寻求支持。他们可以提供一个倾听的耳朵、支持和指导。\n",
      "\n",
      "**改变**\n",
      "\n",
      "* **探索你的选择。**如果你觉得工作让你无法忍受，可以考虑探索其他选择。这可能包括寻找一份新工作、要求调岗或开始自己的事业。\n",
      "* **设定目标。**如果你决定改变现状，设定一些现实的目标非常重要。这些目标应该具有挑战性，但又可以实现。\n",
      "* **采取行动。**一旦你设定了目标，就开始采取行动。这可能包括更新你的简历、联系潜在雇主或开始一个新的业务计划。\n",
      "* **保持积极的心态。**改变可能具有挑战性，但保持积极的心态非常重要。相信自己，相信你能实现目标。\n",
      "* **不要害怕寻求帮助。**如果你在改变方面遇到困难，请向朋友、家人、职业顾问或教练寻求帮助。他们可以提供支持、指导和鼓励。\n",
      "\n",
      "请记住，与自己和解和改变都需要时间和精力。不要对自己太苛刻，并庆祝你的每一次进步。\n"
     ]
    }
   ],
   "source": [
    "chatModelClassifier(psQADF[\"question\"][4])"
   ]
  },
  {
   "cell_type": "code",
   "execution_count": 56,
   "metadata": {},
   "outputs": [
    {
     "name": "stdout",
     "output_type": "stream",
     "text": [
      "1\n"
     ]
    }
   ],
   "source": [
    "\n",
    "_, response = generateResponseInstr(testPrompt10, dataXLS[\"text\"][2]) # classify the emotio\n",
    "print(response)"
   ]
  },
  {
   "cell_type": "code",
   "execution_count": null,
   "metadata": {},
   "outputs": [],
   "source": []
  },
  {
   "cell_type": "code",
   "execution_count": 58,
   "metadata": {},
   "outputs": [
    {
     "data": {
      "text/plain": [
       "1.0"
      ]
     },
     "execution_count": 58,
     "metadata": {},
     "output_type": "execute_result"
    }
   ],
   "source": [
    "dataXLS[\"label\"][2]"
   ]
  },
  {
   "cell_type": "code",
   "execution_count": 60,
   "metadata": {},
   "outputs": [
    {
     "data": {
      "text/html": [
       "<div>\n",
       "<style scoped>\n",
       "    .dataframe tbody tr th:only-of-type {\n",
       "        vertical-align: middle;\n",
       "    }\n",
       "\n",
       "    .dataframe tbody tr th {\n",
       "        vertical-align: top;\n",
       "    }\n",
       "\n",
       "    .dataframe thead th {\n",
       "        text-align: right;\n",
       "    }\n",
       "</style>\n",
       "<table border=\"1\" class=\"dataframe\">\n",
       "  <thead>\n",
       "    <tr style=\"text-align: right;\">\n",
       "      <th></th>\n",
       "      <th>label</th>\n",
       "    </tr>\n",
       "  </thead>\n",
       "  <tbody>\n",
       "    <tr>\n",
       "      <th>count</th>\n",
       "      <td>6980.000000</td>\n",
       "    </tr>\n",
       "    <tr>\n",
       "      <th>mean</th>\n",
       "      <td>0.105014</td>\n",
       "    </tr>\n",
       "    <tr>\n",
       "      <th>std</th>\n",
       "      <td>0.306594</td>\n",
       "    </tr>\n",
       "    <tr>\n",
       "      <th>min</th>\n",
       "      <td>0.000000</td>\n",
       "    </tr>\n",
       "    <tr>\n",
       "      <th>25%</th>\n",
       "      <td>0.000000</td>\n",
       "    </tr>\n",
       "    <tr>\n",
       "      <th>50%</th>\n",
       "      <td>0.000000</td>\n",
       "    </tr>\n",
       "    <tr>\n",
       "      <th>75%</th>\n",
       "      <td>0.000000</td>\n",
       "    </tr>\n",
       "    <tr>\n",
       "      <th>max</th>\n",
       "      <td>1.000000</td>\n",
       "    </tr>\n",
       "  </tbody>\n",
       "</table>\n",
       "</div>"
      ],
      "text/plain": [
       "             label\n",
       "count  6980.000000\n",
       "mean      0.105014\n",
       "std       0.306594\n",
       "min       0.000000\n",
       "25%       0.000000\n",
       "50%       0.000000\n",
       "75%       0.000000\n",
       "max       1.000000"
      ]
     },
     "execution_count": 60,
     "metadata": {},
     "output_type": "execute_result"
    }
   ],
   "source": [
    "dataXLS.describe()"
   ]
  },
  {
   "cell_type": "code",
   "execution_count": 80,
   "metadata": {},
   "outputs": [],
   "source": [
    "from sklearn.metrics import accuracy_score, confusion_matrix, classification_report"
   ]
  },
  {
   "cell_type": "markdown",
   "metadata": {},
   "source": [
    "### Test Dataset"
   ]
  },
  {
   "cell_type": "code",
   "execution_count": 98,
   "metadata": {},
   "outputs": [
    {
     "name": "stdout",
     "output_type": "stream",
     "text": [
      "0 Some days I'm very restless when I want to sleep. When you go to sleep, you don't realize anything, why are people fainting\n",
      "1\n",
      "1 H-2 this Eid guys, what have you prepared for this?\n",
      "0\n",
      "2 I swear I'm really big with people like that\n",
      "0\n",
      "3 They say that if we are snacking all the time we are lazy, it could be that we are restless/something is on our minds. That's right,\n",
      "1\n",
      "4 Eminem is rocks\n",
      "0\n",
      "5 WONDERFUL?!?\n",
      "0\n",
      "6 I hate mondays\n",
      "0\n",
      "7 hey please can I ask for positive or enthusiastic words? Lately I've been so anxious that it makes me think about it for a long timeðŸ˜\" I want to sleep so I don't think about it, I'll open it later so I can forget it even moreðŸ¥º\n",
      "1\n",
      "8 At the end of Ramadan, let's give a pretty knock. No sustenance this time. Try again next time....\n",
      "0\n",
      "9 I get traumatized. when he was a child, he was said to be ugly because he had a mole. When I grew up around high school I was also said to be ugly with a guy. Do you have a mole, is it a defect? is it a mistake i have a mole? I don't know why lately I'm starting to worry about this problem again\n",
      "1\n",
      "10 Lately everything has been all of a sudden, suddenly happy, suddenly sad, suddenly anxious, suddenly relaxed, suddenly excited, suddenly lethargic, etc. I really don't like everything that is impromptu, yes, but what can I do? Ha ha ha\n",
      "1\n",
      "11 this is the first time I feel like a normal girl\n",
      "0\n",
      "12 I'm emotional\n",
      "0\n",
      "13 why are you always restless?\n",
      "1\n",
      "14 Restless due to imagining too long and high until lazy to sleep.\n",
      "1\n",
      "15 WHY WAS NOBODY WAKE UP MY DOG I'M LATE ABSENT FAK\n",
      "1\n",
      "16 I want to be fast but there are obstacles.\n",
      "0\n",
      "17 Ado is nervous because he failed to damage the structure of the klrgo wong.  brags about your stepson. I'm still able to study until today, my parents paid for it. Ctek affects idk. Hanging out to drink and eat my edop? I'm not. Prcma bragging about your kprgo. My father is still able to keep his word.\n",
      "0\n",
      "18 When I buy Rowoon's perfume, I just make it look like it's just a bitch\n",
      "0\n",
      "19 como q jyp hizo pum\n",
      "0\n",
      "20 I wonder why lately I've been nervous when it's already above 9 o'clock, even though there's no problem. How do you prevent anxiety?\n",
      "1\n",
      "21 Crazy long hours because the roadblock is near SG Besi. Ok, find another way, don't go here\n",
      "0\n",
      "22 Don't worry, don't worry\n",
      "0\n",
      "23 Just woke up\n",
      "0\n",
      "24 Is it bad if I cry?\n",
      "1\n",
      "25 Why am I even so nervous?\n",
      "1\n",
      "26 When you hear the song, your heart becomes calm and when you hear the Koran, your heart becomes tense and restless.. it's a sign that your heart is hit by CORONA BLOOD.. you need to think about it.. because life is not a game.\n",
      "1\n",
      "27 I'm so worried 5 days of not coming home wey\n",
      "1\n",
      "28 but my heart is still restless even though my mouth is talking\n",
      "1\n",
      "29 Since a few days ago, I've seen Kyuhyun's and Ken's family photos, so I can imagine the Hwang family if the family photos are released, the visuals will be really wow\n",
      "0\n",
      "30 Is there anyone who, when sick, can't sleep well, but sleeps restlessly?\n",
      "0\n",
      "31 Tired Monday\n",
      "0\n",
      "32 When the effects of the depressant have started to wear off and the depression phase has started, it's really tiring\n",
      "1\n",
      "33 Everyone call me brother we don't even know you call brother ðŸ˜ you look very old already\n",
      "1\n",
      "34 Slaves now even about the hood want to be sensitive\n",
      "0\n",
      "35 Q PASO CON JYP\n",
      "0\n",
      "36 I have a full B license but I can't ride a motorbike. It's okay to have a dizzy scooter at home. ..But the best cam is to buy a motorbike & for those of you who use it. It's normal for ip11 only now I feel cam mehhh\n"
     ]
    },
    {
     "ename": "AttributeError",
     "evalue": "Content has no parts.",
     "output_type": "error",
     "traceback": [
      "\u001b[1;31m---------------------------------------------------------------------------\u001b[0m",
      "\u001b[1;31mAttributeError\u001b[0m                            Traceback (most recent call last)",
      "Cell \u001b[1;32mIn[98], line 5\u001b[0m\n\u001b[0;32m      3\u001b[0m \u001b[38;5;28;01mfor\u001b[39;00m idx , msg \u001b[38;5;129;01min\u001b[39;00m \u001b[38;5;28menumerate\u001b[39m(balancedData[\u001b[38;5;124m\"\u001b[39m\u001b[38;5;124mtext\u001b[39m\u001b[38;5;124m\"\u001b[39m][:numberSamples]):\n\u001b[0;32m      4\u001b[0m     \u001b[38;5;28mprint\u001b[39m(idx, msg)\n\u001b[1;32m----> 5\u001b[0m     response, responsetxt \u001b[38;5;241m=\u001b[39m \u001b[43mgenerateResponseInstr\u001b[49m\u001b[43m(\u001b[49m\u001b[43mtestPrompt10\u001b[49m\u001b[43m,\u001b[49m\u001b[43m \u001b[49m\u001b[43mmsg\u001b[49m\u001b[43m)\u001b[49m \u001b[38;5;66;03m# classify the emotion\u001b[39;00m\n\u001b[0;32m      6\u001b[0m     \u001b[38;5;28mprint\u001b[39m(response\u001b[38;5;241m.\u001b[39mtext)\n\u001b[0;32m      7\u001b[0m     out\u001b[38;5;241m.\u001b[39mappend(\u001b[38;5;28mint\u001b[39m(response\u001b[38;5;241m.\u001b[39mtext[\u001b[38;5;241m0\u001b[39m]))\n",
      "Cell \u001b[1;32mIn[67], line 6\u001b[0m, in \u001b[0;36mgenerateResponseInstr\u001b[1;34m(prompTemp, message)\u001b[0m\n\u001b[0;32m      2\u001b[0m response \u001b[38;5;241m=\u001b[39m model\u001b[38;5;241m.\u001b[39mgenerate_content(\u001b[38;5;124mf\u001b[39m\u001b[38;5;124m\"\"\"\u001b[39m\n\u001b[0;32m      3\u001b[0m \u001b[38;5;124m\u001b[39m\u001b[38;5;132;01m{\u001b[39;00mprompTemp\u001b[38;5;132;01m}\u001b[39;00m\n\u001b[0;32m      4\u001b[0m \u001b[38;5;124m\u001b[39m\u001b[38;5;132;01m{\u001b[39;00mmessage\u001b[38;5;132;01m}\u001b[39;00m\u001b[38;5;124m\"\"\"\u001b[39m)\n\u001b[0;32m      5\u001b[0m \u001b[38;5;66;03m# print(response.text)\u001b[39;00m\n\u001b[1;32m----> 6\u001b[0m \u001b[38;5;28;01mreturn\u001b[39;00m response, \u001b[43mresponse\u001b[49m\u001b[38;5;241;43m.\u001b[39;49m\u001b[43mtext\u001b[49m\n",
      "File \u001b[1;32m~\\AppData\\Roaming\\Python\\Python312\\site-packages\\vertexai\\generative_models\\_generative_models.py:1643\u001b[0m, in \u001b[0;36mGenerationResponse.text\u001b[1;34m(self)\u001b[0m\n\u001b[0;32m   1641\u001b[0m \u001b[38;5;28;01mif\u001b[39;00m \u001b[38;5;129;01mnot\u001b[39;00m \u001b[38;5;28mself\u001b[39m\u001b[38;5;241m.\u001b[39mcandidates:\n\u001b[0;32m   1642\u001b[0m     \u001b[38;5;28;01mraise\u001b[39;00m \u001b[38;5;167;01mValueError\u001b[39;00m(\u001b[38;5;124m\"\u001b[39m\u001b[38;5;124mResponse has no candidates (and no text).\u001b[39m\u001b[38;5;124m\"\u001b[39m)\n\u001b[1;32m-> 1643\u001b[0m \u001b[38;5;28;01mreturn\u001b[39;00m \u001b[38;5;28;43mself\u001b[39;49m\u001b[38;5;241;43m.\u001b[39;49m\u001b[43mcandidates\u001b[49m\u001b[43m[\u001b[49m\u001b[38;5;241;43m0\u001b[39;49m\u001b[43m]\u001b[49m\u001b[38;5;241;43m.\u001b[39;49m\u001b[43mtext\u001b[49m\n",
      "File \u001b[1;32m~\\AppData\\Roaming\\Python\\Python312\\site-packages\\vertexai\\generative_models\\_generative_models.py:1712\u001b[0m, in \u001b[0;36mCandidate.text\u001b[1;34m(self)\u001b[0m\n\u001b[0;32m   1710\u001b[0m \u001b[38;5;129m@property\u001b[39m\n\u001b[0;32m   1711\u001b[0m \u001b[38;5;28;01mdef\u001b[39;00m \u001b[38;5;21mtext\u001b[39m(\u001b[38;5;28mself\u001b[39m) \u001b[38;5;241m-\u001b[39m\u001b[38;5;241m>\u001b[39m \u001b[38;5;28mstr\u001b[39m:\n\u001b[1;32m-> 1712\u001b[0m     \u001b[38;5;28;01mreturn\u001b[39;00m \u001b[38;5;28;43mself\u001b[39;49m\u001b[38;5;241;43m.\u001b[39;49m\u001b[43mcontent\u001b[49m\u001b[38;5;241;43m.\u001b[39;49m\u001b[43mtext\u001b[49m\n",
      "File \u001b[1;32m~\\AppData\\Roaming\\Python\\Python312\\site-packages\\vertexai\\generative_models\\_generative_models.py:1783\u001b[0m, in \u001b[0;36mContent.text\u001b[1;34m(self)\u001b[0m\n\u001b[0;32m   1781\u001b[0m     \u001b[38;5;28;01mraise\u001b[39;00m \u001b[38;5;167;01mValueError\u001b[39;00m(\u001b[38;5;124m\"\u001b[39m\u001b[38;5;124mMultiple content parts are not supported.\u001b[39m\u001b[38;5;124m\"\u001b[39m)\n\u001b[0;32m   1782\u001b[0m \u001b[38;5;28;01mif\u001b[39;00m \u001b[38;5;129;01mnot\u001b[39;00m \u001b[38;5;28mself\u001b[39m\u001b[38;5;241m.\u001b[39mparts:\n\u001b[1;32m-> 1783\u001b[0m     \u001b[38;5;28;01mraise\u001b[39;00m \u001b[38;5;167;01mAttributeError\u001b[39;00m(\u001b[38;5;124m\"\u001b[39m\u001b[38;5;124mContent has no parts.\u001b[39m\u001b[38;5;124m\"\u001b[39m)\n\u001b[0;32m   1784\u001b[0m \u001b[38;5;28;01mreturn\u001b[39;00m \u001b[38;5;28mself\u001b[39m\u001b[38;5;241m.\u001b[39mparts[\u001b[38;5;241m0\u001b[39m]\u001b[38;5;241m.\u001b[39mtext\n",
      "\u001b[1;31mAttributeError\u001b[0m: Content has no parts."
     ]
    }
   ],
   "source": [
    "out = []\n",
    "numberSamples = 100\n",
    "for idx , msg in enumerate(balancedData[\"text\"][:numberSamples]):\n",
    "    print(idx, msg)\n",
    "    response, responsetxt = generateResponseInstr(testPrompt10, msg) # classify the emotion\n",
    "    print(response.text)\n",
    "    out.append(int(response.text[0]))\n",
    "    time.sleep(10) # delay for 5 seconds to avoid the rate limit\n",
    "    \n",
    "\n",
    "print(out)\n",
    "    \n",
    "accuracy =accuracy_score(balancedData[\"label\"][:numberSamples].astype(int), out)\n"
   ]
  },
  {
   "cell_type": "code",
   "execution_count": 100,
   "metadata": {},
   "outputs": [
    {
     "data": {
      "text/plain": [
       "[content {\n",
       "   role: \"model\"\n",
       "   parts {\n",
       "     text: \"0\"\n",
       "   }\n",
       " }\n",
       " finish_reason: STOP\n",
       " safety_ratings {\n",
       "   category: HARM_CATEGORY_HATE_SPEECH\n",
       "   probability: NEGLIGIBLE\n",
       "   probability_score: 0.131954253\n",
       "   severity: HARM_SEVERITY_NEGLIGIBLE\n",
       "   severity_score: 0.149655625\n",
       " }\n",
       " safety_ratings {\n",
       "   category: HARM_CATEGORY_DANGEROUS_CONTENT\n",
       "   probability: NEGLIGIBLE\n",
       "   probability_score: 0.109896682\n",
       "   severity: HARM_SEVERITY_NEGLIGIBLE\n",
       "   severity_score: 0.135689557\n",
       " }\n",
       " safety_ratings {\n",
       "   category: HARM_CATEGORY_HARASSMENT\n",
       "   probability: NEGLIGIBLE\n",
       "   probability_score: 0.2271263\n",
       "   severity: HARM_SEVERITY_NEGLIGIBLE\n",
       "   severity_score: 0.117167473\n",
       " }\n",
       " safety_ratings {\n",
       "   category: HARM_CATEGORY_SEXUALLY_EXPLICIT\n",
       "   probability: NEGLIGIBLE\n",
       "   probability_score: 0.0968765318\n",
       "   severity: HARM_SEVERITY_NEGLIGIBLE\n",
       "   severity_score: 0.0685374886\n",
       " }]"
      ]
     },
     "execution_count": 100,
     "metadata": {},
     "output_type": "execute_result"
    }
   ],
   "source": [
    "response.candidates"
   ]
  },
  {
   "cell_type": "code",
   "execution_count": 95,
   "metadata": {},
   "outputs": [
    {
     "data": {
      "text/plain": [
       "'0'"
      ]
     },
     "execution_count": 95,
     "metadata": {},
     "output_type": "execute_result"
    }
   ],
   "source": [
    "_.text"
   ]
  },
  {
   "cell_type": "code",
   "execution_count": 101,
   "metadata": {},
   "outputs": [],
   "source": [
    "lastIdx = len(out)\n",
    "accuracy =accuracy_score(balancedData[\"label\"][:lastIdx].astype(int), out)"
   ]
  },
  {
   "cell_type": "code",
   "execution_count": 102,
   "metadata": {},
   "outputs": [
    {
     "name": "stdout",
     "output_type": "stream",
     "text": [
      "83.33333333333334 %\n"
     ]
    }
   ],
   "source": [
    "print(f\"{accuracy*100} %\")"
   ]
  },
  {
   "cell_type": "code",
   "execution_count": 103,
   "metadata": {},
   "outputs": [],
   "source": [
    "report =classification_report(balancedData[\"label\"][:lastIdx].astype(int), out, output_dict=True)"
   ]
  },
  {
   "cell_type": "code",
   "execution_count": 104,
   "metadata": {},
   "outputs": [
    {
     "data": {
      "text/html": [
       "<div>\n",
       "<style scoped>\n",
       "    .dataframe tbody tr th:only-of-type {\n",
       "        vertical-align: middle;\n",
       "    }\n",
       "\n",
       "    .dataframe tbody tr th {\n",
       "        vertical-align: top;\n",
       "    }\n",
       "\n",
       "    .dataframe thead th {\n",
       "        text-align: right;\n",
       "    }\n",
       "</style>\n",
       "<table border=\"1\" class=\"dataframe\">\n",
       "  <thead>\n",
       "    <tr style=\"text-align: right;\">\n",
       "      <th></th>\n",
       "      <th>precision</th>\n",
       "      <th>recall</th>\n",
       "      <th>f1-score</th>\n",
       "      <th>support</th>\n",
       "    </tr>\n",
       "  </thead>\n",
       "  <tbody>\n",
       "    <tr>\n",
       "      <th>0</th>\n",
       "      <td>0.850000</td>\n",
       "      <td>0.850000</td>\n",
       "      <td>0.850000</td>\n",
       "      <td>20.000000</td>\n",
       "    </tr>\n",
       "    <tr>\n",
       "      <th>1</th>\n",
       "      <td>0.812500</td>\n",
       "      <td>0.812500</td>\n",
       "      <td>0.812500</td>\n",
       "      <td>16.000000</td>\n",
       "    </tr>\n",
       "    <tr>\n",
       "      <th>accuracy</th>\n",
       "      <td>0.833333</td>\n",
       "      <td>0.833333</td>\n",
       "      <td>0.833333</td>\n",
       "      <td>0.833333</td>\n",
       "    </tr>\n",
       "    <tr>\n",
       "      <th>macro avg</th>\n",
       "      <td>0.831250</td>\n",
       "      <td>0.831250</td>\n",
       "      <td>0.831250</td>\n",
       "      <td>36.000000</td>\n",
       "    </tr>\n",
       "    <tr>\n",
       "      <th>weighted avg</th>\n",
       "      <td>0.833333</td>\n",
       "      <td>0.833333</td>\n",
       "      <td>0.833333</td>\n",
       "      <td>36.000000</td>\n",
       "    </tr>\n",
       "  </tbody>\n",
       "</table>\n",
       "</div>"
      ],
      "text/plain": [
       "              precision    recall  f1-score    support\n",
       "0              0.850000  0.850000  0.850000  20.000000\n",
       "1              0.812500  0.812500  0.812500  16.000000\n",
       "accuracy       0.833333  0.833333  0.833333   0.833333\n",
       "macro avg      0.831250  0.831250  0.831250  36.000000\n",
       "weighted avg   0.833333  0.833333  0.833333  36.000000"
      ]
     },
     "execution_count": 104,
     "metadata": {},
     "output_type": "execute_result"
    }
   ],
   "source": [
    "reportDF = pd.DataFrame(report).transpose()\n",
    "reportDF"
   ]
  },
  {
   "cell_type": "code",
   "execution_count": 105,
   "metadata": {},
   "outputs": [],
   "source": [
    "reportDF.to_csv(\"classification_report.csv\")"
   ]
  },
  {
   "cell_type": "code",
   "execution_count": 165,
   "metadata": {},
   "outputs": [],
   "source": [
    "def generatePromptTrain(df):\n",
    "    out= \"\"\n",
    "    numberSamples = 10\n",
    "    offset = 10\n",
    "    # nodepressedDF =df[df[\"label\"]== 0]\n",
    "    # depressedDF =df[df[\"label\"] == 1]\n",
    "    for i in range(numberSamples):\n",
    "        out += f\"\"\"{balancedData[\"text\"][i+ offset]} : {int(balancedData[\"label\"][i+ offset])} \\n\n",
    "                \"\"\"\n",
    "    out += f\"\"\"Context:\"\"\"\n",
    "    return out"
   ]
  },
  {
   "cell_type": "code",
   "execution_count": 220,
   "metadata": {},
   "outputs": [],
   "source": [
    "def generatePromptTrainBal(noDepressDF, depressDF):\n",
    "    out= \"\"\n",
    "    numberSamples = 5\n",
    "    offset = 100\n",
    "    for i in range(numberSamples):\n",
    "        out += f\"\"\"{noDepressDF[\"text\"].iloc[i+offset]} {int(noDepressDF[\"label\"].iloc[i+offset])}\\n{depressDF[\"text\"].iloc[i+offset]}  {int(depressDF[\"label\"].iloc[i+offset])}\\n\"\"\"\n",
    "    out += f\"\"\"Context:\"\"\"\n",
    "    return out"
   ]
  },
  {
   "cell_type": "code",
   "execution_count": 74,
   "metadata": {},
   "outputs": [],
   "source": [
    "def generatePromptTrainMulti(df):\n",
    "    out= \"\"\n",
    "    numberSamples = 5\n",
    "    offset = 0\n",
    "    label0= df[df[\"label\"] == 0]\n",
    "    label1 = df[df[\"label\"]== 1]\n",
    "    label2= df[df[\"label\"] == 2]\n",
    "    label3 = df[df[\"label\"]== 3]\n",
    "    for i in range(numberSamples):\n",
    "        out += f\"\"\"{label0[\"text\"].iloc[i+offset]} {int(label0[\"label\"].iloc[i+offset])}\\n{label1[\"text\"].iloc[i+offset]} {int(label1[\"label\"].iloc[i+offset])}\\n{label2[\"text\"].iloc[i+offset]} {int(label2[\"label\"].iloc[i+offset])}\\n{label3[\"text\"].iloc[i+offset]} {int(label3[\"label\"].iloc[i+offset])}\\n\"\"\"\n",
    "    out += f\"\"\"Context:\"\"\"\n",
    "    return out"
   ]
  },
  {
   "cell_type": "code",
   "execution_count": 68,
   "metadata": {},
   "outputs": [
    {
     "data": {
      "text/plain": [
       "17"
      ]
     },
     "execution_count": 68,
     "metadata": {},
     "output_type": "execute_result"
    }
   ],
   "source": [
    "label0= multEmotionDF[multEmotionDF[\"label\"] == 1]\n",
    "len(label0)"
   ]
  },
  {
   "cell_type": "code",
   "execution_count": 75,
   "metadata": {},
   "outputs": [],
   "source": [
    "genPromptMult =  generatePromptTrainMulti(multEmotionDF)"
   ]
  },
  {
   "cell_type": "code",
   "execution_count": 76,
   "metadata": {},
   "outputs": [
    {
     "name": "stdout",
     "output_type": "stream",
     "text": [
      "I'm feeling good today. 0\n",
      "I feel so empty and alone. 1\n",
      "My mind is racing and I can't seem to relax.  2\n",
      "I'm so overwhelmed, I don't know what to do. 3\n",
      "I'm excited about the future. 0\n",
      "I feel like a failure. 1\n",
      "I'm constantly worried about making mistakes. 2\n",
      "I feel like I'm going crazy. 3\n",
      "I'm enjoying this beautiful day. 0\n",
      "I feel like I'm drowning in my own sadness. 1\n",
      "I can't stop thinking about all the things that could go wrong. 2\n",
      "I'm terrified of the future. 3\n",
      "I'm looking forward to spending time with my friends. 0\n",
      "I feel like giving up. 1\n",
      "I'm constantly on edge. 2\n",
      "I feel like I'm trapped in a nightmare. 3\n",
      "I'm feeling content and peaceful. 0\n",
      "I feel like I'm a burden to everyone. 1\n",
      "I'm afraid of being alone. 2\n",
      "I feel like I'm losing control. 3\n",
      "Context:\n"
     ]
    }
   ],
   "source": [
    "print(genPromptMult)"
   ]
  },
  {
   "cell_type": "code",
   "execution_count": 77,
   "metadata": {},
   "outputs": [
    {
     "data": {
      "text/plain": [
       "760"
      ]
     },
     "execution_count": 77,
     "metadata": {},
     "output_type": "execute_result"
    }
   ],
   "source": [
    "len(genPromptMult)"
   ]
  },
  {
   "cell_type": "code",
   "execution_count": null,
   "metadata": {},
   "outputs": [],
   "source": []
  },
  {
   "cell_type": "code",
   "execution_count": 221,
   "metadata": {},
   "outputs": [],
   "source": [
    "noDepressDF = balancedData[balancedData[\"label\"]== 0]\n",
    "depressDF = balancedData[balancedData[\"label\"] == 1]\n",
    "genPrompt = generatePromptTrainBal(noDepressDF, depressDF)"
   ]
  },
  {
   "cell_type": "code",
   "execution_count": 222,
   "metadata": {},
   "outputs": [
    {
     "data": {
      "text/plain": [
       "850"
      ]
     },
     "execution_count": 222,
     "metadata": {},
     "output_type": "execute_result"
    }
   ],
   "source": [
    "len(genPrompt)"
   ]
  },
  {
   "cell_type": "code",
   "execution_count": 223,
   "metadata": {},
   "outputs": [
    {
     "name": "stdout",
     "output_type": "stream",
     "text": [
      "Hopefully, my dear friend will be subject to direct duty â 0\n",
      "I'm tired, aren't I, lately I've been nervous about something, I want to hurry up and wait for the time to come and then it's over huh '‹  1\n",
      "why is a small child given a cellphone 0\n",
      "Here from now on, my heart is restless  1\n",
      "Let's go crazy together when mv dream is released, zimzalabim calls all nctzen wayzenni reveluv smstann let's have a good time! Unflop pleaseee help rt+like yaa tysm 0\n",
      "I'm nervous I don't know why. I don't feel calm  1\n",
      "UN SALUDO AL PUTO DW KIYIANSJDNSJDBD 0\n",
      "Through the day has not calmed without saying good morning. Through the night continues to be restless without saying goodnight..  1\n",
      "mutual? gas, if via help rt like pls 0\n",
      "Sometimes I worry about the future...At least for now I am still given the opportunity to be grateful and increase charity.  1\n",
      "Context:\n"
     ]
    }
   ],
   "source": [
    "print(genPrompt)"
   ]
  },
  {
   "cell_type": "code",
   "execution_count": null,
   "metadata": {},
   "outputs": [],
   "source": []
  },
  {
   "cell_type": "code",
   "execution_count": 209,
   "metadata": {},
   "outputs": [],
   "source": [
    "response, responsetxt = generateResponseInstr( genPrompt+testPrompt10, balancedData[\"text\"][12])"
   ]
  },
  {
   "cell_type": "code",
   "execution_count": 210,
   "metadata": {},
   "outputs": [
    {
     "data": {
      "text/html": [
       "<div>\n",
       "<style scoped>\n",
       "    .dataframe tbody tr th:only-of-type {\n",
       "        vertical-align: middle;\n",
       "    }\n",
       "\n",
       "    .dataframe tbody tr th {\n",
       "        vertical-align: top;\n",
       "    }\n",
       "\n",
       "    .dataframe thead th {\n",
       "        text-align: right;\n",
       "    }\n",
       "</style>\n",
       "<table border=\"1\" class=\"dataframe\">\n",
       "  <thead>\n",
       "    <tr style=\"text-align: right;\">\n",
       "      <th></th>\n",
       "      <th>label</th>\n",
       "    </tr>\n",
       "  </thead>\n",
       "  <tbody>\n",
       "    <tr>\n",
       "      <th>count</th>\n",
       "      <td>733.0</td>\n",
       "    </tr>\n",
       "    <tr>\n",
       "      <th>mean</th>\n",
       "      <td>0.0</td>\n",
       "    </tr>\n",
       "    <tr>\n",
       "      <th>std</th>\n",
       "      <td>0.0</td>\n",
       "    </tr>\n",
       "    <tr>\n",
       "      <th>min</th>\n",
       "      <td>0.0</td>\n",
       "    </tr>\n",
       "    <tr>\n",
       "      <th>25%</th>\n",
       "      <td>0.0</td>\n",
       "    </tr>\n",
       "    <tr>\n",
       "      <th>50%</th>\n",
       "      <td>0.0</td>\n",
       "    </tr>\n",
       "    <tr>\n",
       "      <th>75%</th>\n",
       "      <td>0.0</td>\n",
       "    </tr>\n",
       "    <tr>\n",
       "      <th>max</th>\n",
       "      <td>0.0</td>\n",
       "    </tr>\n",
       "  </tbody>\n",
       "</table>\n",
       "</div>"
      ],
      "text/plain": [
       "       label\n",
       "count  733.0\n",
       "mean     0.0\n",
       "std      0.0\n",
       "min      0.0\n",
       "25%      0.0\n",
       "50%      0.0\n",
       "75%      0.0\n",
       "max      0.0"
      ]
     },
     "execution_count": 210,
     "metadata": {},
     "output_type": "execute_result"
    }
   ],
   "source": [
    "nodepressedDF =balancedData[balancedData[\"label\"]== 0]\n",
    "nodepressedDF.describe()"
   ]
  },
  {
   "cell_type": "code",
   "execution_count": null,
   "metadata": {},
   "outputs": [],
   "source": []
  },
  {
   "cell_type": "markdown",
   "metadata": {},
   "source": [
    "## Test with Few shot context learning"
   ]
  },
  {
   "cell_type": "code",
   "execution_count": 224,
   "metadata": {},
   "outputs": [
    {
     "name": "stdout",
     "output_type": "stream",
     "text": [
      "0 Some days I'm very restless when I want to sleep. When you go to sleep, you don't realize anything, why are people fainting\n",
      "1\n",
      "1 H-2 this Eid guys, what have you prepared for this?\n",
      "0\n",
      "2 I swear I'm really big with people like that\n",
      "0\n",
      "3 They say that if we are snacking all the time we are lazy, it could be that we are restless/something is on our minds. That's right,\n",
      "1\n",
      "4 Eminem is rocks\n",
      "0\n",
      "5 WONDERFUL?!?\n",
      "0\n",
      "6 I hate mondays\n",
      "0\n",
      "7 hey please can I ask for positive or enthusiastic words? Lately I've been so anxious that it makes me think about it for a long timeðŸ˜\" I want to sleep so I don't think about it, I'll open it later so I can forget it even moreðŸ¥º\n",
      "1\n",
      "8 At the end of Ramadan, let's give a pretty knock. No sustenance this time. Try again next time....\n",
      "0\n",
      "9 I get traumatized. when he was a child, he was said to be ugly because he had a mole. When I grew up around high school I was also said to be ugly with a guy. Do you have a mole, is it a defect? is it a mistake i have a mole? I don't know why lately I'm starting to worry about this problem again\n",
      "1\n",
      "10 Lately everything has been all of a sudden, suddenly happy, suddenly sad, suddenly anxious, suddenly relaxed, suddenly excited, suddenly lethargic, etc. I really don't like everything that is impromptu, yes, but what can I do? Ha ha ha\n",
      "1\n",
      "11 this is the first time I feel like a normal girl\n",
      "0\n",
      "12 I'm emotional\n",
      "1\n",
      "13 why are you always restless?\n",
      "1\n",
      "14 Restless due to imagining too long and high until lazy to sleep.\n",
      "1\n",
      "15 WHY WAS NOBODY WAKE UP MY DOG I'M LATE ABSENT FAK\n",
      "0\n",
      "16 I want to be fast but there are obstacles.\n",
      "1\n",
      "17 Ado is nervous because he failed to damage the structure of the klrgo wong.  brags about your stepson. I'm still able to study until today, my parents paid for it. Ctek affects idk. Hanging out to drink and eat my edop? I'm not. Prcma bragging about your kprgo. My father is still able to keep his word.\n",
      "1\n",
      "18 When I buy Rowoon's perfume, I just make it look like it's just a bitch\n"
     ]
    },
    {
     "ename": "AttributeError",
     "evalue": "Content has no parts.",
     "output_type": "error",
     "traceback": [
      "\u001b[1;31m---------------------------------------------------------------------------\u001b[0m",
      "\u001b[1;31mAttributeError\u001b[0m                            Traceback (most recent call last)",
      "Cell \u001b[1;32mIn[224], line 5\u001b[0m\n\u001b[0;32m      3\u001b[0m \u001b[38;5;28;01mfor\u001b[39;00m idx , msg \u001b[38;5;129;01min\u001b[39;00m \u001b[38;5;28menumerate\u001b[39m(balancedData[\u001b[38;5;124m\"\u001b[39m\u001b[38;5;124mtext\u001b[39m\u001b[38;5;124m\"\u001b[39m][:numberSamples]):\n\u001b[0;32m      4\u001b[0m     \u001b[38;5;28mprint\u001b[39m(idx, msg)\n\u001b[1;32m----> 5\u001b[0m     response, responsetxt \u001b[38;5;241m=\u001b[39m \u001b[43mgenerateResponseInstr\u001b[49m\u001b[43m(\u001b[49m\u001b[43m \u001b[49m\u001b[43mgenPrompt\u001b[49m\u001b[38;5;241;43m+\u001b[39;49m\u001b[43mtestPrompt10\u001b[49m\u001b[43m,\u001b[49m\u001b[43m \u001b[49m\u001b[43mmsg\u001b[49m\u001b[43m)\u001b[49m \u001b[38;5;66;03m# classify the emotion\u001b[39;00m\n\u001b[0;32m      6\u001b[0m     \u001b[38;5;28mprint\u001b[39m(response\u001b[38;5;241m.\u001b[39mtext)\n\u001b[0;32m      7\u001b[0m     out\u001b[38;5;241m.\u001b[39mappend(\u001b[38;5;28mint\u001b[39m(response\u001b[38;5;241m.\u001b[39mtext[\u001b[38;5;241m0\u001b[39m]))\n",
      "Cell \u001b[1;32mIn[67], line 6\u001b[0m, in \u001b[0;36mgenerateResponseInstr\u001b[1;34m(prompTemp, message)\u001b[0m\n\u001b[0;32m      2\u001b[0m response \u001b[38;5;241m=\u001b[39m model\u001b[38;5;241m.\u001b[39mgenerate_content(\u001b[38;5;124mf\u001b[39m\u001b[38;5;124m\"\"\"\u001b[39m\n\u001b[0;32m      3\u001b[0m \u001b[38;5;124m\u001b[39m\u001b[38;5;132;01m{\u001b[39;00mprompTemp\u001b[38;5;132;01m}\u001b[39;00m\n\u001b[0;32m      4\u001b[0m \u001b[38;5;124m\u001b[39m\u001b[38;5;132;01m{\u001b[39;00mmessage\u001b[38;5;132;01m}\u001b[39;00m\u001b[38;5;124m\"\"\"\u001b[39m)\n\u001b[0;32m      5\u001b[0m \u001b[38;5;66;03m# print(response.text)\u001b[39;00m\n\u001b[1;32m----> 6\u001b[0m \u001b[38;5;28;01mreturn\u001b[39;00m response, \u001b[43mresponse\u001b[49m\u001b[38;5;241;43m.\u001b[39;49m\u001b[43mtext\u001b[49m\n",
      "File \u001b[1;32m~\\AppData\\Roaming\\Python\\Python312\\site-packages\\vertexai\\generative_models\\_generative_models.py:1643\u001b[0m, in \u001b[0;36mGenerationResponse.text\u001b[1;34m(self)\u001b[0m\n\u001b[0;32m   1641\u001b[0m \u001b[38;5;28;01mif\u001b[39;00m \u001b[38;5;129;01mnot\u001b[39;00m \u001b[38;5;28mself\u001b[39m\u001b[38;5;241m.\u001b[39mcandidates:\n\u001b[0;32m   1642\u001b[0m     \u001b[38;5;28;01mraise\u001b[39;00m \u001b[38;5;167;01mValueError\u001b[39;00m(\u001b[38;5;124m\"\u001b[39m\u001b[38;5;124mResponse has no candidates (and no text).\u001b[39m\u001b[38;5;124m\"\u001b[39m)\n\u001b[1;32m-> 1643\u001b[0m \u001b[38;5;28;01mreturn\u001b[39;00m \u001b[38;5;28;43mself\u001b[39;49m\u001b[38;5;241;43m.\u001b[39;49m\u001b[43mcandidates\u001b[49m\u001b[43m[\u001b[49m\u001b[38;5;241;43m0\u001b[39;49m\u001b[43m]\u001b[49m\u001b[38;5;241;43m.\u001b[39;49m\u001b[43mtext\u001b[49m\n",
      "File \u001b[1;32m~\\AppData\\Roaming\\Python\\Python312\\site-packages\\vertexai\\generative_models\\_generative_models.py:1712\u001b[0m, in \u001b[0;36mCandidate.text\u001b[1;34m(self)\u001b[0m\n\u001b[0;32m   1710\u001b[0m \u001b[38;5;129m@property\u001b[39m\n\u001b[0;32m   1711\u001b[0m \u001b[38;5;28;01mdef\u001b[39;00m \u001b[38;5;21mtext\u001b[39m(\u001b[38;5;28mself\u001b[39m) \u001b[38;5;241m-\u001b[39m\u001b[38;5;241m>\u001b[39m \u001b[38;5;28mstr\u001b[39m:\n\u001b[1;32m-> 1712\u001b[0m     \u001b[38;5;28;01mreturn\u001b[39;00m \u001b[38;5;28;43mself\u001b[39;49m\u001b[38;5;241;43m.\u001b[39;49m\u001b[43mcontent\u001b[49m\u001b[38;5;241;43m.\u001b[39;49m\u001b[43mtext\u001b[49m\n",
      "File \u001b[1;32m~\\AppData\\Roaming\\Python\\Python312\\site-packages\\vertexai\\generative_models\\_generative_models.py:1783\u001b[0m, in \u001b[0;36mContent.text\u001b[1;34m(self)\u001b[0m\n\u001b[0;32m   1781\u001b[0m     \u001b[38;5;28;01mraise\u001b[39;00m \u001b[38;5;167;01mValueError\u001b[39;00m(\u001b[38;5;124m\"\u001b[39m\u001b[38;5;124mMultiple content parts are not supported.\u001b[39m\u001b[38;5;124m\"\u001b[39m)\n\u001b[0;32m   1782\u001b[0m \u001b[38;5;28;01mif\u001b[39;00m \u001b[38;5;129;01mnot\u001b[39;00m \u001b[38;5;28mself\u001b[39m\u001b[38;5;241m.\u001b[39mparts:\n\u001b[1;32m-> 1783\u001b[0m     \u001b[38;5;28;01mraise\u001b[39;00m \u001b[38;5;167;01mAttributeError\u001b[39;00m(\u001b[38;5;124m\"\u001b[39m\u001b[38;5;124mContent has no parts.\u001b[39m\u001b[38;5;124m\"\u001b[39m)\n\u001b[0;32m   1784\u001b[0m \u001b[38;5;28;01mreturn\u001b[39;00m \u001b[38;5;28mself\u001b[39m\u001b[38;5;241m.\u001b[39mparts[\u001b[38;5;241m0\u001b[39m]\u001b[38;5;241m.\u001b[39mtext\n",
      "\u001b[1;31mAttributeError\u001b[0m: Content has no parts."
     ]
    }
   ],
   "source": [
    "out = []\n",
    "numberSamples = 100\n",
    "for idx , msg in enumerate(balancedData[\"text\"][:numberSamples]):\n",
    "    print(idx, msg)\n",
    "    response, responsetxt = generateResponseInstr( genPrompt+testPrompt10, msg) # classify the emotion\n",
    "    print(response.text)\n",
    "    out.append(int(response.text[0]))\n",
    "    time.sleep(10) # delay for 5 seconds to avoid the rate limit\n",
    "    \n",
    "\n",
    "print(out)\n",
    "    \n",
    "accuracy =accuracy_score(balancedData[\"label\"][:numberSamples].astype(int), out)"
   ]
  },
  {
   "cell_type": "code",
   "execution_count": 225,
   "metadata": {},
   "outputs": [
    {
     "name": "stdout",
     "output_type": "stream",
     "text": [
      "88.88888888888889 %\n"
     ]
    }
   ],
   "source": [
    "lastIdx = len(out)\n",
    "accuracy =accuracy_score(balancedData[\"label\"][:lastIdx].astype(int), out)\n",
    "print(f\"{accuracy*100} %\")"
   ]
  },
  {
   "cell_type": "code",
   "execution_count": 226,
   "metadata": {},
   "outputs": [
    {
     "data": {
      "text/html": [
       "<div>\n",
       "<style scoped>\n",
       "    .dataframe tbody tr th:only-of-type {\n",
       "        vertical-align: middle;\n",
       "    }\n",
       "\n",
       "    .dataframe tbody tr th {\n",
       "        vertical-align: top;\n",
       "    }\n",
       "\n",
       "    .dataframe thead th {\n",
       "        text-align: right;\n",
       "    }\n",
       "</style>\n",
       "<table border=\"1\" class=\"dataframe\">\n",
       "  <thead>\n",
       "    <tr style=\"text-align: right;\">\n",
       "      <th></th>\n",
       "      <th>precision</th>\n",
       "      <th>recall</th>\n",
       "      <th>f1-score</th>\n",
       "      <th>support</th>\n",
       "    </tr>\n",
       "  </thead>\n",
       "  <tbody>\n",
       "    <tr>\n",
       "      <th>0</th>\n",
       "      <td>1.000000</td>\n",
       "      <td>0.800000</td>\n",
       "      <td>0.888889</td>\n",
       "      <td>10.000000</td>\n",
       "    </tr>\n",
       "    <tr>\n",
       "      <th>1</th>\n",
       "      <td>0.800000</td>\n",
       "      <td>1.000000</td>\n",
       "      <td>0.888889</td>\n",
       "      <td>8.000000</td>\n",
       "    </tr>\n",
       "    <tr>\n",
       "      <th>accuracy</th>\n",
       "      <td>0.888889</td>\n",
       "      <td>0.888889</td>\n",
       "      <td>0.888889</td>\n",
       "      <td>0.888889</td>\n",
       "    </tr>\n",
       "    <tr>\n",
       "      <th>macro avg</th>\n",
       "      <td>0.900000</td>\n",
       "      <td>0.900000</td>\n",
       "      <td>0.888889</td>\n",
       "      <td>18.000000</td>\n",
       "    </tr>\n",
       "    <tr>\n",
       "      <th>weighted avg</th>\n",
       "      <td>0.911111</td>\n",
       "      <td>0.888889</td>\n",
       "      <td>0.888889</td>\n",
       "      <td>18.000000</td>\n",
       "    </tr>\n",
       "  </tbody>\n",
       "</table>\n",
       "</div>"
      ],
      "text/plain": [
       "              precision    recall  f1-score    support\n",
       "0              1.000000  0.800000  0.888889  10.000000\n",
       "1              0.800000  1.000000  0.888889   8.000000\n",
       "accuracy       0.888889  0.888889  0.888889   0.888889\n",
       "macro avg      0.900000  0.900000  0.888889  18.000000\n",
       "weighted avg   0.911111  0.888889  0.888889  18.000000"
      ]
     },
     "execution_count": 226,
     "metadata": {},
     "output_type": "execute_result"
    }
   ],
   "source": [
    "reportTrained =classification_report(balancedData[\"label\"][:lastIdx].astype(int), out, output_dict=True)\n",
    "reportTrainedDF = pd.DataFrame(reportTrained).transpose()\n",
    "reportTrainedDF"
   ]
  },
  {
   "cell_type": "code",
   "execution_count": 227,
   "metadata": {},
   "outputs": [],
   "source": [
    "reportTrainedDF.to_csv(\"trained_classification_report.csv\")"
   ]
  },
  {
   "cell_type": "code",
   "execution_count": 228,
   "metadata": {},
   "outputs": [
    {
     "name": "stdout",
     "output_type": "stream",
     "text": [
      "Hopefully, my dear friend will be subject to direct duty â 0\n",
      "I'm tired, aren't I, lately I've been nervous about something, I want to hurry up and wait for the time to come and then it's over huh '‹  1\n",
      "why is a small child given a cellphone 0\n",
      "Here from now on, my heart is restless  1\n",
      "Let's go crazy together when mv dream is released, zimzalabim calls all nctzen wayzenni reveluv smstann let's have a good time! Unflop pleaseee help rt+like yaa tysm 0\n",
      "I'm nervous I don't know why. I don't feel calm  1\n",
      "UN SALUDO AL PUTO DW KIYIANSJDNSJDBD 0\n",
      "Through the day has not calmed without saying good morning. Through the night continues to be restless without saying goodnight..  1\n",
      "mutual? gas, if via help rt like pls 0\n",
      "Sometimes I worry about the future...At least for now I am still given the opportunity to be grateful and increase charity.  1\n",
      "Context:If the phrase connotes a depressed emotion, anxiety emotion or both  anxiety emotion and  depressed emotion assign a number 1 to the phrase .Otherwise, assign a number 0.\n",
      "\n",
      "    Context:\n"
     ]
    }
   ],
   "source": [
    "print(genPrompt+testPrompt10)"
   ]
  },
  {
   "cell_type": "code",
   "execution_count": 148,
   "metadata": {},
   "outputs": [
    {
     "data": {
      "text/plain": [
       "776"
      ]
     },
     "execution_count": 148,
     "metadata": {},
     "output_type": "execute_result"
    }
   ],
   "source": [
    "len(genPrompt+testPrompt10)"
   ]
  },
  {
   "cell_type": "markdown",
   "metadata": {},
   "source": [
    "## Multiply Classs\n",
    "### Not Train"
   ]
  },
  {
   "cell_type": "code",
   "execution_count": 84,
   "metadata": {},
   "outputs": [
    {
     "name": "stdout",
     "output_type": "stream",
     "text": [
      "0 I feel so empty and alone.\n",
      "1\n",
      "1 My mind is racing and I can't seem to relax. \n",
      "2\n",
      "2 I'm so overwhelmed, I don't know what to do.\n",
      "2\n",
      "3 I'm feeling good today.\n",
      "0\n",
      "4 I'm excited about the future.\n",
      "0\n",
      "5 I feel like a failure.\n",
      "1\n",
      "6 I'm constantly worried about making mistakes.\n",
      "2\n",
      "7 I feel like I'm going crazy.\n",
      "2\n",
      "8 I'm enjoying this beautiful day.\n",
      "0\n",
      "9 I'm looking forward to spending time with my friends.\n",
      "0\n",
      "10 I feel like I'm drowning in my own sadness.\n",
      "1\n",
      "11 I can't stop thinking about all the things that could go wrong.\n",
      "2\n",
      "12 I'm terrified of the future.\n",
      "2\n",
      "13 I'm feeling content and peaceful.\n",
      "0\n",
      "14 I'm grateful for all the good things in my life.\n",
      "0\n",
      "15 I feel like giving up.\n",
      "1\n",
      "16 I'm constantly on edge.\n",
      "2\n",
      "17 I feel like I'm trapped in a nightmare.\n",
      "2\n",
      "18 I'm happy with where I am in life.\n",
      "0\n",
      "19 I'm optimistic about the future.\n",
      "0\n",
      "20 I feel like I'm a burden to everyone.\n"
     ]
    },
    {
     "ename": "AttributeError",
     "evalue": "Content has no parts.",
     "output_type": "error",
     "traceback": [
      "\u001b[1;31m---------------------------------------------------------------------------\u001b[0m",
      "\u001b[1;31mAttributeError\u001b[0m                            Traceback (most recent call last)",
      "Cell \u001b[1;32mIn[84], line 5\u001b[0m\n\u001b[0;32m      3\u001b[0m \u001b[38;5;28;01mfor\u001b[39;00m idx , msg \u001b[38;5;129;01min\u001b[39;00m \u001b[38;5;28menumerate\u001b[39m(multEmotionDF[\u001b[38;5;124m\"\u001b[39m\u001b[38;5;124mtext\u001b[39m\u001b[38;5;124m\"\u001b[39m][:numberSamples]):\n\u001b[0;32m      4\u001b[0m     \u001b[38;5;28mprint\u001b[39m(idx, msg)\n\u001b[1;32m----> 5\u001b[0m     response, responsetxt \u001b[38;5;241m=\u001b[39m \u001b[43mgenerateResponseInstr\u001b[49m\u001b[43m(\u001b[49m\u001b[43mtestPrompt5\u001b[49m\u001b[43m,\u001b[49m\u001b[43m \u001b[49m\u001b[43mmsg\u001b[49m\u001b[43m)\u001b[49m \u001b[38;5;66;03m# classify the emotion\u001b[39;00m\n\u001b[0;32m      6\u001b[0m     \u001b[38;5;28mprint\u001b[39m(response\u001b[38;5;241m.\u001b[39mtext)\n\u001b[0;32m      7\u001b[0m     out\u001b[38;5;241m.\u001b[39mappend(\u001b[38;5;28mint\u001b[39m(response\u001b[38;5;241m.\u001b[39mtext[\u001b[38;5;241m0\u001b[39m]))\n",
      "Cell \u001b[1;32mIn[13], line 6\u001b[0m, in \u001b[0;36mgenerateResponseInstr\u001b[1;34m(prompTemp, message)\u001b[0m\n\u001b[0;32m      2\u001b[0m response \u001b[38;5;241m=\u001b[39m model\u001b[38;5;241m.\u001b[39mgenerate_content(\u001b[38;5;124mf\u001b[39m\u001b[38;5;124m\"\"\"\u001b[39m\n\u001b[0;32m      3\u001b[0m \u001b[38;5;124m\u001b[39m\u001b[38;5;132;01m{\u001b[39;00mprompTemp\u001b[38;5;132;01m}\u001b[39;00m\n\u001b[0;32m      4\u001b[0m \u001b[38;5;124m\u001b[39m\u001b[38;5;132;01m{\u001b[39;00mmessage\u001b[38;5;132;01m}\u001b[39;00m\u001b[38;5;124m\"\"\"\u001b[39m)\n\u001b[0;32m      5\u001b[0m \u001b[38;5;66;03m# print(response.text)\u001b[39;00m\n\u001b[1;32m----> 6\u001b[0m \u001b[38;5;28;01mreturn\u001b[39;00m response, \u001b[43mresponse\u001b[49m\u001b[38;5;241;43m.\u001b[39;49m\u001b[43mtext\u001b[49m\n",
      "File \u001b[1;32m~\\AppData\\Roaming\\Python\\Python312\\site-packages\\vertexai\\generative_models\\_generative_models.py:1643\u001b[0m, in \u001b[0;36mGenerationResponse.text\u001b[1;34m(self)\u001b[0m\n\u001b[0;32m   1641\u001b[0m \u001b[38;5;28;01mif\u001b[39;00m \u001b[38;5;129;01mnot\u001b[39;00m \u001b[38;5;28mself\u001b[39m\u001b[38;5;241m.\u001b[39mcandidates:\n\u001b[0;32m   1642\u001b[0m     \u001b[38;5;28;01mraise\u001b[39;00m \u001b[38;5;167;01mValueError\u001b[39;00m(\u001b[38;5;124m\"\u001b[39m\u001b[38;5;124mResponse has no candidates (and no text).\u001b[39m\u001b[38;5;124m\"\u001b[39m)\n\u001b[1;32m-> 1643\u001b[0m \u001b[38;5;28;01mreturn\u001b[39;00m \u001b[38;5;28;43mself\u001b[39;49m\u001b[38;5;241;43m.\u001b[39;49m\u001b[43mcandidates\u001b[49m\u001b[43m[\u001b[49m\u001b[38;5;241;43m0\u001b[39;49m\u001b[43m]\u001b[49m\u001b[38;5;241;43m.\u001b[39;49m\u001b[43mtext\u001b[49m\n",
      "File \u001b[1;32m~\\AppData\\Roaming\\Python\\Python312\\site-packages\\vertexai\\generative_models\\_generative_models.py:1712\u001b[0m, in \u001b[0;36mCandidate.text\u001b[1;34m(self)\u001b[0m\n\u001b[0;32m   1710\u001b[0m \u001b[38;5;129m@property\u001b[39m\n\u001b[0;32m   1711\u001b[0m \u001b[38;5;28;01mdef\u001b[39;00m \u001b[38;5;21mtext\u001b[39m(\u001b[38;5;28mself\u001b[39m) \u001b[38;5;241m-\u001b[39m\u001b[38;5;241m>\u001b[39m \u001b[38;5;28mstr\u001b[39m:\n\u001b[1;32m-> 1712\u001b[0m     \u001b[38;5;28;01mreturn\u001b[39;00m \u001b[38;5;28;43mself\u001b[39;49m\u001b[38;5;241;43m.\u001b[39;49m\u001b[43mcontent\u001b[49m\u001b[38;5;241;43m.\u001b[39;49m\u001b[43mtext\u001b[49m\n",
      "File \u001b[1;32m~\\AppData\\Roaming\\Python\\Python312\\site-packages\\vertexai\\generative_models\\_generative_models.py:1783\u001b[0m, in \u001b[0;36mContent.text\u001b[1;34m(self)\u001b[0m\n\u001b[0;32m   1781\u001b[0m     \u001b[38;5;28;01mraise\u001b[39;00m \u001b[38;5;167;01mValueError\u001b[39;00m(\u001b[38;5;124m\"\u001b[39m\u001b[38;5;124mMultiple content parts are not supported.\u001b[39m\u001b[38;5;124m\"\u001b[39m)\n\u001b[0;32m   1782\u001b[0m \u001b[38;5;28;01mif\u001b[39;00m \u001b[38;5;129;01mnot\u001b[39;00m \u001b[38;5;28mself\u001b[39m\u001b[38;5;241m.\u001b[39mparts:\n\u001b[1;32m-> 1783\u001b[0m     \u001b[38;5;28;01mraise\u001b[39;00m \u001b[38;5;167;01mAttributeError\u001b[39;00m(\u001b[38;5;124m\"\u001b[39m\u001b[38;5;124mContent has no parts.\u001b[39m\u001b[38;5;124m\"\u001b[39m)\n\u001b[0;32m   1784\u001b[0m \u001b[38;5;28;01mreturn\u001b[39;00m \u001b[38;5;28mself\u001b[39m\u001b[38;5;241m.\u001b[39mparts[\u001b[38;5;241m0\u001b[39m]\u001b[38;5;241m.\u001b[39mtext\n",
      "\u001b[1;31mAttributeError\u001b[0m: Content has no parts."
     ]
    }
   ],
   "source": [
    "out = []\n",
    "numberSamples = 40\n",
    "for idx , msg in enumerate(multEmotionDF[\"text\"][:numberSamples]):\n",
    "    print(idx, msg)\n",
    "    response, responsetxt = generateResponseInstr(testPrompt5, msg) # classify the emotion\n",
    "    print(response.text)\n",
    "    out.append(int(response.text[0]))\n",
    "    time.sleep(10) # delay for 5 seconds to avoid the rate limit"
   ]
  },
  {
   "cell_type": "code",
   "execution_count": 85,
   "metadata": {},
   "outputs": [
    {
     "name": "stdout",
     "output_type": "stream",
     "text": [
      "[1, 2, 2, 0, 0, 1, 2, 2, 0, 0, 1, 2, 2, 0, 0, 1, 2, 2, 0, 0]\n"
     ]
    },
    {
     "ename": "ValueError",
     "evalue": "Found input variables with inconsistent numbers of samples: [40, 20]",
     "output_type": "error",
     "traceback": [
      "\u001b[1;31m---------------------------------------------------------------------------\u001b[0m",
      "\u001b[1;31mValueError\u001b[0m                                Traceback (most recent call last)",
      "Cell \u001b[1;32mIn[85], line 3\u001b[0m\n\u001b[0;32m      1\u001b[0m \u001b[38;5;28mprint\u001b[39m(out)\n\u001b[1;32m----> 3\u001b[0m accuracy \u001b[38;5;241m=\u001b[39m\u001b[43maccuracy_score\u001b[49m\u001b[43m(\u001b[49m\u001b[43mmultEmotionDF\u001b[49m\u001b[43m[\u001b[49m\u001b[38;5;124;43m\"\u001b[39;49m\u001b[38;5;124;43mlabel\u001b[39;49m\u001b[38;5;124;43m\"\u001b[39;49m\u001b[43m]\u001b[49m\u001b[43m[\u001b[49m\u001b[43m:\u001b[49m\u001b[43mnumberSamples\u001b[49m\u001b[43m]\u001b[49m\u001b[38;5;241;43m.\u001b[39;49m\u001b[43mastype\u001b[49m\u001b[43m(\u001b[49m\u001b[38;5;28;43mint\u001b[39;49m\u001b[43m)\u001b[49m\u001b[43m,\u001b[49m\u001b[43m \u001b[49m\u001b[43mout\u001b[49m\u001b[43m)\u001b[49m\n",
      "File \u001b[1;32m~\\AppData\\Roaming\\Python\\Python312\\site-packages\\sklearn\\utils\\_param_validation.py:213\u001b[0m, in \u001b[0;36mvalidate_params.<locals>.decorator.<locals>.wrapper\u001b[1;34m(*args, **kwargs)\u001b[0m\n\u001b[0;32m    207\u001b[0m \u001b[38;5;28;01mtry\u001b[39;00m:\n\u001b[0;32m    208\u001b[0m     \u001b[38;5;28;01mwith\u001b[39;00m config_context(\n\u001b[0;32m    209\u001b[0m         skip_parameter_validation\u001b[38;5;241m=\u001b[39m(\n\u001b[0;32m    210\u001b[0m             prefer_skip_nested_validation \u001b[38;5;129;01mor\u001b[39;00m global_skip_validation\n\u001b[0;32m    211\u001b[0m         )\n\u001b[0;32m    212\u001b[0m     ):\n\u001b[1;32m--> 213\u001b[0m         \u001b[38;5;28;01mreturn\u001b[39;00m \u001b[43mfunc\u001b[49m\u001b[43m(\u001b[49m\u001b[38;5;241;43m*\u001b[39;49m\u001b[43margs\u001b[49m\u001b[43m,\u001b[49m\u001b[43m \u001b[49m\u001b[38;5;241;43m*\u001b[39;49m\u001b[38;5;241;43m*\u001b[39;49m\u001b[43mkwargs\u001b[49m\u001b[43m)\u001b[49m\n\u001b[0;32m    214\u001b[0m \u001b[38;5;28;01mexcept\u001b[39;00m InvalidParameterError \u001b[38;5;28;01mas\u001b[39;00m e:\n\u001b[0;32m    215\u001b[0m     \u001b[38;5;66;03m# When the function is just a wrapper around an estimator, we allow\u001b[39;00m\n\u001b[0;32m    216\u001b[0m     \u001b[38;5;66;03m# the function to delegate validation to the estimator, but we replace\u001b[39;00m\n\u001b[0;32m    217\u001b[0m     \u001b[38;5;66;03m# the name of the estimator by the name of the function in the error\u001b[39;00m\n\u001b[0;32m    218\u001b[0m     \u001b[38;5;66;03m# message to avoid confusion.\u001b[39;00m\n\u001b[0;32m    219\u001b[0m     msg \u001b[38;5;241m=\u001b[39m re\u001b[38;5;241m.\u001b[39msub(\n\u001b[0;32m    220\u001b[0m         \u001b[38;5;124mr\u001b[39m\u001b[38;5;124m\"\u001b[39m\u001b[38;5;124mparameter of \u001b[39m\u001b[38;5;124m\\\u001b[39m\u001b[38;5;124mw+ must be\u001b[39m\u001b[38;5;124m\"\u001b[39m,\n\u001b[0;32m    221\u001b[0m         \u001b[38;5;124mf\u001b[39m\u001b[38;5;124m\"\u001b[39m\u001b[38;5;124mparameter of \u001b[39m\u001b[38;5;132;01m{\u001b[39;00mfunc\u001b[38;5;241m.\u001b[39m\u001b[38;5;18m__qualname__\u001b[39m\u001b[38;5;132;01m}\u001b[39;00m\u001b[38;5;124m must be\u001b[39m\u001b[38;5;124m\"\u001b[39m,\n\u001b[0;32m    222\u001b[0m         \u001b[38;5;28mstr\u001b[39m(e),\n\u001b[0;32m    223\u001b[0m     )\n",
      "File \u001b[1;32m~\\AppData\\Roaming\\Python\\Python312\\site-packages\\sklearn\\metrics\\_classification.py:213\u001b[0m, in \u001b[0;36maccuracy_score\u001b[1;34m(y_true, y_pred, normalize, sample_weight)\u001b[0m\n\u001b[0;32m    147\u001b[0m \u001b[38;5;250m\u001b[39m\u001b[38;5;124;03m\"\"\"Accuracy classification score.\u001b[39;00m\n\u001b[0;32m    148\u001b[0m \n\u001b[0;32m    149\u001b[0m \u001b[38;5;124;03mIn multilabel classification, this function computes subset accuracy:\u001b[39;00m\n\u001b[1;32m   (...)\u001b[0m\n\u001b[0;32m    209\u001b[0m \u001b[38;5;124;03m0.5\u001b[39;00m\n\u001b[0;32m    210\u001b[0m \u001b[38;5;124;03m\"\"\"\u001b[39;00m\n\u001b[0;32m    212\u001b[0m \u001b[38;5;66;03m# Compute accuracy for each possible representation\u001b[39;00m\n\u001b[1;32m--> 213\u001b[0m y_type, y_true, y_pred \u001b[38;5;241m=\u001b[39m \u001b[43m_check_targets\u001b[49m\u001b[43m(\u001b[49m\u001b[43my_true\u001b[49m\u001b[43m,\u001b[49m\u001b[43m \u001b[49m\u001b[43my_pred\u001b[49m\u001b[43m)\u001b[49m\n\u001b[0;32m    214\u001b[0m check_consistent_length(y_true, y_pred, sample_weight)\n\u001b[0;32m    215\u001b[0m \u001b[38;5;28;01mif\u001b[39;00m y_type\u001b[38;5;241m.\u001b[39mstartswith(\u001b[38;5;124m\"\u001b[39m\u001b[38;5;124mmultilabel\u001b[39m\u001b[38;5;124m\"\u001b[39m):\n",
      "File \u001b[1;32m~\\AppData\\Roaming\\Python\\Python312\\site-packages\\sklearn\\metrics\\_classification.py:85\u001b[0m, in \u001b[0;36m_check_targets\u001b[1;34m(y_true, y_pred)\u001b[0m\n\u001b[0;32m     58\u001b[0m \u001b[38;5;28;01mdef\u001b[39;00m \u001b[38;5;21m_check_targets\u001b[39m(y_true, y_pred):\n\u001b[0;32m     59\u001b[0m \u001b[38;5;250m    \u001b[39m\u001b[38;5;124;03m\"\"\"Check that y_true and y_pred belong to the same classification task.\u001b[39;00m\n\u001b[0;32m     60\u001b[0m \n\u001b[0;32m     61\u001b[0m \u001b[38;5;124;03m    This converts multiclass or binary types to a common shape, and raises a\u001b[39;00m\n\u001b[1;32m   (...)\u001b[0m\n\u001b[0;32m     83\u001b[0m \u001b[38;5;124;03m    y_pred : array or indicator matrix\u001b[39;00m\n\u001b[0;32m     84\u001b[0m \u001b[38;5;124;03m    \"\"\"\u001b[39;00m\n\u001b[1;32m---> 85\u001b[0m     \u001b[43mcheck_consistent_length\u001b[49m\u001b[43m(\u001b[49m\u001b[43my_true\u001b[49m\u001b[43m,\u001b[49m\u001b[43m \u001b[49m\u001b[43my_pred\u001b[49m\u001b[43m)\u001b[49m\n\u001b[0;32m     86\u001b[0m     type_true \u001b[38;5;241m=\u001b[39m type_of_target(y_true, input_name\u001b[38;5;241m=\u001b[39m\u001b[38;5;124m\"\u001b[39m\u001b[38;5;124my_true\u001b[39m\u001b[38;5;124m\"\u001b[39m)\n\u001b[0;32m     87\u001b[0m     type_pred \u001b[38;5;241m=\u001b[39m type_of_target(y_pred, input_name\u001b[38;5;241m=\u001b[39m\u001b[38;5;124m\"\u001b[39m\u001b[38;5;124my_pred\u001b[39m\u001b[38;5;124m\"\u001b[39m)\n",
      "File \u001b[1;32m~\\AppData\\Roaming\\Python\\Python312\\site-packages\\sklearn\\utils\\validation.py:457\u001b[0m, in \u001b[0;36mcheck_consistent_length\u001b[1;34m(*arrays)\u001b[0m\n\u001b[0;32m    455\u001b[0m uniques \u001b[38;5;241m=\u001b[39m np\u001b[38;5;241m.\u001b[39munique(lengths)\n\u001b[0;32m    456\u001b[0m \u001b[38;5;28;01mif\u001b[39;00m \u001b[38;5;28mlen\u001b[39m(uniques) \u001b[38;5;241m>\u001b[39m \u001b[38;5;241m1\u001b[39m:\n\u001b[1;32m--> 457\u001b[0m     \u001b[38;5;28;01mraise\u001b[39;00m \u001b[38;5;167;01mValueError\u001b[39;00m(\n\u001b[0;32m    458\u001b[0m         \u001b[38;5;124m\"\u001b[39m\u001b[38;5;124mFound input variables with inconsistent numbers of samples: \u001b[39m\u001b[38;5;132;01m%r\u001b[39;00m\u001b[38;5;124m\"\u001b[39m\n\u001b[0;32m    459\u001b[0m         \u001b[38;5;241m%\u001b[39m [\u001b[38;5;28mint\u001b[39m(l) \u001b[38;5;28;01mfor\u001b[39;00m l \u001b[38;5;129;01min\u001b[39;00m lengths]\n\u001b[0;32m    460\u001b[0m     )\n",
      "\u001b[1;31mValueError\u001b[0m: Found input variables with inconsistent numbers of samples: [40, 20]"
     ]
    }
   ],
   "source": [
    "print(out)\n",
    "    \n",
    "accuracy =accuracy_score(multEmotionDF[\"label\"][:numberSamples].astype(int), out)"
   ]
  },
  {
   "cell_type": "code",
   "execution_count": 88,
   "metadata": {},
   "outputs": [
    {
     "name": "stdout",
     "output_type": "stream",
     "text": [
      "80.0 %\n"
     ]
    }
   ],
   "source": [
    "lastIdx = len(out)\n",
    "accuracy =accuracy_score(multEmotionDF[\"label\"][:lastIdx].astype(int), out)\n",
    "print(f\"{accuracy*100} %\")"
   ]
  },
  {
   "cell_type": "code",
   "execution_count": 89,
   "metadata": {},
   "outputs": [
    {
     "name": "stderr",
     "output_type": "stream",
     "text": [
      "C:\\Users\\johnsonhk88\\AppData\\Roaming\\Python\\Python312\\site-packages\\sklearn\\metrics\\_classification.py:1509: UndefinedMetricWarning: Precision is ill-defined and being set to 0.0 in labels with no predicted samples. Use `zero_division` parameter to control this behavior.\n",
      "  _warn_prf(average, modifier, f\"{metric.capitalize()} is\", len(result))\n",
      "C:\\Users\\johnsonhk88\\AppData\\Roaming\\Python\\Python312\\site-packages\\sklearn\\metrics\\_classification.py:1509: UndefinedMetricWarning: Precision is ill-defined and being set to 0.0 in labels with no predicted samples. Use `zero_division` parameter to control this behavior.\n",
      "  _warn_prf(average, modifier, f\"{metric.capitalize()} is\", len(result))\n",
      "C:\\Users\\johnsonhk88\\AppData\\Roaming\\Python\\Python312\\site-packages\\sklearn\\metrics\\_classification.py:1509: UndefinedMetricWarning: Precision is ill-defined and being set to 0.0 in labels with no predicted samples. Use `zero_division` parameter to control this behavior.\n",
      "  _warn_prf(average, modifier, f\"{metric.capitalize()} is\", len(result))\n"
     ]
    },
    {
     "data": {
      "text/html": [
       "<div>\n",
       "<style scoped>\n",
       "    .dataframe tbody tr th:only-of-type {\n",
       "        vertical-align: middle;\n",
       "    }\n",
       "\n",
       "    .dataframe tbody tr th {\n",
       "        vertical-align: top;\n",
       "    }\n",
       "\n",
       "    .dataframe thead th {\n",
       "        text-align: right;\n",
       "    }\n",
       "</style>\n",
       "<table border=\"1\" class=\"dataframe\">\n",
       "  <thead>\n",
       "    <tr style=\"text-align: right;\">\n",
       "      <th></th>\n",
       "      <th>precision</th>\n",
       "      <th>recall</th>\n",
       "      <th>f1-score</th>\n",
       "      <th>support</th>\n",
       "    </tr>\n",
       "  </thead>\n",
       "  <tbody>\n",
       "    <tr>\n",
       "      <th>0</th>\n",
       "      <td>1.000</td>\n",
       "      <td>1.00</td>\n",
       "      <td>1.000000</td>\n",
       "      <td>8.0</td>\n",
       "    </tr>\n",
       "    <tr>\n",
       "      <th>1</th>\n",
       "      <td>1.000</td>\n",
       "      <td>1.00</td>\n",
       "      <td>1.000000</td>\n",
       "      <td>4.0</td>\n",
       "    </tr>\n",
       "    <tr>\n",
       "      <th>2</th>\n",
       "      <td>0.500</td>\n",
       "      <td>1.00</td>\n",
       "      <td>0.666667</td>\n",
       "      <td>4.0</td>\n",
       "    </tr>\n",
       "    <tr>\n",
       "      <th>3</th>\n",
       "      <td>0.000</td>\n",
       "      <td>0.00</td>\n",
       "      <td>0.000000</td>\n",
       "      <td>4.0</td>\n",
       "    </tr>\n",
       "    <tr>\n",
       "      <th>accuracy</th>\n",
       "      <td>0.800</td>\n",
       "      <td>0.80</td>\n",
       "      <td>0.800000</td>\n",
       "      <td>0.8</td>\n",
       "    </tr>\n",
       "    <tr>\n",
       "      <th>macro avg</th>\n",
       "      <td>0.625</td>\n",
       "      <td>0.75</td>\n",
       "      <td>0.666667</td>\n",
       "      <td>20.0</td>\n",
       "    </tr>\n",
       "    <tr>\n",
       "      <th>weighted avg</th>\n",
       "      <td>0.700</td>\n",
       "      <td>0.80</td>\n",
       "      <td>0.733333</td>\n",
       "      <td>20.0</td>\n",
       "    </tr>\n",
       "  </tbody>\n",
       "</table>\n",
       "</div>"
      ],
      "text/plain": [
       "              precision  recall  f1-score  support\n",
       "0                 1.000    1.00  1.000000      8.0\n",
       "1                 1.000    1.00  1.000000      4.0\n",
       "2                 0.500    1.00  0.666667      4.0\n",
       "3                 0.000    0.00  0.000000      4.0\n",
       "accuracy          0.800    0.80  0.800000      0.8\n",
       "macro avg         0.625    0.75  0.666667     20.0\n",
       "weighted avg      0.700    0.80  0.733333     20.0"
      ]
     },
     "execution_count": 89,
     "metadata": {},
     "output_type": "execute_result"
    }
   ],
   "source": [
    "reportNoTrain =classification_report(multEmotionDF[\"label\"][:lastIdx].astype(int), out, output_dict=True)\n",
    "reportNoTrainedDF = pd.DataFrame(reportNoTrain).transpose()\n",
    "reportNoTrainedDF"
   ]
  },
  {
   "cell_type": "code",
   "execution_count": 90,
   "metadata": {},
   "outputs": [],
   "source": [
    "reportNoTrainedDF.to_csv(\"noTrain_nult_classification_report.csv\")"
   ]
  },
  {
   "cell_type": "markdown",
   "metadata": {},
   "source": [
    "## few shot Prompt"
   ]
  },
  {
   "cell_type": "code",
   "execution_count": 78,
   "metadata": {},
   "outputs": [
    {
     "name": "stdout",
     "output_type": "stream",
     "text": [
      "0 I feel so empty and alone.\n",
      "1\n",
      "1 My mind is racing and I can't seem to relax. \n",
      "2\n",
      "2 I'm so overwhelmed, I don't know what to do.\n",
      "2\n",
      "3 I'm feeling good today.\n",
      "0\n",
      "4 I'm excited about the future.\n",
      "0\n",
      "5 I feel like a failure.\n",
      "1\n",
      "6 I'm constantly worried about making mistakes.\n",
      "2\n",
      "7 I feel like I'm going crazy.\n",
      "3\n",
      "8 I'm enjoying this beautiful day.\n",
      "0\n",
      "9 I'm looking forward to spending time with my friends.\n",
      "0\n",
      "10 I feel like I'm drowning in my own sadness.\n",
      "1\n",
      "11 I can't stop thinking about all the things that could go wrong.\n",
      "2\n",
      "12 I'm terrified of the future.\n",
      "3\n",
      "13 I'm feeling content and peaceful.\n",
      "0\n",
      "14 I'm grateful for all the good things in my life.\n",
      "0\n",
      "15 I feel like giving up.\n",
      "1\n",
      "16 I'm constantly on edge.\n",
      "2\n",
      "17 I feel like I'm trapped in a nightmare.\n",
      "3\n",
      "18 I'm happy with where I am in life.\n",
      "0\n",
      "19 I'm optimistic about the future.\n",
      "0\n",
      "20 I feel like I'm a burden to everyone.\n"
     ]
    },
    {
     "ename": "AttributeError",
     "evalue": "Content has no parts.",
     "output_type": "error",
     "traceback": [
      "\u001b[1;31m---------------------------------------------------------------------------\u001b[0m",
      "\u001b[1;31mAttributeError\u001b[0m                            Traceback (most recent call last)",
      "Cell \u001b[1;32mIn[78], line 5\u001b[0m\n\u001b[0;32m      3\u001b[0m \u001b[38;5;28;01mfor\u001b[39;00m idx , msg \u001b[38;5;129;01min\u001b[39;00m \u001b[38;5;28menumerate\u001b[39m(multEmotionDF[\u001b[38;5;124m\"\u001b[39m\u001b[38;5;124mtext\u001b[39m\u001b[38;5;124m\"\u001b[39m][:numberSamples]):\n\u001b[0;32m      4\u001b[0m     \u001b[38;5;28mprint\u001b[39m(idx, msg)\n\u001b[1;32m----> 5\u001b[0m     response, responsetxt \u001b[38;5;241m=\u001b[39m \u001b[43mgenerateResponseInstr\u001b[49m\u001b[43m(\u001b[49m\u001b[43m \u001b[49m\u001b[43mgenPromptMult\u001b[49m\u001b[38;5;241;43m+\u001b[39;49m\u001b[43mtestPrompt5\u001b[49m\u001b[43m,\u001b[49m\u001b[43m \u001b[49m\u001b[43mmsg\u001b[49m\u001b[43m)\u001b[49m \u001b[38;5;66;03m# classify the emotion\u001b[39;00m\n\u001b[0;32m      6\u001b[0m     \u001b[38;5;28mprint\u001b[39m(response\u001b[38;5;241m.\u001b[39mtext)\n\u001b[0;32m      7\u001b[0m     out\u001b[38;5;241m.\u001b[39mappend(\u001b[38;5;28mint\u001b[39m(response\u001b[38;5;241m.\u001b[39mtext[\u001b[38;5;241m0\u001b[39m]))\n",
      "Cell \u001b[1;32mIn[13], line 6\u001b[0m, in \u001b[0;36mgenerateResponseInstr\u001b[1;34m(prompTemp, message)\u001b[0m\n\u001b[0;32m      2\u001b[0m response \u001b[38;5;241m=\u001b[39m model\u001b[38;5;241m.\u001b[39mgenerate_content(\u001b[38;5;124mf\u001b[39m\u001b[38;5;124m\"\"\"\u001b[39m\n\u001b[0;32m      3\u001b[0m \u001b[38;5;124m\u001b[39m\u001b[38;5;132;01m{\u001b[39;00mprompTemp\u001b[38;5;132;01m}\u001b[39;00m\n\u001b[0;32m      4\u001b[0m \u001b[38;5;124m\u001b[39m\u001b[38;5;132;01m{\u001b[39;00mmessage\u001b[38;5;132;01m}\u001b[39;00m\u001b[38;5;124m\"\"\"\u001b[39m)\n\u001b[0;32m      5\u001b[0m \u001b[38;5;66;03m# print(response.text)\u001b[39;00m\n\u001b[1;32m----> 6\u001b[0m \u001b[38;5;28;01mreturn\u001b[39;00m response, \u001b[43mresponse\u001b[49m\u001b[38;5;241;43m.\u001b[39;49m\u001b[43mtext\u001b[49m\n",
      "File \u001b[1;32m~\\AppData\\Roaming\\Python\\Python312\\site-packages\\vertexai\\generative_models\\_generative_models.py:1643\u001b[0m, in \u001b[0;36mGenerationResponse.text\u001b[1;34m(self)\u001b[0m\n\u001b[0;32m   1641\u001b[0m \u001b[38;5;28;01mif\u001b[39;00m \u001b[38;5;129;01mnot\u001b[39;00m \u001b[38;5;28mself\u001b[39m\u001b[38;5;241m.\u001b[39mcandidates:\n\u001b[0;32m   1642\u001b[0m     \u001b[38;5;28;01mraise\u001b[39;00m \u001b[38;5;167;01mValueError\u001b[39;00m(\u001b[38;5;124m\"\u001b[39m\u001b[38;5;124mResponse has no candidates (and no text).\u001b[39m\u001b[38;5;124m\"\u001b[39m)\n\u001b[1;32m-> 1643\u001b[0m \u001b[38;5;28;01mreturn\u001b[39;00m \u001b[38;5;28;43mself\u001b[39;49m\u001b[38;5;241;43m.\u001b[39;49m\u001b[43mcandidates\u001b[49m\u001b[43m[\u001b[49m\u001b[38;5;241;43m0\u001b[39;49m\u001b[43m]\u001b[49m\u001b[38;5;241;43m.\u001b[39;49m\u001b[43mtext\u001b[49m\n",
      "File \u001b[1;32m~\\AppData\\Roaming\\Python\\Python312\\site-packages\\vertexai\\generative_models\\_generative_models.py:1712\u001b[0m, in \u001b[0;36mCandidate.text\u001b[1;34m(self)\u001b[0m\n\u001b[0;32m   1710\u001b[0m \u001b[38;5;129m@property\u001b[39m\n\u001b[0;32m   1711\u001b[0m \u001b[38;5;28;01mdef\u001b[39;00m \u001b[38;5;21mtext\u001b[39m(\u001b[38;5;28mself\u001b[39m) \u001b[38;5;241m-\u001b[39m\u001b[38;5;241m>\u001b[39m \u001b[38;5;28mstr\u001b[39m:\n\u001b[1;32m-> 1712\u001b[0m     \u001b[38;5;28;01mreturn\u001b[39;00m \u001b[38;5;28;43mself\u001b[39;49m\u001b[38;5;241;43m.\u001b[39;49m\u001b[43mcontent\u001b[49m\u001b[38;5;241;43m.\u001b[39;49m\u001b[43mtext\u001b[49m\n",
      "File \u001b[1;32m~\\AppData\\Roaming\\Python\\Python312\\site-packages\\vertexai\\generative_models\\_generative_models.py:1783\u001b[0m, in \u001b[0;36mContent.text\u001b[1;34m(self)\u001b[0m\n\u001b[0;32m   1781\u001b[0m     \u001b[38;5;28;01mraise\u001b[39;00m \u001b[38;5;167;01mValueError\u001b[39;00m(\u001b[38;5;124m\"\u001b[39m\u001b[38;5;124mMultiple content parts are not supported.\u001b[39m\u001b[38;5;124m\"\u001b[39m)\n\u001b[0;32m   1782\u001b[0m \u001b[38;5;28;01mif\u001b[39;00m \u001b[38;5;129;01mnot\u001b[39;00m \u001b[38;5;28mself\u001b[39m\u001b[38;5;241m.\u001b[39mparts:\n\u001b[1;32m-> 1783\u001b[0m     \u001b[38;5;28;01mraise\u001b[39;00m \u001b[38;5;167;01mAttributeError\u001b[39;00m(\u001b[38;5;124m\"\u001b[39m\u001b[38;5;124mContent has no parts.\u001b[39m\u001b[38;5;124m\"\u001b[39m)\n\u001b[0;32m   1784\u001b[0m \u001b[38;5;28;01mreturn\u001b[39;00m \u001b[38;5;28mself\u001b[39m\u001b[38;5;241m.\u001b[39mparts[\u001b[38;5;241m0\u001b[39m]\u001b[38;5;241m.\u001b[39mtext\n",
      "\u001b[1;31mAttributeError\u001b[0m: Content has no parts."
     ]
    }
   ],
   "source": [
    "out = []\n",
    "numberSamples = 40\n",
    "for idx , msg in enumerate(multEmotionDF[\"text\"][:numberSamples]):\n",
    "    print(idx, msg)\n",
    "    response, responsetxt = generateResponseInstr( genPromptMult+testPrompt5, msg) # classify the emotion\n",
    "    print(response.text)\n",
    "    out.append(int(response.text[0]))\n",
    "    time.sleep(10) # delay for 5 seconds to avoid the rate limit\n",
    "    \n",
    "\n",
    "print(out)\n",
    "    \n",
    "accuracy =accuracy_score(multEmotionDF[\"label\"][:numberSamples].astype(int), out)"
   ]
  },
  {
   "cell_type": "code",
   "execution_count": 81,
   "metadata": {},
   "outputs": [
    {
     "name": "stdout",
     "output_type": "stream",
     "text": [
      "95.0 %\n"
     ]
    }
   ],
   "source": [
    "lastIdx = len(out)\n",
    "accuracy =accuracy_score(multEmotionDF[\"label\"][:lastIdx].astype(int), out)\n",
    "print(f\"{accuracy*100} %\")"
   ]
  },
  {
   "cell_type": "code",
   "execution_count": 82,
   "metadata": {},
   "outputs": [
    {
     "data": {
      "text/html": [
       "<div>\n",
       "<style scoped>\n",
       "    .dataframe tbody tr th:only-of-type {\n",
       "        vertical-align: middle;\n",
       "    }\n",
       "\n",
       "    .dataframe tbody tr th {\n",
       "        vertical-align: top;\n",
       "    }\n",
       "\n",
       "    .dataframe thead th {\n",
       "        text-align: right;\n",
       "    }\n",
       "</style>\n",
       "<table border=\"1\" class=\"dataframe\">\n",
       "  <thead>\n",
       "    <tr style=\"text-align: right;\">\n",
       "      <th></th>\n",
       "      <th>precision</th>\n",
       "      <th>recall</th>\n",
       "      <th>f1-score</th>\n",
       "      <th>support</th>\n",
       "    </tr>\n",
       "  </thead>\n",
       "  <tbody>\n",
       "    <tr>\n",
       "      <th>0</th>\n",
       "      <td>1.00</td>\n",
       "      <td>1.0000</td>\n",
       "      <td>1.000000</td>\n",
       "      <td>8.00</td>\n",
       "    </tr>\n",
       "    <tr>\n",
       "      <th>1</th>\n",
       "      <td>1.00</td>\n",
       "      <td>1.0000</td>\n",
       "      <td>1.000000</td>\n",
       "      <td>4.00</td>\n",
       "    </tr>\n",
       "    <tr>\n",
       "      <th>2</th>\n",
       "      <td>0.80</td>\n",
       "      <td>1.0000</td>\n",
       "      <td>0.888889</td>\n",
       "      <td>4.00</td>\n",
       "    </tr>\n",
       "    <tr>\n",
       "      <th>3</th>\n",
       "      <td>1.00</td>\n",
       "      <td>0.7500</td>\n",
       "      <td>0.857143</td>\n",
       "      <td>4.00</td>\n",
       "    </tr>\n",
       "    <tr>\n",
       "      <th>accuracy</th>\n",
       "      <td>0.95</td>\n",
       "      <td>0.9500</td>\n",
       "      <td>0.950000</td>\n",
       "      <td>0.95</td>\n",
       "    </tr>\n",
       "    <tr>\n",
       "      <th>macro avg</th>\n",
       "      <td>0.95</td>\n",
       "      <td>0.9375</td>\n",
       "      <td>0.936508</td>\n",
       "      <td>20.00</td>\n",
       "    </tr>\n",
       "    <tr>\n",
       "      <th>weighted avg</th>\n",
       "      <td>0.96</td>\n",
       "      <td>0.9500</td>\n",
       "      <td>0.949206</td>\n",
       "      <td>20.00</td>\n",
       "    </tr>\n",
       "  </tbody>\n",
       "</table>\n",
       "</div>"
      ],
      "text/plain": [
       "              precision  recall  f1-score  support\n",
       "0                  1.00  1.0000  1.000000     8.00\n",
       "1                  1.00  1.0000  1.000000     4.00\n",
       "2                  0.80  1.0000  0.888889     4.00\n",
       "3                  1.00  0.7500  0.857143     4.00\n",
       "accuracy           0.95  0.9500  0.950000     0.95\n",
       "macro avg          0.95  0.9375  0.936508    20.00\n",
       "weighted avg       0.96  0.9500  0.949206    20.00"
      ]
     },
     "execution_count": 82,
     "metadata": {},
     "output_type": "execute_result"
    }
   ],
   "source": [
    "reportTrained =classification_report(multEmotionDF[\"label\"][:lastIdx].astype(int), out, output_dict=True)\n",
    "reportTrainedDF = pd.DataFrame(reportTrained).transpose()\n",
    "reportTrainedDF"
   ]
  },
  {
   "cell_type": "code",
   "execution_count": 83,
   "metadata": {},
   "outputs": [],
   "source": [
    "reportTrainedDF.to_csv(\"trained_nult_classification_report.csv\")"
   ]
  },
  {
   "cell_type": "code",
   "execution_count": null,
   "metadata": {},
   "outputs": [],
   "source": []
  }
 ],
 "metadata": {
  "kernelspec": {
   "display_name": "Python 3",
   "language": "python",
   "name": "python3"
  },
  "language_info": {
   "codemirror_mode": {
    "name": "ipython",
    "version": 3
   },
   "file_extension": ".py",
   "mimetype": "text/x-python",
   "name": "python",
   "nbconvert_exporter": "python",
   "pygments_lexer": "ipython3",
   "version": "3.12.3"
  }
 },
 "nbformat": 4,
 "nbformat_minor": 2
}
